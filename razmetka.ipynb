{
 "cells": [
  {
   "attachments": {},
   "cell_type": "markdown",
   "metadata": {},
   "source": [
    "## import"
   ]
  },
  {
   "cell_type": "code",
   "execution_count": 1,
   "metadata": {},
   "outputs": [],
   "source": [
    "from src.config.config import Config\n",
    "from src.db_writer.db import DB\n",
    "from src.quarter_functions import get_delivery, get_quarter_time_left, get_quarter_symbol\n",
    "import pandas as pd\n",
    "import numpy as np\n",
    "pd.set_option('display.max_columns', None)"
   ]
  },
  {
   "cell_type": "code",
   "execution_count": 2,
   "metadata": {},
   "outputs": [],
   "source": [
    "import matplotlib.pyplot as plt\n",
    "import seaborn as sns\n",
    "plt.rcParams[\"figure.figsize\"] = (12.8, 7.2)"
   ]
  },
  {
   "cell_type": "code",
   "execution_count": 3,
   "metadata": {},
   "outputs": [],
   "source": [
    "from tqdm import tqdm\n"
   ]
  },
  {
   "attachments": {},
   "cell_type": "markdown",
   "metadata": {},
   "source": [
    "## load data"
   ]
  },
  {
   "attachments": {},
   "cell_type": "markdown",
   "metadata": {},
   "source": [
    "### load from binance"
   ]
  },
  {
   "cell_type": "code",
   "execution_count": 4,
   "metadata": {},
   "outputs": [],
   "source": [
    "# config = Config()\n",
    "# db = DB(config)"
   ]
  },
  {
   "cell_type": "code",
   "execution_count": 5,
   "metadata": {},
   "outputs": [],
   "source": [
    "# BTC_perp_bid_ask['timestamp'].min(), BTC_perp_bid_ask['timestamp'].max()\n",
    "# (1661248680, 1684138560)"
   ]
  },
  {
   "cell_type": "code",
   "execution_count": 6,
   "metadata": {},
   "outputs": [],
   "source": [
    "# def preprocess_data(data, symbol):\n",
    "#     data_preprocessed = pd.DataFrame([[row[i] for i in [0,1,4,3,2,5,8]] for row in data], \n",
    "#                 columns=['timestamp', 'open', 'close', 'low', 'high', 'volume', 'trades'])\n",
    "#     data_preprocessed['timestamp']/=1000\n",
    "#     data_preprocessed.insert(column='symbol', loc=1, value=symbol)\n",
    "#     return data_preprocessed\n"
   ]
  },
  {
   "cell_type": "code",
   "execution_count": 7,
   "metadata": {},
   "outputs": [],
   "source": [
    "# def load_historical_perentrentual_data_batches(num_batches=1000):\n",
    "#     all_time_data = []\n",
    "#     endTime = (1684138560 + 30) * 1000\n",
    "#     while endTime > 1661248680 * 1000:\n",
    "#         all_time_data += config.binance_client.futures_klines(\n",
    "#                     symbol = config.symbol, \n",
    "#                     interval = '1m', \n",
    "#                     limit = 1500, \n",
    "#                     endTime = endTime)\n",
    "#         endTime -= 90000000\n",
    "#     return preprocess_data(all_time_data, 'BTCUSDT')        \n",
    "\n",
    "\n",
    "# def load_historical_quarterly_data_batches( num_batches=120):\n",
    "#     final_data = pd.DataFrame()\n",
    "#     endTime = (1684138560 + 30) * 1000\n",
    "#     symbol = get_quarter_symbol(config.symbol,endTime/1000)\n",
    "#     finished_trigger = False\n",
    "#     quarter_data = []\n",
    "#     while endTime > 1661248680 * 1000:\n",
    "#         for i in range(num_batches):\n",
    "#             data_1500 = config.binance_client.futures_klines(\n",
    "#                             symbol = symbol, \n",
    "#                             interval = '1m', \n",
    "#                             limit = 1500, \n",
    "#                             endTime = endTime)\n",
    "#             quarter_data += data_1500\n",
    "#             endTime -= 90000000\n",
    "            \n",
    "#             if(len(data_1500) < 1500):\n",
    "#                 finished_trigger = True\n",
    "#                 break\n",
    "\n",
    "#         if(finished_trigger == True):\n",
    "#             final_data = pd.concat([final_data, preprocess_data(quarter_data, symbol)])\n",
    "#             quarter_data = []\n",
    "#             print(f\"quarter {symbol} loading finished successfully\")\n",
    "#             symbol = get_quarter_symbol(config.symbol,endTime//1000)\n",
    "#             endTime = get_delivery(endTime//1000)*1000\n",
    "#             # print(f\"{symbol} quarter endTime is {endTime}\")\n",
    "#             finished_trigger = False\n",
    "#             print(f\"quarter {symbol} loading\")\n",
    "#         else:\n",
    "#             final_data = pd.concat([final_data, preprocess_data(quarter_data, symbol)])\n",
    "#             print(symbol, end=' ')   \n",
    "#     print(symbol)\n",
    "#     return final_data "
   ]
  },
  {
   "cell_type": "code",
   "execution_count": 8,
   "metadata": {},
   "outputs": [],
   "source": [
    "# load_historical_perentrentual_data_batches().to_csv('data/load_historical_perentrentual_data_batches.csv')"
   ]
  },
  {
   "cell_type": "code",
   "execution_count": 9,
   "metadata": {},
   "outputs": [],
   "source": [
    "# load_historical_quarterly_data_batches().to_csv('data/load_historical_quarterly_data_batches.csv')"
   ]
  },
  {
   "attachments": {},
   "cell_type": "markdown",
   "metadata": {},
   "source": [
    "### load from server"
   ]
  },
  {
   "cell_type": "code",
   "execution_count": 10,
   "metadata": {},
   "outputs": [],
   "source": [
    "# BTC_current_quarter = pd.read_sql('SELECT * FROM `exchange data`.BTC_current_quarter;', con=db.con)\n",
    "# BTC_current_quarter.to_csv('BTC_current_quarter.csv')\n",
    "\n",
    "# BTC_perpetual = pd.read_sql('SELECT * FROM `exchange data`.BTC_perpetual;', con=db.con)\n",
    "# BTC_perpetual.to_csv('BTC_perpetual.csv')\n",
    "\n",
    "# BTC_cq_bid_ask = pd.read_sql('SELECT * FROM `exchange data`.BTC_cq_bid_ask;', con=db.con)\n",
    "# BTC_cq_bid_ask.to_csv('data/BTC_cq_bid_ask.csv')\n",
    "\n",
    "# BTC_perp_bid_ask = pd.read_sql('SELECT * FROM `exchange data`.BTC_perp_bid_ask;', con=db.con)\n",
    "# BTC_perp_bid_ask.to_csv('data/BTC_perp_bid_ask.csv')"
   ]
  },
  {
   "cell_type": "code",
   "execution_count": 11,
   "metadata": {},
   "outputs": [],
   "source": [
    "BTC_current_quarter = pd.read_csv('data/load_historical_quarterly_data_batches.csv', index_col=[0])\n",
    "# BTC_current_quarter = pd.read_csv('data/BTC_current_quarter.csv', index_col=[0])\n",
    "BTC_perpetual = pd.read_csv('data/load_historical_perentrentual_data_batches.csv', index_col=[0])\n",
    "# BTC_perpetual = pd.read_csv('data/BTC_perpetual.csv', index_col=[0])\n",
    "BTC_cq_bid_ask = pd.read_csv('data/BTC_cq_bid_ask.csv', index_col=[0])\n",
    "BTC_perp_bid_ask = pd.read_csv('data/BTC_perp_bid_ask.csv', index_col=[0])"
   ]
  },
  {
   "cell_type": "code",
   "execution_count": 12,
   "metadata": {},
   "outputs": [],
   "source": [
    "BTC_current_quarter = BTC_current_quarter\\\n",
    "            .sort_values(['timestamp', 'symbol'])\\\n",
    "            .drop_duplicates(subset=['timestamp'], keep='first')\\\n",
    "            .reset_index(drop=True)\n",
    "\n",
    "BTC_perpetual.sort_values('timestamp', inplace=True)"
   ]
  },
  {
   "attachments": {},
   "cell_type": "markdown",
   "metadata": {},
   "source": [
    "### merge"
   ]
  },
  {
   "cell_type": "code",
   "execution_count": 13,
   "metadata": {},
   "outputs": [],
   "source": [
    "candles = BTC_perpetual.merge(\n",
    "            BTC_current_quarter, \n",
    "            on='timestamp', \n",
    "            how='left', \n",
    "            suffixes=['_perp', '_cq'])\n",
    "\n",
    "order_book = BTC_perp_bid_ask.merge(\n",
    "            BTC_cq_bid_ask, \n",
    "            on='timestamp', \n",
    "            suffixes=['_perp', '_cq'])\n",
    "\n",
    "\n",
    "candles = candles[candles['timestamp'] >= order_book['timestamp'].min()]\n",
    "\n",
    "\n",
    "df_total = candles.merge(\n",
    "            order_book, \n",
    "            on='timestamp',\n",
    "            how='left')"
   ]
  },
  {
   "cell_type": "code",
   "execution_count": 14,
   "metadata": {},
   "outputs": [],
   "source": [
    "# df_total = BTC_perpetual.merge(\n",
    "#                 BTC_perp_bid_ask.drop('funding_rate', axis=1), on='timestamp')\\\n",
    "#         .merge(\n",
    "#         BTC_current_quarter.merge(\n",
    "#                 BTC_cq_bid_ask.drop('time_left', axis=1), on='timestamp'),\n",
    "#         on = 'timestamp',\n",
    "#         suffixes=['_perp', '_cq']\n",
    "#         )"
   ]
  },
  {
   "cell_type": "code",
   "execution_count": 15,
   "metadata": {},
   "outputs": [],
   "source": [
    "df_total['timestamp'] = df_total['timestamp'].astype(int)\n",
    "df_total['time_left'] = df_total['timestamp'].apply(get_quarter_time_left)"
   ]
  },
  {
   "cell_type": "code",
   "execution_count": 16,
   "metadata": {},
   "outputs": [
    {
     "data": {
      "text/html": [
       "<div>\n",
       "<style scoped>\n",
       "    .dataframe tbody tr th:only-of-type {\n",
       "        vertical-align: middle;\n",
       "    }\n",
       "\n",
       "    .dataframe tbody tr th {\n",
       "        vertical-align: top;\n",
       "    }\n",
       "\n",
       "    .dataframe thead th {\n",
       "        text-align: right;\n",
       "    }\n",
       "</style>\n",
       "<table border=\"1\" class=\"dataframe\">\n",
       "  <thead>\n",
       "    <tr style=\"text-align: right;\">\n",
       "      <th></th>\n",
       "      <th>timestamp</th>\n",
       "      <th>symbol_perp</th>\n",
       "      <th>open_perp</th>\n",
       "      <th>close_perp</th>\n",
       "      <th>low_perp</th>\n",
       "      <th>high_perp</th>\n",
       "      <th>volume_perp</th>\n",
       "      <th>trades_perp</th>\n",
       "      <th>symbol_cq</th>\n",
       "      <th>open_cq</th>\n",
       "      <th>close_cq</th>\n",
       "      <th>low_cq</th>\n",
       "      <th>high_cq</th>\n",
       "      <th>volume_cq</th>\n",
       "      <th>trades_cq</th>\n",
       "      <th>bidPrice_perp</th>\n",
       "      <th>bidQty_perp</th>\n",
       "      <th>askPrice_perp</th>\n",
       "      <th>askQty_perp</th>\n",
       "      <th>funding_rate</th>\n",
       "      <th>bidPrice_cq</th>\n",
       "      <th>bidQty_cq</th>\n",
       "      <th>askPrice_cq</th>\n",
       "      <th>askQty_cq</th>\n",
       "      <th>time_left</th>\n",
       "    </tr>\n",
       "  </thead>\n",
       "  <tbody>\n",
       "    <tr>\n",
       "      <th>0</th>\n",
       "      <td>1661248680</td>\n",
       "      <td>BTCUSDT</td>\n",
       "      <td>21476.3</td>\n",
       "      <td>21459.6</td>\n",
       "      <td>21451.0</td>\n",
       "      <td>21479.8</td>\n",
       "      <td>413.330</td>\n",
       "      <td>3596</td>\n",
       "      <td>BTCUSDT_220930</td>\n",
       "      <td>21511.1</td>\n",
       "      <td>21483.9</td>\n",
       "      <td>21483.9</td>\n",
       "      <td>21511.1</td>\n",
       "      <td>1.659</td>\n",
       "      <td>22</td>\n",
       "      <td>21476.2</td>\n",
       "      <td>8.013</td>\n",
       "      <td>21476.3</td>\n",
       "      <td>6.975</td>\n",
       "      <td>0.000011</td>\n",
       "      <td>21502.4</td>\n",
       "      <td>0.019</td>\n",
       "      <td>21508.0</td>\n",
       "      <td>0.071</td>\n",
       "      <td>3276120</td>\n",
       "    </tr>\n",
       "    <tr>\n",
       "      <th>1</th>\n",
       "      <td>1661248740</td>\n",
       "      <td>BTCUSDT</td>\n",
       "      <td>21459.7</td>\n",
       "      <td>21430.2</td>\n",
       "      <td>21430.2</td>\n",
       "      <td>21459.7</td>\n",
       "      <td>378.801</td>\n",
       "      <td>3206</td>\n",
       "      <td>BTCUSDT_220930</td>\n",
       "      <td>21493.2</td>\n",
       "      <td>21453.5</td>\n",
       "      <td>21453.5</td>\n",
       "      <td>21493.2</td>\n",
       "      <td>0.579</td>\n",
       "      <td>40</td>\n",
       "      <td>21459.1</td>\n",
       "      <td>3.420</td>\n",
       "      <td>21459.2</td>\n",
       "      <td>14.399</td>\n",
       "      <td>0.000012</td>\n",
       "      <td>21487.4</td>\n",
       "      <td>0.019</td>\n",
       "      <td>21493.3</td>\n",
       "      <td>0.050</td>\n",
       "      <td>3276060</td>\n",
       "    </tr>\n",
       "    <tr>\n",
       "      <th>2</th>\n",
       "      <td>1661248800</td>\n",
       "      <td>BTCUSDT</td>\n",
       "      <td>21430.3</td>\n",
       "      <td>21445.0</td>\n",
       "      <td>21414.1</td>\n",
       "      <td>21445.0</td>\n",
       "      <td>619.156</td>\n",
       "      <td>5519</td>\n",
       "      <td>BTCUSDT_220930</td>\n",
       "      <td>21459.9</td>\n",
       "      <td>21478.3</td>\n",
       "      <td>21440.6</td>\n",
       "      <td>21478.4</td>\n",
       "      <td>1.392</td>\n",
       "      <td>46</td>\n",
       "      <td>21432.6</td>\n",
       "      <td>0.820</td>\n",
       "      <td>21434.3</td>\n",
       "      <td>0.004</td>\n",
       "      <td>0.000012</td>\n",
       "      <td>21456.4</td>\n",
       "      <td>0.169</td>\n",
       "      <td>21462.8</td>\n",
       "      <td>0.071</td>\n",
       "      <td>3276000</td>\n",
       "    </tr>\n",
       "    <tr>\n",
       "      <th>3</th>\n",
       "      <td>1661248860</td>\n",
       "      <td>BTCUSDT</td>\n",
       "      <td>21445.0</td>\n",
       "      <td>21445.0</td>\n",
       "      <td>21430.0</td>\n",
       "      <td>21446.8</td>\n",
       "      <td>311.295</td>\n",
       "      <td>3116</td>\n",
       "      <td>BTCUSDT_220930</td>\n",
       "      <td>21476.7</td>\n",
       "      <td>21470.2</td>\n",
       "      <td>21460.0</td>\n",
       "      <td>21476.7</td>\n",
       "      <td>1.419</td>\n",
       "      <td>41</td>\n",
       "      <td>21444.9</td>\n",
       "      <td>25.023</td>\n",
       "      <td>21445.0</td>\n",
       "      <td>1.005</td>\n",
       "      <td>0.000011</td>\n",
       "      <td>21476.7</td>\n",
       "      <td>0.100</td>\n",
       "      <td>21478.3</td>\n",
       "      <td>0.054</td>\n",
       "      <td>3275940</td>\n",
       "    </tr>\n",
       "    <tr>\n",
       "      <th>4</th>\n",
       "      <td>1661248920</td>\n",
       "      <td>BTCUSDT</td>\n",
       "      <td>21445.0</td>\n",
       "      <td>21431.2</td>\n",
       "      <td>21430.0</td>\n",
       "      <td>21448.6</td>\n",
       "      <td>250.049</td>\n",
       "      <td>2848</td>\n",
       "      <td>BTCUSDT_220930</td>\n",
       "      <td>21479.4</td>\n",
       "      <td>21463.8</td>\n",
       "      <td>21460.4</td>\n",
       "      <td>21479.5</td>\n",
       "      <td>0.400</td>\n",
       "      <td>24</td>\n",
       "      <td>21444.9</td>\n",
       "      <td>17.361</td>\n",
       "      <td>21445.0</td>\n",
       "      <td>1.806</td>\n",
       "      <td>0.000010</td>\n",
       "      <td>21471.6</td>\n",
       "      <td>0.019</td>\n",
       "      <td>21476.5</td>\n",
       "      <td>0.121</td>\n",
       "      <td>3275880</td>\n",
       "    </tr>\n",
       "  </tbody>\n",
       "</table>\n",
       "</div>"
      ],
      "text/plain": [
       "    timestamp symbol_perp  open_perp  close_perp  low_perp  high_perp  \\\n",
       "0  1661248680     BTCUSDT    21476.3     21459.6   21451.0    21479.8   \n",
       "1  1661248740     BTCUSDT    21459.7     21430.2   21430.2    21459.7   \n",
       "2  1661248800     BTCUSDT    21430.3     21445.0   21414.1    21445.0   \n",
       "3  1661248860     BTCUSDT    21445.0     21445.0   21430.0    21446.8   \n",
       "4  1661248920     BTCUSDT    21445.0     21431.2   21430.0    21448.6   \n",
       "\n",
       "   volume_perp  trades_perp       symbol_cq  open_cq  close_cq   low_cq  \\\n",
       "0      413.330         3596  BTCUSDT_220930  21511.1   21483.9  21483.9   \n",
       "1      378.801         3206  BTCUSDT_220930  21493.2   21453.5  21453.5   \n",
       "2      619.156         5519  BTCUSDT_220930  21459.9   21478.3  21440.6   \n",
       "3      311.295         3116  BTCUSDT_220930  21476.7   21470.2  21460.0   \n",
       "4      250.049         2848  BTCUSDT_220930  21479.4   21463.8  21460.4   \n",
       "\n",
       "   high_cq  volume_cq  trades_cq  bidPrice_perp  bidQty_perp  askPrice_perp  \\\n",
       "0  21511.1      1.659         22        21476.2        8.013        21476.3   \n",
       "1  21493.2      0.579         40        21459.1        3.420        21459.2   \n",
       "2  21478.4      1.392         46        21432.6        0.820        21434.3   \n",
       "3  21476.7      1.419         41        21444.9       25.023        21445.0   \n",
       "4  21479.5      0.400         24        21444.9       17.361        21445.0   \n",
       "\n",
       "   askQty_perp  funding_rate  bidPrice_cq  bidQty_cq  askPrice_cq  askQty_cq  \\\n",
       "0        6.975      0.000011      21502.4      0.019      21508.0      0.071   \n",
       "1       14.399      0.000012      21487.4      0.019      21493.3      0.050   \n",
       "2        0.004      0.000012      21456.4      0.169      21462.8      0.071   \n",
       "3        1.005      0.000011      21476.7      0.100      21478.3      0.054   \n",
       "4        1.806      0.000010      21471.6      0.019      21476.5      0.121   \n",
       "\n",
       "   time_left  \n",
       "0    3276120  \n",
       "1    3276060  \n",
       "2    3276000  \n",
       "3    3275940  \n",
       "4    3275880  "
      ]
     },
     "execution_count": 16,
     "metadata": {},
     "output_type": "execute_result"
    }
   ],
   "source": [
    "df_total.head()"
   ]
  },
  {
   "attachments": {},
   "cell_type": "markdown",
   "metadata": {},
   "source": [
    "### Fill missing"
   ]
  },
  {
   "cell_type": "code",
   "execution_count": 17,
   "metadata": {},
   "outputs": [],
   "source": [
    "df_total = df_total.interpolate()"
   ]
  },
  {
   "attachments": {},
   "cell_type": "markdown",
   "metadata": {},
   "source": [
    "## EDA"
   ]
  },
  {
   "cell_type": "code",
   "execution_count": 18,
   "metadata": {},
   "outputs": [
    {
     "data": {
      "text/html": [
       "<div>\n",
       "<style scoped>\n",
       "    .dataframe tbody tr th:only-of-type {\n",
       "        vertical-align: middle;\n",
       "    }\n",
       "\n",
       "    .dataframe tbody tr th {\n",
       "        vertical-align: top;\n",
       "    }\n",
       "\n",
       "    .dataframe thead th {\n",
       "        text-align: right;\n",
       "    }\n",
       "</style>\n",
       "<table border=\"1\" class=\"dataframe\">\n",
       "  <thead>\n",
       "    <tr style=\"text-align: right;\">\n",
       "      <th></th>\n",
       "      <th>timestamp</th>\n",
       "      <th>symbol_perp</th>\n",
       "      <th>open_perp</th>\n",
       "      <th>close_perp</th>\n",
       "      <th>low_perp</th>\n",
       "      <th>high_perp</th>\n",
       "      <th>volume_perp</th>\n",
       "      <th>trades_perp</th>\n",
       "      <th>symbol_cq</th>\n",
       "      <th>open_cq</th>\n",
       "      <th>close_cq</th>\n",
       "      <th>low_cq</th>\n",
       "      <th>high_cq</th>\n",
       "      <th>volume_cq</th>\n",
       "      <th>trades_cq</th>\n",
       "      <th>bidPrice_perp</th>\n",
       "      <th>bidQty_perp</th>\n",
       "      <th>askPrice_perp</th>\n",
       "      <th>askQty_perp</th>\n",
       "      <th>funding_rate</th>\n",
       "      <th>bidPrice_cq</th>\n",
       "      <th>bidQty_cq</th>\n",
       "      <th>askPrice_cq</th>\n",
       "      <th>askQty_cq</th>\n",
       "      <th>time_left</th>\n",
       "    </tr>\n",
       "  </thead>\n",
       "  <tbody>\n",
       "    <tr>\n",
       "      <th>0</th>\n",
       "      <td>1661248680</td>\n",
       "      <td>BTCUSDT</td>\n",
       "      <td>21476.3</td>\n",
       "      <td>21459.6</td>\n",
       "      <td>21451.0</td>\n",
       "      <td>21479.8</td>\n",
       "      <td>413.330</td>\n",
       "      <td>3596</td>\n",
       "      <td>BTCUSDT_220930</td>\n",
       "      <td>21511.1</td>\n",
       "      <td>21483.9</td>\n",
       "      <td>21483.9</td>\n",
       "      <td>21511.1</td>\n",
       "      <td>1.659</td>\n",
       "      <td>22</td>\n",
       "      <td>21476.2</td>\n",
       "      <td>8.013</td>\n",
       "      <td>21476.3</td>\n",
       "      <td>6.975</td>\n",
       "      <td>0.000011</td>\n",
       "      <td>21502.4</td>\n",
       "      <td>0.019</td>\n",
       "      <td>21508.0</td>\n",
       "      <td>0.071</td>\n",
       "      <td>3276120</td>\n",
       "    </tr>\n",
       "    <tr>\n",
       "      <th>1</th>\n",
       "      <td>1661248740</td>\n",
       "      <td>BTCUSDT</td>\n",
       "      <td>21459.7</td>\n",
       "      <td>21430.2</td>\n",
       "      <td>21430.2</td>\n",
       "      <td>21459.7</td>\n",
       "      <td>378.801</td>\n",
       "      <td>3206</td>\n",
       "      <td>BTCUSDT_220930</td>\n",
       "      <td>21493.2</td>\n",
       "      <td>21453.5</td>\n",
       "      <td>21453.5</td>\n",
       "      <td>21493.2</td>\n",
       "      <td>0.579</td>\n",
       "      <td>40</td>\n",
       "      <td>21459.1</td>\n",
       "      <td>3.420</td>\n",
       "      <td>21459.2</td>\n",
       "      <td>14.399</td>\n",
       "      <td>0.000012</td>\n",
       "      <td>21487.4</td>\n",
       "      <td>0.019</td>\n",
       "      <td>21493.3</td>\n",
       "      <td>0.050</td>\n",
       "      <td>3276060</td>\n",
       "    </tr>\n",
       "    <tr>\n",
       "      <th>2</th>\n",
       "      <td>1661248800</td>\n",
       "      <td>BTCUSDT</td>\n",
       "      <td>21430.3</td>\n",
       "      <td>21445.0</td>\n",
       "      <td>21414.1</td>\n",
       "      <td>21445.0</td>\n",
       "      <td>619.156</td>\n",
       "      <td>5519</td>\n",
       "      <td>BTCUSDT_220930</td>\n",
       "      <td>21459.9</td>\n",
       "      <td>21478.3</td>\n",
       "      <td>21440.6</td>\n",
       "      <td>21478.4</td>\n",
       "      <td>1.392</td>\n",
       "      <td>46</td>\n",
       "      <td>21432.6</td>\n",
       "      <td>0.820</td>\n",
       "      <td>21434.3</td>\n",
       "      <td>0.004</td>\n",
       "      <td>0.000012</td>\n",
       "      <td>21456.4</td>\n",
       "      <td>0.169</td>\n",
       "      <td>21462.8</td>\n",
       "      <td>0.071</td>\n",
       "      <td>3276000</td>\n",
       "    </tr>\n",
       "    <tr>\n",
       "      <th>3</th>\n",
       "      <td>1661248860</td>\n",
       "      <td>BTCUSDT</td>\n",
       "      <td>21445.0</td>\n",
       "      <td>21445.0</td>\n",
       "      <td>21430.0</td>\n",
       "      <td>21446.8</td>\n",
       "      <td>311.295</td>\n",
       "      <td>3116</td>\n",
       "      <td>BTCUSDT_220930</td>\n",
       "      <td>21476.7</td>\n",
       "      <td>21470.2</td>\n",
       "      <td>21460.0</td>\n",
       "      <td>21476.7</td>\n",
       "      <td>1.419</td>\n",
       "      <td>41</td>\n",
       "      <td>21444.9</td>\n",
       "      <td>25.023</td>\n",
       "      <td>21445.0</td>\n",
       "      <td>1.005</td>\n",
       "      <td>0.000011</td>\n",
       "      <td>21476.7</td>\n",
       "      <td>0.100</td>\n",
       "      <td>21478.3</td>\n",
       "      <td>0.054</td>\n",
       "      <td>3275940</td>\n",
       "    </tr>\n",
       "    <tr>\n",
       "      <th>4</th>\n",
       "      <td>1661248920</td>\n",
       "      <td>BTCUSDT</td>\n",
       "      <td>21445.0</td>\n",
       "      <td>21431.2</td>\n",
       "      <td>21430.0</td>\n",
       "      <td>21448.6</td>\n",
       "      <td>250.049</td>\n",
       "      <td>2848</td>\n",
       "      <td>BTCUSDT_220930</td>\n",
       "      <td>21479.4</td>\n",
       "      <td>21463.8</td>\n",
       "      <td>21460.4</td>\n",
       "      <td>21479.5</td>\n",
       "      <td>0.400</td>\n",
       "      <td>24</td>\n",
       "      <td>21444.9</td>\n",
       "      <td>17.361</td>\n",
       "      <td>21445.0</td>\n",
       "      <td>1.806</td>\n",
       "      <td>0.000010</td>\n",
       "      <td>21471.6</td>\n",
       "      <td>0.019</td>\n",
       "      <td>21476.5</td>\n",
       "      <td>0.121</td>\n",
       "      <td>3275880</td>\n",
       "    </tr>\n",
       "  </tbody>\n",
       "</table>\n",
       "</div>"
      ],
      "text/plain": [
       "    timestamp symbol_perp  open_perp  close_perp  low_perp  high_perp  \\\n",
       "0  1661248680     BTCUSDT    21476.3     21459.6   21451.0    21479.8   \n",
       "1  1661248740     BTCUSDT    21459.7     21430.2   21430.2    21459.7   \n",
       "2  1661248800     BTCUSDT    21430.3     21445.0   21414.1    21445.0   \n",
       "3  1661248860     BTCUSDT    21445.0     21445.0   21430.0    21446.8   \n",
       "4  1661248920     BTCUSDT    21445.0     21431.2   21430.0    21448.6   \n",
       "\n",
       "   volume_perp  trades_perp       symbol_cq  open_cq  close_cq   low_cq  \\\n",
       "0      413.330         3596  BTCUSDT_220930  21511.1   21483.9  21483.9   \n",
       "1      378.801         3206  BTCUSDT_220930  21493.2   21453.5  21453.5   \n",
       "2      619.156         5519  BTCUSDT_220930  21459.9   21478.3  21440.6   \n",
       "3      311.295         3116  BTCUSDT_220930  21476.7   21470.2  21460.0   \n",
       "4      250.049         2848  BTCUSDT_220930  21479.4   21463.8  21460.4   \n",
       "\n",
       "   high_cq  volume_cq  trades_cq  bidPrice_perp  bidQty_perp  askPrice_perp  \\\n",
       "0  21511.1      1.659         22        21476.2        8.013        21476.3   \n",
       "1  21493.2      0.579         40        21459.1        3.420        21459.2   \n",
       "2  21478.4      1.392         46        21432.6        0.820        21434.3   \n",
       "3  21476.7      1.419         41        21444.9       25.023        21445.0   \n",
       "4  21479.5      0.400         24        21444.9       17.361        21445.0   \n",
       "\n",
       "   askQty_perp  funding_rate  bidPrice_cq  bidQty_cq  askPrice_cq  askQty_cq  \\\n",
       "0        6.975      0.000011      21502.4      0.019      21508.0      0.071   \n",
       "1       14.399      0.000012      21487.4      0.019      21493.3      0.050   \n",
       "2        0.004      0.000012      21456.4      0.169      21462.8      0.071   \n",
       "3        1.005      0.000011      21476.7      0.100      21478.3      0.054   \n",
       "4        1.806      0.000010      21471.6      0.019      21476.5      0.121   \n",
       "\n",
       "   time_left  \n",
       "0    3276120  \n",
       "1    3276060  \n",
       "2    3276000  \n",
       "3    3275940  \n",
       "4    3275880  "
      ]
     },
     "execution_count": 18,
     "metadata": {},
     "output_type": "execute_result"
    }
   ],
   "source": [
    "df_total.head()"
   ]
  },
  {
   "attachments": {},
   "cell_type": "markdown",
   "metadata": {},
   "source": [
    "### time_left"
   ]
  },
  {
   "cell_type": "code",
   "execution_count": 19,
   "metadata": {},
   "outputs": [
    {
     "data": {
      "image/png": "[encoded data removed]",
      "text/plain": [
       "<Figure size 1440x288 with 3 Axes>"
      ]
     },
     "metadata": {
      "needs_background": "light"
     },
     "output_type": "display_data"
    }
   ],
   "source": [
    "fig, (ax0,ax1, ax2) = plt.subplots(1,3, figsize=(20, 4))\n",
    "ax0.plot(df_total['timestamp'], df_total['time_left'])\n",
    "ax1.plot(df_total['time_left'])\n",
    "ax2.plot(df_total['timestamp'])\n",
    "plt.show()"
   ]
  },
  {
   "cell_type": "code",
   "execution_count": 20,
   "metadata": {},
   "outputs": [
    {
     "data": {
      "text/plain": [
       "[<matplotlib.lines.Line2D at 0x19b05617a48>]"
      ]
     },
     "execution_count": 20,
     "metadata": {},
     "output_type": "execute_result"
    },
    {
     "data": {
      "image/png": "[encoded data removed]",
      "text/plain": [
       "<Figure size 921.6x518.4 with 1 Axes>"
      ]
     },
     "metadata": {
      "needs_background": "light"
     },
     "output_type": "display_data"
    }
   ],
   "source": [
    "plt.figure(figsize=(12.8, 7.2))\n",
    "temp = df_total['time_left'].diff()\n",
    "plt.plot(temp)"
   ]
  },
  {
   "cell_type": "code",
   "execution_count": 21,
   "metadata": {},
   "outputs": [
    {
     "data": {
      "text/plain": [
       "(0.0, 32000.0)"
      ]
     },
     "execution_count": 21,
     "metadata": {},
     "output_type": "execute_result"
    },
    {
     "data": {
      "image/png": "[encoded data removed]",
      "text/plain": [
       "<Figure size 921.6x518.4 with 1 Axes>"
      ]
     },
     "metadata": {
      "needs_background": "light"
     },
     "output_type": "display_data"
    }
   ],
   "source": [
    "plt.figure(figsize = (12.8, 7.2))\n",
    "plt.plot(df_total['timestamp'], df_total['open_perp'])\n",
    "plt.ylim([0, 32000])\n",
    "# plt.plot(df_total['timestamp'][-1000:], df_total['open_cq'][-1000:])\n",
    "# plt.plot(df_total['timestamp'][-1000:], df_total['open_perp'][-1000:])\n",
    "# plt.plot(df_total['timestamp'][-1000:], df_total['open_perp'][-1000:])"
   ]
  },
  {
   "attachments": {},
   "cell_type": "markdown",
   "metadata": {},
   "source": [
    "### other features overview"
   ]
  },
  {
   "cell_type": "code",
   "execution_count": 22,
   "metadata": {},
   "outputs": [
    {
     "data": {
      "text/plain": [
       "<matplotlib.lines.Line2D at 0x19b0ab33488>"
      ]
     },
     "execution_count": 22,
     "metadata": {},
     "output_type": "execute_result"
    },
    {
     "data": {
      "image/png": "[encoded data removed]",
      "text/plain": [
       "<Figure size 432x288 with 1 Axes>"
      ]
     },
     "metadata": {
      "needs_background": "light"
     },
     "output_type": "display_data"
    }
   ],
   "source": [
    "# plt.plot(df_total['funding_rate'])\n",
    "plt.plot(df_total['funding_rate'].rolling(1000).mean())\n",
    "plt.axhline(0, c = 'r')"
   ]
  },
  {
   "cell_type": "code",
   "execution_count": 23,
   "metadata": {},
   "outputs": [
    {
     "data": {
      "text/html": [
       "<div>\n",
       "<style scoped>\n",
       "    .dataframe tbody tr th:only-of-type {\n",
       "        vertical-align: middle;\n",
       "    }\n",
       "\n",
       "    .dataframe tbody tr th {\n",
       "        vertical-align: top;\n",
       "    }\n",
       "\n",
       "    .dataframe thead th {\n",
       "        text-align: right;\n",
       "    }\n",
       "</style>\n",
       "<table border=\"1\" class=\"dataframe\">\n",
       "  <thead>\n",
       "    <tr style=\"text-align: right;\">\n",
       "      <th></th>\n",
       "      <th>timestamp</th>\n",
       "      <th>symbol_perp</th>\n",
       "      <th>open_perp</th>\n",
       "      <th>close_perp</th>\n",
       "      <th>low_perp</th>\n",
       "      <th>high_perp</th>\n",
       "      <th>volume_perp</th>\n",
       "      <th>trades_perp</th>\n",
       "      <th>symbol_cq</th>\n",
       "      <th>open_cq</th>\n",
       "      <th>close_cq</th>\n",
       "      <th>low_cq</th>\n",
       "      <th>high_cq</th>\n",
       "      <th>volume_cq</th>\n",
       "      <th>trades_cq</th>\n",
       "      <th>bidPrice_perp</th>\n",
       "      <th>bidQty_perp</th>\n",
       "      <th>askPrice_perp</th>\n",
       "      <th>askQty_perp</th>\n",
       "      <th>funding_rate</th>\n",
       "      <th>bidPrice_cq</th>\n",
       "      <th>bidQty_cq</th>\n",
       "      <th>askPrice_cq</th>\n",
       "      <th>askQty_cq</th>\n",
       "      <th>time_left</th>\n",
       "    </tr>\n",
       "  </thead>\n",
       "  <tbody>\n",
       "    <tr>\n",
       "      <th>0</th>\n",
       "      <td>1661248680</td>\n",
       "      <td>BTCUSDT</td>\n",
       "      <td>21476.3</td>\n",
       "      <td>21459.6</td>\n",
       "      <td>21451.0</td>\n",
       "      <td>21479.8</td>\n",
       "      <td>413.330</td>\n",
       "      <td>3596</td>\n",
       "      <td>BTCUSDT_220930</td>\n",
       "      <td>21511.1</td>\n",
       "      <td>21483.9</td>\n",
       "      <td>21483.9</td>\n",
       "      <td>21511.1</td>\n",
       "      <td>1.659</td>\n",
       "      <td>22</td>\n",
       "      <td>21476.2</td>\n",
       "      <td>8.013</td>\n",
       "      <td>21476.3</td>\n",
       "      <td>6.975</td>\n",
       "      <td>0.000011</td>\n",
       "      <td>21502.4</td>\n",
       "      <td>0.019</td>\n",
       "      <td>21508.0</td>\n",
       "      <td>0.071</td>\n",
       "      <td>3276120</td>\n",
       "    </tr>\n",
       "    <tr>\n",
       "      <th>1</th>\n",
       "      <td>1661248740</td>\n",
       "      <td>BTCUSDT</td>\n",
       "      <td>21459.7</td>\n",
       "      <td>21430.2</td>\n",
       "      <td>21430.2</td>\n",
       "      <td>21459.7</td>\n",
       "      <td>378.801</td>\n",
       "      <td>3206</td>\n",
       "      <td>BTCUSDT_220930</td>\n",
       "      <td>21493.2</td>\n",
       "      <td>21453.5</td>\n",
       "      <td>21453.5</td>\n",
       "      <td>21493.2</td>\n",
       "      <td>0.579</td>\n",
       "      <td>40</td>\n",
       "      <td>21459.1</td>\n",
       "      <td>3.420</td>\n",
       "      <td>21459.2</td>\n",
       "      <td>14.399</td>\n",
       "      <td>0.000012</td>\n",
       "      <td>21487.4</td>\n",
       "      <td>0.019</td>\n",
       "      <td>21493.3</td>\n",
       "      <td>0.050</td>\n",
       "      <td>3276060</td>\n",
       "    </tr>\n",
       "    <tr>\n",
       "      <th>2</th>\n",
       "      <td>1661248800</td>\n",
       "      <td>BTCUSDT</td>\n",
       "      <td>21430.3</td>\n",
       "      <td>21445.0</td>\n",
       "      <td>21414.1</td>\n",
       "      <td>21445.0</td>\n",
       "      <td>619.156</td>\n",
       "      <td>5519</td>\n",
       "      <td>BTCUSDT_220930</td>\n",
       "      <td>21459.9</td>\n",
       "      <td>21478.3</td>\n",
       "      <td>21440.6</td>\n",
       "      <td>21478.4</td>\n",
       "      <td>1.392</td>\n",
       "      <td>46</td>\n",
       "      <td>21432.6</td>\n",
       "      <td>0.820</td>\n",
       "      <td>21434.3</td>\n",
       "      <td>0.004</td>\n",
       "      <td>0.000012</td>\n",
       "      <td>21456.4</td>\n",
       "      <td>0.169</td>\n",
       "      <td>21462.8</td>\n",
       "      <td>0.071</td>\n",
       "      <td>3276000</td>\n",
       "    </tr>\n",
       "    <tr>\n",
       "      <th>3</th>\n",
       "      <td>1661248860</td>\n",
       "      <td>BTCUSDT</td>\n",
       "      <td>21445.0</td>\n",
       "      <td>21445.0</td>\n",
       "      <td>21430.0</td>\n",
       "      <td>21446.8</td>\n",
       "      <td>311.295</td>\n",
       "      <td>3116</td>\n",
       "      <td>BTCUSDT_220930</td>\n",
       "      <td>21476.7</td>\n",
       "      <td>21470.2</td>\n",
       "      <td>21460.0</td>\n",
       "      <td>21476.7</td>\n",
       "      <td>1.419</td>\n",
       "      <td>41</td>\n",
       "      <td>21444.9</td>\n",
       "      <td>25.023</td>\n",
       "      <td>21445.0</td>\n",
       "      <td>1.005</td>\n",
       "      <td>0.000011</td>\n",
       "      <td>21476.7</td>\n",
       "      <td>0.100</td>\n",
       "      <td>21478.3</td>\n",
       "      <td>0.054</td>\n",
       "      <td>3275940</td>\n",
       "    </tr>\n",
       "    <tr>\n",
       "      <th>4</th>\n",
       "      <td>1661248920</td>\n",
       "      <td>BTCUSDT</td>\n",
       "      <td>21445.0</td>\n",
       "      <td>21431.2</td>\n",
       "      <td>21430.0</td>\n",
       "      <td>21448.6</td>\n",
       "      <td>250.049</td>\n",
       "      <td>2848</td>\n",
       "      <td>BTCUSDT_220930</td>\n",
       "      <td>21479.4</td>\n",
       "      <td>21463.8</td>\n",
       "      <td>21460.4</td>\n",
       "      <td>21479.5</td>\n",
       "      <td>0.400</td>\n",
       "      <td>24</td>\n",
       "      <td>21444.9</td>\n",
       "      <td>17.361</td>\n",
       "      <td>21445.0</td>\n",
       "      <td>1.806</td>\n",
       "      <td>0.000010</td>\n",
       "      <td>21471.6</td>\n",
       "      <td>0.019</td>\n",
       "      <td>21476.5</td>\n",
       "      <td>0.121</td>\n",
       "      <td>3275880</td>\n",
       "    </tr>\n",
       "  </tbody>\n",
       "</table>\n",
       "</div>"
      ],
      "text/plain": [
       "    timestamp symbol_perp  open_perp  close_perp  low_perp  high_perp  \\\n",
       "0  1661248680     BTCUSDT    21476.3     21459.6   21451.0    21479.8   \n",
       "1  1661248740     BTCUSDT    21459.7     21430.2   21430.2    21459.7   \n",
       "2  1661248800     BTCUSDT    21430.3     21445.0   21414.1    21445.0   \n",
       "3  1661248860     BTCUSDT    21445.0     21445.0   21430.0    21446.8   \n",
       "4  1661248920     BTCUSDT    21445.0     21431.2   21430.0    21448.6   \n",
       "\n",
       "   volume_perp  trades_perp       symbol_cq  open_cq  close_cq   low_cq  \\\n",
       "0      413.330         3596  BTCUSDT_220930  21511.1   21483.9  21483.9   \n",
       "1      378.801         3206  BTCUSDT_220930  21493.2   21453.5  21453.5   \n",
       "2      619.156         5519  BTCUSDT_220930  21459.9   21478.3  21440.6   \n",
       "3      311.295         3116  BTCUSDT_220930  21476.7   21470.2  21460.0   \n",
       "4      250.049         2848  BTCUSDT_220930  21479.4   21463.8  21460.4   \n",
       "\n",
       "   high_cq  volume_cq  trades_cq  bidPrice_perp  bidQty_perp  askPrice_perp  \\\n",
       "0  21511.1      1.659         22        21476.2        8.013        21476.3   \n",
       "1  21493.2      0.579         40        21459.1        3.420        21459.2   \n",
       "2  21478.4      1.392         46        21432.6        0.820        21434.3   \n",
       "3  21476.7      1.419         41        21444.9       25.023        21445.0   \n",
       "4  21479.5      0.400         24        21444.9       17.361        21445.0   \n",
       "\n",
       "   askQty_perp  funding_rate  bidPrice_cq  bidQty_cq  askPrice_cq  askQty_cq  \\\n",
       "0        6.975      0.000011      21502.4      0.019      21508.0      0.071   \n",
       "1       14.399      0.000012      21487.4      0.019      21493.3      0.050   \n",
       "2        0.004      0.000012      21456.4      0.169      21462.8      0.071   \n",
       "3        1.005      0.000011      21476.7      0.100      21478.3      0.054   \n",
       "4        1.806      0.000010      21471.6      0.019      21476.5      0.121   \n",
       "\n",
       "   time_left  \n",
       "0    3276120  \n",
       "1    3276060  \n",
       "2    3276000  \n",
       "3    3275940  \n",
       "4    3275880  "
      ]
     },
     "execution_count": 23,
     "metadata": {},
     "output_type": "execute_result"
    }
   ],
   "source": [
    "df_total.head()"
   ]
  },
  {
   "attachments": {},
   "cell_type": "markdown",
   "metadata": {},
   "source": [
    "## razmetka"
   ]
  },
  {
   "attachments": {},
   "cell_type": "markdown",
   "metadata": {},
   "source": [
    "### prep"
   ]
  },
  {
   "cell_type": "code",
   "execution_count": 24,
   "metadata": {},
   "outputs": [],
   "source": [
    "def plot_selected_extremas(df, col, window=(0,400), color='red', figsize=(10,4)):\n",
    "    plt.figure(figsize = figsize)\n",
    "    plt.title(f\"{col}:{window}\")\n",
    "    plt.plot(df.loc[window[0]:window[1], 'open_perp'])\n",
    "    plt.scatter(df.loc[window[0]:window[1]].loc[df['is_extrema'], 'index'], \n",
    "                df.loc[window[0]:window[1]].loc[df['is_extrema'], 'open_perp'], \n",
    "                c='lime')\n",
    "    plt.scatter(df.loc[window[0]:window[1]].loc[df[col], 'index'], \n",
    "                df.loc[window[0]:window[1]].loc[df[col], 'open_perp'], \n",
    "                c=color)\n",
    "    plt.show()\n",
    "    plt.close()"
   ]
  },
  {
   "attachments": {},
   "cell_type": "markdown",
   "metadata": {},
   "source": [
    "profit = balance_start * (np.power(1-COMMISSION_RATE, 2) * (1 + LEVERAGE * (1 - close_price/open_price)) - 1)"
   ]
  },
  {
   "cell_type": "code",
   "execution_count": 25,
   "metadata": {},
   "outputs": [],
   "source": [
    "COMMISSION_RATE = 0.0008\n",
    "LEVERAGE = 5\n",
    "balance = 10000\n",
    "\n",
    "def calculate_profit(balance, open_price, close_price, commision=COMMISSION_RATE, leverage = LEVERAGE):\n",
    "    return (balance *\n",
    "            (np.power(1 - commision, 2) *\n",
    "            (1 + leverage * abs(1 - close_price/open_price))\n",
    "            - 1))\n",
    "  \n",
    "def get_balance(balance, open_price, close_price, commision=COMMISSION_RATE, leverage = LEVERAGE):\n",
    "    return (balance * \n",
    "            (np.power(1 - commision, 2) *\n",
    "            (1 + leverage * abs(1 - close_price/open_price))))\n",
    "\n",
    "def get_balance_2contracts(balance, price0, price1, price2):\n",
    "    balance1 = get_balance(balance, price0, price1)\n",
    "    balance12 = get_balance(balance1, price1, price2)\n",
    "    return balance12\n",
    "\n",
    "def get_balance_3contracts(balance, price0, price1, price2, price3):\n",
    "        balance1 = get_balance(balance, price0, price1)\n",
    "        balance12 = get_balance(balance1, price1, price2)\n",
    "        balance123 = get_balance(balance12, price2, price3)\n",
    "        return balance123"
   ]
  },
  {
   "cell_type": "code",
   "execution_count": 26,
   "metadata": {},
   "outputs": [],
   "source": [
    "min_prof = 1.0075\n",
    "min_prof_3 = min_prof * 2 - 1"
   ]
  },
  {
   "attachments": {},
   "cell_type": "markdown",
   "metadata": {},
   "source": [
    "### mark extremas"
   ]
  },
  {
   "cell_type": "code",
   "execution_count": 27,
   "metadata": {},
   "outputs": [
    {
     "name": "stdout",
     "output_type": "stream",
     "text": [
      "-1 8770\n",
      "-2 1268\n",
      "-3 401\n",
      "-4 157\n",
      "-5 69\n",
      "-6 34\n",
      "-7 16\n",
      "-8 6\n",
      "-9 2\n",
      "-10 0\n"
     ]
    }
   ],
   "source": [
    "df_total['diff'] = df_total['open_perp'].diff(1)\n",
    "df_total['diff_shift1'] = df_total['diff'].shift(-1)\n",
    "# if price didnt change from t-1, compare with t-2, t-3...\n",
    "i = -1\n",
    "print(i, (df_total['diff_shift1'] == 0).sum())\n",
    "while ((df_total['diff_shift1'] == 0).sum()):\n",
    "    i -= 1\n",
    "    df_total.loc[df_total['diff_shift1'] == 0,'diff_shift1'] = \\\n",
    "            df_total['diff'].shift(i)[df_total['diff_shift1'] == 0]\n",
    "    print(i, (df_total['diff_shift1'] == 0).sum())\n",
    "\n",
    "\n",
    "\n",
    "df_total['is_extrema'] = (df_total['diff'] * df_total['diff_shift1'] < 0)\n",
    "df_total['ismaxima'] = (df_total['diff_shift1'] < 0) & df_total['is_extrema']\n",
    "df_total['isminima'] = (df_total['diff_shift1'] >= 0) & df_total['is_extrema']"
   ]
  },
  {
   "cell_type": "code",
   "execution_count": 28,
   "metadata": {},
   "outputs": [
    {
     "data": {
      "text/html": [
       "<div>\n",
       "<style scoped>\n",
       "    .dataframe tbody tr th:only-of-type {\n",
       "        vertical-align: middle;\n",
       "    }\n",
       "\n",
       "    .dataframe tbody tr th {\n",
       "        vertical-align: top;\n",
       "    }\n",
       "\n",
       "    .dataframe thead th {\n",
       "        text-align: right;\n",
       "    }\n",
       "</style>\n",
       "<table border=\"1\" class=\"dataframe\">\n",
       "  <thead>\n",
       "    <tr style=\"text-align: right;\">\n",
       "      <th></th>\n",
       "      <th>index</th>\n",
       "      <th>timestamp</th>\n",
       "      <th>open_perp</th>\n",
       "      <th>is_extrema</th>\n",
       "      <th>ismaxima</th>\n",
       "      <th>isminima</th>\n",
       "    </tr>\n",
       "  </thead>\n",
       "  <tbody>\n",
       "    <tr>\n",
       "      <th>0</th>\n",
       "      <td>0</td>\n",
       "      <td>1661248680</td>\n",
       "      <td>21476.3</td>\n",
       "      <td>False</td>\n",
       "      <td>False</td>\n",
       "      <td>False</td>\n",
       "    </tr>\n",
       "    <tr>\n",
       "      <th>1</th>\n",
       "      <td>1</td>\n",
       "      <td>1661248740</td>\n",
       "      <td>21459.7</td>\n",
       "      <td>False</td>\n",
       "      <td>False</td>\n",
       "      <td>False</td>\n",
       "    </tr>\n",
       "    <tr>\n",
       "      <th>2</th>\n",
       "      <td>2</td>\n",
       "      <td>1661248800</td>\n",
       "      <td>21430.3</td>\n",
       "      <td>True</td>\n",
       "      <td>False</td>\n",
       "      <td>True</td>\n",
       "    </tr>\n",
       "    <tr>\n",
       "      <th>3</th>\n",
       "      <td>3</td>\n",
       "      <td>1661248860</td>\n",
       "      <td>21445.0</td>\n",
       "      <td>True</td>\n",
       "      <td>True</td>\n",
       "      <td>False</td>\n",
       "    </tr>\n",
       "    <tr>\n",
       "      <th>4</th>\n",
       "      <td>4</td>\n",
       "      <td>1661248920</td>\n",
       "      <td>21445.0</td>\n",
       "      <td>False</td>\n",
       "      <td>False</td>\n",
       "      <td>False</td>\n",
       "    </tr>\n",
       "  </tbody>\n",
       "</table>\n",
       "</div>"
      ],
      "text/plain": [
       "   index   timestamp  open_perp  is_extrema  ismaxima  isminima\n",
       "0      0  1661248680    21476.3       False     False     False\n",
       "1      1  1661248740    21459.7       False     False     False\n",
       "2      2  1661248800    21430.3        True     False      True\n",
       "3      3  1661248860    21445.0        True      True     False\n",
       "4      4  1661248920    21445.0       False     False     False"
      ]
     },
     "execution_count": 28,
     "metadata": {},
     "output_type": "execute_result"
    }
   ],
   "source": [
    "df_razmetka = df_total[['timestamp', 'open_perp', 'is_extrema', 'ismaxima', 'isminima']].copy()\n",
    "df_razmetka.reset_index(inplace=True)\n",
    "df_razmetka.head()"
   ]
  },
  {
   "cell_type": "code",
   "execution_count": 29,
   "metadata": {},
   "outputs": [
    {
     "data": {
      "image/png": "[encoded data removed]",
      "text/plain": [
       "<Figure size 691.2x388.8 with 4 Axes>"
      ]
     },
     "metadata": {
      "needs_background": "light"
     },
     "output_type": "display_data"
    }
   ],
   "source": [
    "fig, axs = plt.subplots(2,2, figsize=(9.6, 5.4))\n",
    "axs[0,0].set_ylim([0,120])\n",
    "axs[0,1].set_ylim([0,120])\n",
    "axs[1,0].set_ylim([0,120])\n",
    "axs[1,1].set_ylim([0,120])\n",
    "\n",
    "\n",
    "\n",
    "axs[0,0].set_title('сценарій 1', fontsize=10)\n",
    "axs[0,0].plot([0,1,2,3], [110, 58, 62, 10])\n",
    "axs[0,0].scatter([0,1,2,3], [110, 58, 62, 10], c='blue')\n",
    "axs[0,0].scatter([0,3], [110,10], color='red')\n",
    "\n",
    "axs[0,1].set_title('сценарій 2', fontsize=10)\n",
    "axs[0,1].plot([0,1,2,3], [110, 10, 18, 14])\n",
    "axs[0,1].scatter([0,1,2,3], [110, 10, 18, 14])\n",
    "axs[0,1].scatter([0,1], [110,10], color='red')\n",
    "\n",
    "axs[1,0].set_title('сценарій 3', fontsize=10)\n",
    "axs[1,0].plot([0,1,2,3], [110, 10, 100, 20])\n",
    "axs[1,0].scatter([0,1,2,3], [110, 10, 100, 20], color='red')\n",
    "\n",
    "# axs[1,1].set_title('сценарій 4')\n",
    "# axs[1,1].plot([0,1,2,3], [110, 10, 100, 90])\n",
    "# axs[1,1].scatter([0,1,2,3], [110, 10, 100, 90])\n",
    "# axs[1,1].scatter([0,1,2], [110, 10, 100], color='red')\n",
    "\n",
    "axs[1,1].set_title('сценарій 4', fontsize=10)\n",
    "axs[1,1].plot([0,1,2,3], [110, 104, 107, 104])\n",
    "axs[1,1].scatter([0,1,2,3], [110, 104, 107, 104])\n",
    "axs[1,1].scatter([0], [110], color='red')\n",
    "plt.tight_layout()\n",
    "plt.show()"
   ]
  },
  {
   "cell_type": "code",
   "execution_count": 30,
   "metadata": {},
   "outputs": [
    {
     "data": {
      "text/plain": [
       "(7.0, 13.0)"
      ]
     },
     "execution_count": 30,
     "metadata": {},
     "output_type": "execute_result"
    },
    {
     "data": {
      "image/png": "[encoded data removed]",
      "text/plain": [
       "<Figure size 720x288 with 1 Axes>"
      ]
     },
     "metadata": {
      "needs_background": "light"
     },
     "output_type": "display_data"
    }
   ],
   "source": [
    "plt.figure(figsize=(10,4))\n",
    "plt.plot(['Y', 'Z', 'A', 'B', 'C'], [12, 8, 8, 8, 11])\n",
    "plt.scatter(['Y', 'Z', 'A', 'B', 'C'], [12, 8, 8, 8, 11])\n",
    "plt.ylim([7,13])"
   ]
  },
  {
   "attachments": {},
   "cell_type": "markdown",
   "metadata": {},
   "source": [
    "### step1"
   ]
  },
  {
   "cell_type": "code",
   "execution_count": 31,
   "metadata": {},
   "outputs": [],
   "source": [
    "iterator = iter(df_razmetka.index[df_razmetka['is_extrema']])\n",
    "#  skip first value because it wouldnt be an extrema\n",
    "iterator.__next__()\n",
    "# (index_start, price_start) = df_razmetka.loc[iterator.__next__(), ['index', 'open_perp']]\n",
    "(index_start, price_start) = df_razmetka.loc[iterator.__next__(), ['index', 'open_perp']]\n",
    "extremas = [index_start]\n",
    "try:\n",
    "    while True: \n",
    "    # for i in range(1000):\n",
    "        index_first_contract, price_first_contract = df_razmetka.loc[iterator.__next__(), ['index', 'open_perp']]\n",
    "        index_second_contract, price_second_contract = df_razmetka.loc[iterator.__next__(), ['index', 'open_perp']]\n",
    "        index_third_contract, price_third_contract = df_razmetka.loc[iterator.__next__(), ['index', 'open_perp']]\n",
    "\n",
    "        balance1 = get_balance(balance, price_start, price_first_contract)\n",
    "        balance12 = get_balance(balance1, price_first_contract, price_second_contract)\n",
    "        balance123 = get_balance(balance12, price_second_contract, price_third_contract)\n",
    "        balance__3 = get_balance(balance, price_start, price_third_contract)\n",
    "\n",
    "\n",
    "        max_balance = max(balance1, balance123/min_prof_3, balance__3)\n",
    "\n",
    "        if (max_balance > balance * min_prof):\n",
    "            if(max_balance == balance1):    \n",
    "                extremas.append(index_first_contract)\n",
    "                price_start = price_first_contract\n",
    "\n",
    "            elif(max_balance == balance__3):\n",
    "                iterator = iter(df_razmetka.index[df_razmetka['is_extrema'] & (df_razmetka.index>=index_third_contract)])\n",
    "\n",
    "            elif(max_balance == balance123/min_prof_3):\n",
    "                # print(index_first_contract, end=' ')\n",
    "                extremas.append(index_first_contract)\n",
    "                iterator = iter(df_razmetka.index[df_razmetka['is_extrema'] & (df_razmetka.index>=index_first_contract)])\n",
    "                (index_start, price_start) = df_razmetka.loc[iterator.__next__(), ['index', 'open_perp']]\n",
    "        else:\n",
    "            pass\n",
    "except StopIteration:\n",
    "    pass"
   ]
  },
  {
   "cell_type": "code",
   "execution_count": 32,
   "metadata": {},
   "outputs": [],
   "source": [
    "df_razmetka.loc[extremas, 'extr1'] = True\n",
    "df_razmetka['extr1'].fillna(False, inplace=True)"
   ]
  },
  {
   "cell_type": "code",
   "execution_count": 33,
   "metadata": {},
   "outputs": [],
   "source": [
    "# df_razmetka.loc[(df_razmetka['index']-3)%20==0, 'extr1'] = True\n",
    "# df_razmetka['extr1'].fillna(False, inplace=True)"
   ]
  },
  {
   "cell_type": "code",
   "execution_count": 34,
   "metadata": {},
   "outputs": [
    {
     "name": "stdout",
     "output_type": "stream",
     "text": [
      "total extremas:      188,275\n",
      "extremas after step1: 18,637\n"
     ]
    }
   ],
   "source": [
    "print(f\"total extremas: {df_razmetka['is_extrema'].sum():>12,}\")\n",
    "print(f\"extremas after step1: {df_razmetka['extr1'].sum():,}\")"
   ]
  },
  {
   "cell_type": "code",
   "execution_count": 35,
   "metadata": {},
   "outputs": [
    {
     "data": {
      "image/png": "[encoded data removed]",
      "text/plain": [
       "<Figure size 720x288 with 1 Axes>"
      ]
     },
     "metadata": {
      "needs_background": "light"
     },
     "output_type": "display_data"
    }
   ],
   "source": [
    "plot_selected_extremas(df_razmetka, 'extr1')"
   ]
  },
  {
   "attachments": {},
   "cell_type": "markdown",
   "metadata": {},
   "source": [
    "### step2"
   ]
  },
  {
   "cell_type": "code",
   "execution_count": 36,
   "metadata": {},
   "outputs": [
    {
     "data": {
      "text/html": [
       "<div>\n",
       "<style scoped>\n",
       "    .dataframe tbody tr th:only-of-type {\n",
       "        vertical-align: middle;\n",
       "    }\n",
       "\n",
       "    .dataframe tbody tr th {\n",
       "        vertical-align: top;\n",
       "    }\n",
       "\n",
       "    .dataframe thead th {\n",
       "        text-align: right;\n",
       "    }\n",
       "</style>\n",
       "<table border=\"1\" class=\"dataframe\">\n",
       "  <thead>\n",
       "    <tr style=\"text-align: right;\">\n",
       "      <th></th>\n",
       "      <th>index</th>\n",
       "      <th>timestamp</th>\n",
       "      <th>open_perp</th>\n",
       "      <th>is_extrema</th>\n",
       "      <th>ismaxima</th>\n",
       "      <th>isminima</th>\n",
       "      <th>extr1</th>\n",
       "      <th>extr2</th>\n",
       "    </tr>\n",
       "  </thead>\n",
       "  <tbody>\n",
       "    <tr>\n",
       "      <th>0</th>\n",
       "      <td>3</td>\n",
       "      <td>1661248860</td>\n",
       "      <td>21445.0</td>\n",
       "      <td>True</td>\n",
       "      <td>True</td>\n",
       "      <td>False</td>\n",
       "      <td>True</td>\n",
       "      <td>True</td>\n",
       "    </tr>\n",
       "    <tr>\n",
       "      <th>1</th>\n",
       "      <td>10</td>\n",
       "      <td>1661249280</td>\n",
       "      <td>21345.8</td>\n",
       "      <td>True</td>\n",
       "      <td>False</td>\n",
       "      <td>True</td>\n",
       "      <td>True</td>\n",
       "      <td>True</td>\n",
       "    </tr>\n",
       "    <tr>\n",
       "      <th>2</th>\n",
       "      <td>13</td>\n",
       "      <td>1661249460</td>\n",
       "      <td>21392.7</td>\n",
       "      <td>True</td>\n",
       "      <td>True</td>\n",
       "      <td>False</td>\n",
       "      <td>True</td>\n",
       "      <td>True</td>\n",
       "    </tr>\n",
       "    <tr>\n",
       "      <th>3</th>\n",
       "      <td>27</td>\n",
       "      <td>1661250300</td>\n",
       "      <td>21324.0</td>\n",
       "      <td>True</td>\n",
       "      <td>False</td>\n",
       "      <td>True</td>\n",
       "      <td>True</td>\n",
       "      <td>True</td>\n",
       "    </tr>\n",
       "    <tr>\n",
       "      <th>4</th>\n",
       "      <td>36</td>\n",
       "      <td>1661250840</td>\n",
       "      <td>21385.8</td>\n",
       "      <td>True</td>\n",
       "      <td>True</td>\n",
       "      <td>False</td>\n",
       "      <td>True</td>\n",
       "      <td>True</td>\n",
       "    </tr>\n",
       "  </tbody>\n",
       "</table>\n",
       "</div>"
      ],
      "text/plain": [
       "   index   timestamp  open_perp  is_extrema  ismaxima  isminima  extr1  extr2\n",
       "0      3  1661248860    21445.0        True      True     False   True   True\n",
       "1     10  1661249280    21345.8        True     False      True   True   True\n",
       "2     13  1661249460    21392.7        True      True     False   True   True\n",
       "3     27  1661250300    21324.0        True     False      True   True   True\n",
       "4     36  1661250840    21385.8        True      True     False   True   True"
      ]
     },
     "execution_count": 36,
     "metadata": {},
     "output_type": "execute_result"
    }
   ],
   "source": [
    "df_razmetka['extr2'] = df_razmetka['extr1'].copy()\n",
    "\n",
    "all_extr = df_razmetka.loc[df_razmetka['is_extrema']].copy()\n",
    "extr2 = df_razmetka.loc[df_razmetka['extr2']].reset_index(drop=True).copy()\n",
    "non_extr2 = df_razmetka.loc[(~df_razmetka['extr2']) & df_razmetka['is_extrema']].copy()\n",
    "\n",
    "extr2.head()"
   ]
  },
  {
   "cell_type": "code",
   "execution_count": 37,
   "metadata": {},
   "outputs": [],
   "source": [
    "start = 0\n",
    "try:\n",
    "    while True:\n",
    "        left = extr2.loc[start, ['index', 'open_perp']]\n",
    "        mid = extr2.loc[start+1, ['index', 'open_perp']]\n",
    "        right = extr2.loc[start+2, ['index', 'open_perp']]\n",
    "        \n",
    "        extrema_range = all_extr.loc[left['index']:right['index']]\n",
    "\n",
    "        if left['open_perp'] > mid['open_perp']:\n",
    "            index_extrema = extrema_range['open_perp'].idxmin()\n",
    "        elif left['open_perp'] < mid['open_perp']:\n",
    "            index_extrema = extrema_range['open_perp'].idxmax()\n",
    "        else:\n",
    "            extr2.drop(extr2.index[extr2['index'] == mid['index']])\n",
    "            continue\n",
    "\n",
    "        extrema_range = all_extr.loc[left['index']:right['index']]\n",
    "        if index_extrema == mid['index']:\n",
    "            start += 1\n",
    "            continue\n",
    "        elif index_extrema == right['index']:\n",
    "            extr2 = extr2.drop(start+1).reset_index(drop=True)\n",
    "            continue\n",
    "        else:\n",
    "            # print(f\"replace extrema {mid['index']} on {index_extrema}\")\n",
    "            extr2.loc[start+1] = extrema_range.loc[index_extrema]\n",
    "            start += 1\n",
    "            continue\n",
    "except:\n",
    "    pass"
   ]
  },
  {
   "cell_type": "code",
   "execution_count": 38,
   "metadata": {},
   "outputs": [],
   "source": [
    "df_razmetka['extr2'] = np.where(df_razmetka.index.isin(extr2['index']), True, False)"
   ]
  },
  {
   "cell_type": "code",
   "execution_count": 39,
   "metadata": {},
   "outputs": [
    {
     "name": "stdout",
     "output_type": "stream",
     "text": [
      "total extremas:      188,275\n",
      "extremas after step1: 18,637\n",
      "extremas after step2: 16,040\n"
     ]
    }
   ],
   "source": [
    "print(f\"total extremas: {df_razmetka['is_extrema'].sum():>12,}\")\n",
    "print(f\"extremas after step1: {df_razmetka['extr1'].sum():,}\")\n",
    "print(f\"extremas after step2: {df_razmetka['extr2'].sum():,}\")"
   ]
  },
  {
   "cell_type": "code",
   "execution_count": 40,
   "metadata": {},
   "outputs": [
    {
     "data": {
      "image/png": "[encoded data removed]",
      "text/plain": [
       "<Figure size 720x288 with 1 Axes>"
      ]
     },
     "metadata": {
      "needs_background": "light"
     },
     "output_type": "display_data"
    },
    {
     "data": {
      "image/png": "[encoded data removed]",
      "text/plain": [
       "<Figure size 720x288 with 1 Axes>"
      ]
     },
     "metadata": {
      "needs_background": "light"
     },
     "output_type": "display_data"
    }
   ],
   "source": [
    "plot_selected_extremas(df_razmetka, 'extr1')\n",
    "plot_selected_extremas(df_razmetka, 'extr2')"
   ]
  },
  {
   "attachments": {},
   "cell_type": "markdown",
   "metadata": {},
   "source": [
    "### step 3"
   ]
  },
  {
   "cell_type": "code",
   "execution_count": 41,
   "metadata": {},
   "outputs": [],
   "source": [
    "from IPython.display import clear_output"
   ]
  },
  {
   "cell_type": "code",
   "execution_count": 42,
   "metadata": {},
   "outputs": [],
   "source": [
    "def price(idx):\n",
    "    return df_razmetka.loc[idx, 'open_perp']\n",
    "\n",
    "def step3(df_raw, extr_col, new_extr_col):\n",
    "    df = df_raw.copy()\n",
    "    df[new_extr_col] = df[extr_col]\n",
    "    left_index = 0\n",
    "    while True:\n",
    "        extremas_todrop = []\n",
    "        for contract0, contract1, contract2, contract3 in zip(\n",
    "                                df.loc[df[new_extr_col], 'index'].loc[left_index:].iloc[:-3], \n",
    "                                df.loc[df[new_extr_col], 'index'].loc[left_index:].shift(-1).iloc[:-3], \n",
    "                                df.loc[df[new_extr_col], 'index'].loc[left_index:].shift(-2).iloc[:-3], \n",
    "                                df.loc[df[new_extr_col], 'index'].loc[left_index:].shift(-3).iloc[:-3]):\n",
    "\n",
    "            # balance1 = get_balance(1, \n",
    "            #             price(contract0), \n",
    "            #             price(contract3))\n",
    "            balance2 = get_balance(1, \n",
    "                        price(contract0), \n",
    "                        price(contract3))\n",
    "            balance3 = get_balance_3contracts(1, \n",
    "                        price(contract0), \n",
    "                        price(contract1), \n",
    "                        price(contract2), \n",
    "                        price(contract3))\n",
    "\n",
    "            # if (balance1*min_prof >= balance3):\n",
    "            #     clear_output(wait=True)\n",
    "            #     print([contract1, contract2])\n",
    "            #     extremas_todrop += [contract1, contract2]\n",
    "                \n",
    "            #     left_index = contract1\n",
    "            #     break                        \n",
    "            if (balance2*min_prof_3 >= balance3):\n",
    "                clear_output(wait=True)\n",
    "                print([contract1, contract2])\n",
    "                \n",
    "                extremas_todrop += [contract1, contract2]\n",
    "                df.loc[[contract1, contract2], new_extr_col] = False\n",
    "                left_index = contract3\n",
    "                break\n",
    "        if(len(extremas_todrop) == 0):\n",
    "            return df\n"
   ]
  },
  {
   "cell_type": "code",
   "execution_count": 43,
   "metadata": {},
   "outputs": [
    {
     "data": {
      "text/html": [
       "<div>\n",
       "<style scoped>\n",
       "    .dataframe tbody tr th:only-of-type {\n",
       "        vertical-align: middle;\n",
       "    }\n",
       "\n",
       "    .dataframe tbody tr th {\n",
       "        vertical-align: top;\n",
       "    }\n",
       "\n",
       "    .dataframe thead th {\n",
       "        text-align: right;\n",
       "    }\n",
       "</style>\n",
       "<table border=\"1\" class=\"dataframe\">\n",
       "  <thead>\n",
       "    <tr style=\"text-align: right;\">\n",
       "      <th></th>\n",
       "      <th>index</th>\n",
       "      <th>timestamp</th>\n",
       "      <th>open_perp</th>\n",
       "      <th>is_extrema</th>\n",
       "      <th>ismaxima</th>\n",
       "      <th>isminima</th>\n",
       "      <th>extr1</th>\n",
       "      <th>extr2</th>\n",
       "    </tr>\n",
       "  </thead>\n",
       "  <tbody>\n",
       "    <tr>\n",
       "      <th>0</th>\n",
       "      <td>0</td>\n",
       "      <td>1661248680</td>\n",
       "      <td>21476.3</td>\n",
       "      <td>False</td>\n",
       "      <td>False</td>\n",
       "      <td>False</td>\n",
       "      <td>False</td>\n",
       "      <td>False</td>\n",
       "    </tr>\n",
       "    <tr>\n",
       "      <th>1</th>\n",
       "      <td>1</td>\n",
       "      <td>1661248740</td>\n",
       "      <td>21459.7</td>\n",
       "      <td>False</td>\n",
       "      <td>False</td>\n",
       "      <td>False</td>\n",
       "      <td>False</td>\n",
       "      <td>False</td>\n",
       "    </tr>\n",
       "    <tr>\n",
       "      <th>2</th>\n",
       "      <td>2</td>\n",
       "      <td>1661248800</td>\n",
       "      <td>21430.3</td>\n",
       "      <td>True</td>\n",
       "      <td>False</td>\n",
       "      <td>True</td>\n",
       "      <td>False</td>\n",
       "      <td>False</td>\n",
       "    </tr>\n",
       "    <tr>\n",
       "      <th>3</th>\n",
       "      <td>3</td>\n",
       "      <td>1661248860</td>\n",
       "      <td>21445.0</td>\n",
       "      <td>True</td>\n",
       "      <td>True</td>\n",
       "      <td>False</td>\n",
       "      <td>True</td>\n",
       "      <td>True</td>\n",
       "    </tr>\n",
       "    <tr>\n",
       "      <th>4</th>\n",
       "      <td>4</td>\n",
       "      <td>1661248920</td>\n",
       "      <td>21445.0</td>\n",
       "      <td>False</td>\n",
       "      <td>False</td>\n",
       "      <td>False</td>\n",
       "      <td>False</td>\n",
       "      <td>False</td>\n",
       "    </tr>\n",
       "  </tbody>\n",
       "</table>\n",
       "</div>"
      ],
      "text/plain": [
       "   index   timestamp  open_perp  is_extrema  ismaxima  isminima  extr1  extr2\n",
       "0      0  1661248680    21476.3       False     False     False  False  False\n",
       "1      1  1661248740    21459.7       False     False     False  False  False\n",
       "2      2  1661248800    21430.3        True     False      True  False  False\n",
       "3      3  1661248860    21445.0        True      True     False   True   True\n",
       "4      4  1661248920    21445.0       False     False     False  False  False"
      ]
     },
     "execution_count": 43,
     "metadata": {},
     "output_type": "execute_result"
    }
   ],
   "source": [
    "df_razmetka.head()"
   ]
  },
  {
   "cell_type": "code",
   "execution_count": 44,
   "metadata": {},
   "outputs": [
    {
     "name": "stdout",
     "output_type": "stream",
     "text": [
      "[381303.0, 381307.0]\n"
     ]
    }
   ],
   "source": [
    "df_razmetka = step3(df_razmetka, 'extr2', 'extr3')"
   ]
  },
  {
   "cell_type": "code",
   "execution_count": 45,
   "metadata": {},
   "outputs": [
    {
     "name": "stdout",
     "output_type": "stream",
     "text": [
      "total extremas:      188,275\n",
      "extremas after step1: 18,637\n",
      "extremas after step2: 16,040\n",
      "extremas after step3: 15,096\n"
     ]
    }
   ],
   "source": [
    "print(f\"total extremas: {df_razmetka['is_extrema'].sum():>12,}\")\n",
    "print(f\"extremas after step1: {df_razmetka['extr1'].sum():,}\")\n",
    "print(f\"extremas after step2: {df_razmetka['extr2'].sum():,}\")\n",
    "print(f\"extremas after step3: {df_razmetka['extr3'].sum():,}\")"
   ]
  },
  {
   "cell_type": "code",
   "execution_count": 46,
   "metadata": {},
   "outputs": [
    {
     "data": {
      "image/png": "[encoded data removed]",
      "text/plain": [
       "<Figure size 720x288 with 1 Axes>"
      ]
     },
     "metadata": {
      "needs_background": "light"
     },
     "output_type": "display_data"
    },
    {
     "data": {
      "image/png": "[encoded data removed]",
      "text/plain": [
       "<Figure size 720x288 with 1 Axes>"
      ]
     },
     "metadata": {
      "needs_background": "light"
     },
     "output_type": "display_data"
    },
    {
     "data": {
      "image/png": "[encoded data removed]",
      "text/plain": [
       "<Figure size 720x288 with 1 Axes>"
      ]
     },
     "metadata": {
      "needs_background": "light"
     },
     "output_type": "display_data"
    }
   ],
   "source": [
    "plot_selected_extremas(df_razmetka, 'extr3', window=(400,600), figsize=(10,4))\n",
    "plot_selected_extremas(df_razmetka, 'extr2', window=(400,600), figsize=(10,4))\n",
    "\n",
    "df_razmetka['temp'] = ~df_razmetka['extr3'] & df_razmetka['extr2']\n",
    "plot_selected_extremas(df_razmetka, 'temp', window=(400,600), figsize=(10,4))\n",
    "df_razmetka.drop(columns='temp', inplace=True)"
   ]
  },
  {
   "attachments": {},
   "cell_type": "markdown",
   "metadata": {},
   "source": [
    "### step 4"
   ]
  },
  {
   "cell_type": "code",
   "execution_count": 47,
   "metadata": {},
   "outputs": [],
   "source": [
    "def price(idx):\n",
    "    return df_razmetka.loc[idx, 'open_perp']\n",
    "\n",
    "def step4(df_raw, extr_col, new_extr_col):\n",
    "    df = df_raw.copy()\n",
    "    df[new_extr_col] = df[extr_col]\n",
    "    while(True):\n",
    "        new_extremas = []\n",
    "        for start, end in tqdm(zip(df.loc[df[new_extr_col], 'index'].iloc[:-1], df.loc[df[new_extr_col], 'index'].shift(-1))):\n",
    "\n",
    "            order_short_long = (('isminima', 'ismaxima') if (price(start) > price(end)) else ('ismaxima', 'isminima'))\n",
    "            profitable_combos = {}\n",
    "            for first_contract in df.loc[start+1:end-1].loc[df[order_short_long[0]]].index:\n",
    "                for second_contract in df.loc[first_contract+1:end-1].loc[df[order_short_long[1]]].index:\n",
    "                    extr2_balance = get_balance(1, \n",
    "                                                price(start), \n",
    "                                                price(end))\n",
    "                    extr3_balance = get_balance_3contracts(1, \n",
    "                                                price(start),\n",
    "                                                price(first_contract),\n",
    "                                                price(second_contract),\n",
    "                                                price(end))\n",
    "                    \n",
    "                    if(extr3_balance > extr2_balance * min_prof_3):\n",
    "                        profitable_combos.update({(first_contract, second_contract) : extr3_balance})\n",
    "            if(len(profitable_combos) > 0):\n",
    "                new_extremas.append(max(profitable_combos, key=profitable_combos.get))\n",
    "        print(f\"extremas before: {df[new_extr_col].sum()}\")\n",
    "        df.loc[pd.Series(new_extremas).explode().values, new_extr_col] = True\n",
    "        print(f\"extremas after: {df[new_extr_col].sum()}\")\n",
    "        \n",
    "        if (len(new_extremas) == 0):\n",
    "            return df"
   ]
  },
  {
   "cell_type": "code",
   "execution_count": 48,
   "metadata": {},
   "outputs": [
    {
     "data": {
      "text/html": [
       "<div>\n",
       "<style scoped>\n",
       "    .dataframe tbody tr th:only-of-type {\n",
       "        vertical-align: middle;\n",
       "    }\n",
       "\n",
       "    .dataframe tbody tr th {\n",
       "        vertical-align: top;\n",
       "    }\n",
       "\n",
       "    .dataframe thead th {\n",
       "        text-align: right;\n",
       "    }\n",
       "</style>\n",
       "<table border=\"1\" class=\"dataframe\">\n",
       "  <thead>\n",
       "    <tr style=\"text-align: right;\">\n",
       "      <th></th>\n",
       "      <th>index</th>\n",
       "      <th>timestamp</th>\n",
       "      <th>open_perp</th>\n",
       "      <th>is_extrema</th>\n",
       "      <th>ismaxima</th>\n",
       "      <th>isminima</th>\n",
       "      <th>extr1</th>\n",
       "      <th>extr2</th>\n",
       "      <th>extr3</th>\n",
       "    </tr>\n",
       "  </thead>\n",
       "  <tbody>\n",
       "    <tr>\n",
       "      <th>0</th>\n",
       "      <td>0</td>\n",
       "      <td>1661248680</td>\n",
       "      <td>21476.3</td>\n",
       "      <td>False</td>\n",
       "      <td>False</td>\n",
       "      <td>False</td>\n",
       "      <td>False</td>\n",
       "      <td>False</td>\n",
       "      <td>False</td>\n",
       "    </tr>\n",
       "    <tr>\n",
       "      <th>1</th>\n",
       "      <td>1</td>\n",
       "      <td>1661248740</td>\n",
       "      <td>21459.7</td>\n",
       "      <td>False</td>\n",
       "      <td>False</td>\n",
       "      <td>False</td>\n",
       "      <td>False</td>\n",
       "      <td>False</td>\n",
       "      <td>False</td>\n",
       "    </tr>\n",
       "    <tr>\n",
       "      <th>2</th>\n",
       "      <td>2</td>\n",
       "      <td>1661248800</td>\n",
       "      <td>21430.3</td>\n",
       "      <td>True</td>\n",
       "      <td>False</td>\n",
       "      <td>True</td>\n",
       "      <td>False</td>\n",
       "      <td>False</td>\n",
       "      <td>False</td>\n",
       "    </tr>\n",
       "    <tr>\n",
       "      <th>3</th>\n",
       "      <td>3</td>\n",
       "      <td>1661248860</td>\n",
       "      <td>21445.0</td>\n",
       "      <td>True</td>\n",
       "      <td>True</td>\n",
       "      <td>False</td>\n",
       "      <td>True</td>\n",
       "      <td>True</td>\n",
       "      <td>True</td>\n",
       "    </tr>\n",
       "    <tr>\n",
       "      <th>4</th>\n",
       "      <td>4</td>\n",
       "      <td>1661248920</td>\n",
       "      <td>21445.0</td>\n",
       "      <td>False</td>\n",
       "      <td>False</td>\n",
       "      <td>False</td>\n",
       "      <td>False</td>\n",
       "      <td>False</td>\n",
       "      <td>False</td>\n",
       "    </tr>\n",
       "  </tbody>\n",
       "</table>\n",
       "</div>"
      ],
      "text/plain": [
       "   index   timestamp  open_perp  is_extrema  ismaxima  isminima  extr1  extr2  \\\n",
       "0      0  1661248680    21476.3       False     False     False  False  False   \n",
       "1      1  1661248740    21459.7       False     False     False  False  False   \n",
       "2      2  1661248800    21430.3        True     False      True  False  False   \n",
       "3      3  1661248860    21445.0        True      True     False   True   True   \n",
       "4      4  1661248920    21445.0       False     False     False  False  False   \n",
       "\n",
       "   extr3  \n",
       "0  False  \n",
       "1  False  \n",
       "2  False  \n",
       "3   True  \n",
       "4  False  "
      ]
     },
     "execution_count": 48,
     "metadata": {},
     "output_type": "execute_result"
    }
   ],
   "source": [
    "df_razmetka.head()"
   ]
  },
  {
   "cell_type": "code",
   "execution_count": 49,
   "metadata": {},
   "outputs": [
    {
     "name": "stderr",
     "output_type": "stream",
     "text": [
      "15095it [07:06, 35.36it/s] \n"
     ]
    },
    {
     "name": "stdout",
     "output_type": "stream",
     "text": [
      "extremas before: 15096\n",
      "extremas after: 17830\n"
     ]
    },
    {
     "name": "stderr",
     "output_type": "stream",
     "text": [
      "17829it [05:14, 56.72it/s] \n"
     ]
    },
    {
     "name": "stdout",
     "output_type": "stream",
     "text": [
      "extremas before: 17830\n",
      "extremas after: 18418\n"
     ]
    },
    {
     "name": "stderr",
     "output_type": "stream",
     "text": [
      "1102it [00:11, 91.89it/s]\n"
     ]
    },
    {
     "ename": "KeyboardInterrupt",
     "evalue": "",
     "output_type": "error",
     "traceback": [
      "\u001b[1;31m---------------------------------------------------------------------------\u001b[0m",
      "\u001b[1;31mKeyboardInterrupt\u001b[0m                         Traceback (most recent call last)",
      "\u001b[1;32m~\\AppData\\Local\\Temp\\ipykernel_2076\\2175739944.py\u001b[0m in \u001b[0;36m<module>\u001b[1;34m\u001b[0m\n\u001b[1;32m----> 1\u001b[1;33m \u001b[0mdf_razmetka\u001b[0m \u001b[1;33m=\u001b[0m \u001b[0mstep4\u001b[0m\u001b[1;33m(\u001b[0m\u001b[0mdf_razmetka\u001b[0m\u001b[1;33m,\u001b[0m \u001b[1;34m'extr3'\u001b[0m\u001b[1;33m,\u001b[0m \u001b[1;34m'extr4'\u001b[0m\u001b[1;33m)\u001b[0m\u001b[1;33m\u001b[0m\u001b[1;33m\u001b[0m\u001b[0m\n\u001b[0m",
      "\u001b[1;32m~\\AppData\\Local\\Temp\\ipykernel_2076\\2100719363.py\u001b[0m in \u001b[0;36mstep4\u001b[1;34m(df_raw, extr_col, new_extr_col)\u001b[0m\n\u001b[0;32m     12\u001b[0m             \u001b[0mprofitable_combos\u001b[0m \u001b[1;33m=\u001b[0m \u001b[1;33m{\u001b[0m\u001b[1;33m}\u001b[0m\u001b[1;33m\u001b[0m\u001b[1;33m\u001b[0m\u001b[0m\n\u001b[0;32m     13\u001b[0m             \u001b[1;32mfor\u001b[0m \u001b[0mfirst_contract\u001b[0m \u001b[1;32min\u001b[0m \u001b[0mdf\u001b[0m\u001b[1;33m.\u001b[0m\u001b[0mloc\u001b[0m\u001b[1;33m[\u001b[0m\u001b[0mstart\u001b[0m\u001b[1;33m+\u001b[0m\u001b[1;36m1\u001b[0m\u001b[1;33m:\u001b[0m\u001b[0mend\u001b[0m\u001b[1;33m-\u001b[0m\u001b[1;36m1\u001b[0m\u001b[1;33m]\u001b[0m\u001b[1;33m.\u001b[0m\u001b[0mloc\u001b[0m\u001b[1;33m[\u001b[0m\u001b[0mdf\u001b[0m\u001b[1;33m[\u001b[0m\u001b[0morder_short_long\u001b[0m\u001b[1;33m[\u001b[0m\u001b[1;36m0\u001b[0m\u001b[1;33m]\u001b[0m\u001b[1;33m]\u001b[0m\u001b[1;33m]\u001b[0m\u001b[1;33m.\u001b[0m\u001b[0mindex\u001b[0m\u001b[1;33m:\u001b[0m\u001b[1;33m\u001b[0m\u001b[1;33m\u001b[0m\u001b[0m\n\u001b[1;32m---> 14\u001b[1;33m                 \u001b[1;32mfor\u001b[0m \u001b[0msecond_contract\u001b[0m \u001b[1;32min\u001b[0m \u001b[0mdf\u001b[0m\u001b[1;33m.\u001b[0m\u001b[0mloc\u001b[0m\u001b[1;33m[\u001b[0m\u001b[0mfirst_contract\u001b[0m\u001b[1;33m+\u001b[0m\u001b[1;36m1\u001b[0m\u001b[1;33m:\u001b[0m\u001b[0mend\u001b[0m\u001b[1;33m-\u001b[0m\u001b[1;36m1\u001b[0m\u001b[1;33m]\u001b[0m\u001b[1;33m.\u001b[0m\u001b[0mloc\u001b[0m\u001b[1;33m[\u001b[0m\u001b[0mdf\u001b[0m\u001b[1;33m[\u001b[0m\u001b[0morder_short_long\u001b[0m\u001b[1;33m[\u001b[0m\u001b[1;36m1\u001b[0m\u001b[1;33m]\u001b[0m\u001b[1;33m]\u001b[0m\u001b[1;33m]\u001b[0m\u001b[1;33m.\u001b[0m\u001b[0mindex\u001b[0m\u001b[1;33m:\u001b[0m\u001b[1;33m\u001b[0m\u001b[1;33m\u001b[0m\u001b[0m\n\u001b[0m\u001b[0;32m     15\u001b[0m                     extr2_balance = get_balance(1, \n\u001b[0;32m     16\u001b[0m                                                 \u001b[0mprice\u001b[0m\u001b[1;33m(\u001b[0m\u001b[0mstart\u001b[0m\u001b[1;33m)\u001b[0m\u001b[1;33m,\u001b[0m\u001b[1;33m\u001b[0m\u001b[1;33m\u001b[0m\u001b[0m\n",
      "\u001b[1;32mc:\\Coding\\Anaconda\\envs\\binance\\lib\\site-packages\\pandas\\core\\indexing.py\u001b[0m in \u001b[0;36m__getitem__\u001b[1;34m(self, key)\u001b[0m\n\u001b[0;32m    929\u001b[0m \u001b[1;33m\u001b[0m\u001b[0m\n\u001b[0;32m    930\u001b[0m             \u001b[0mmaybe_callable\u001b[0m \u001b[1;33m=\u001b[0m \u001b[0mcom\u001b[0m\u001b[1;33m.\u001b[0m\u001b[0mapply_if_callable\u001b[0m\u001b[1;33m(\u001b[0m\u001b[0mkey\u001b[0m\u001b[1;33m,\u001b[0m \u001b[0mself\u001b[0m\u001b[1;33m.\u001b[0m\u001b[0mobj\u001b[0m\u001b[1;33m)\u001b[0m\u001b[1;33m\u001b[0m\u001b[1;33m\u001b[0m\u001b[0m\n\u001b[1;32m--> 931\u001b[1;33m             \u001b[1;32mreturn\u001b[0m \u001b[0mself\u001b[0m\u001b[1;33m.\u001b[0m\u001b[0m_getitem_axis\u001b[0m\u001b[1;33m(\u001b[0m\u001b[0mmaybe_callable\u001b[0m\u001b[1;33m,\u001b[0m \u001b[0maxis\u001b[0m\u001b[1;33m=\u001b[0m\u001b[0maxis\u001b[0m\u001b[1;33m)\u001b[0m\u001b[1;33m\u001b[0m\u001b[1;33m\u001b[0m\u001b[0m\n\u001b[0m\u001b[0;32m    932\u001b[0m \u001b[1;33m\u001b[0m\u001b[0m\n\u001b[0;32m    933\u001b[0m     \u001b[1;32mdef\u001b[0m \u001b[0m_is_scalar_access\u001b[0m\u001b[1;33m(\u001b[0m\u001b[0mself\u001b[0m\u001b[1;33m,\u001b[0m \u001b[0mkey\u001b[0m\u001b[1;33m:\u001b[0m \u001b[0mtuple\u001b[0m\u001b[1;33m)\u001b[0m\u001b[1;33m:\u001b[0m\u001b[1;33m\u001b[0m\u001b[1;33m\u001b[0m\u001b[0m\n",
      "\u001b[1;32mc:\\Coding\\Anaconda\\envs\\binance\\lib\\site-packages\\pandas\\core\\indexing.py\u001b[0m in \u001b[0;36m_getitem_axis\u001b[1;34m(self, key, axis)\u001b[0m\n\u001b[0;32m   1142\u001b[0m             \u001b[1;32mreturn\u001b[0m \u001b[0mself\u001b[0m\u001b[1;33m.\u001b[0m\u001b[0m_get_slice_axis\u001b[0m\u001b[1;33m(\u001b[0m\u001b[0mkey\u001b[0m\u001b[1;33m,\u001b[0m \u001b[0maxis\u001b[0m\u001b[1;33m=\u001b[0m\u001b[0maxis\u001b[0m\u001b[1;33m)\u001b[0m\u001b[1;33m\u001b[0m\u001b[1;33m\u001b[0m\u001b[0m\n\u001b[0;32m   1143\u001b[0m         \u001b[1;32melif\u001b[0m \u001b[0mcom\u001b[0m\u001b[1;33m.\u001b[0m\u001b[0mis_bool_indexer\u001b[0m\u001b[1;33m(\u001b[0m\u001b[0mkey\u001b[0m\u001b[1;33m)\u001b[0m\u001b[1;33m:\u001b[0m\u001b[1;33m\u001b[0m\u001b[1;33m\u001b[0m\u001b[0m\n\u001b[1;32m-> 1144\u001b[1;33m             \u001b[1;32mreturn\u001b[0m \u001b[0mself\u001b[0m\u001b[1;33m.\u001b[0m\u001b[0m_getbool_axis\u001b[0m\u001b[1;33m(\u001b[0m\u001b[0mkey\u001b[0m\u001b[1;33m,\u001b[0m \u001b[0maxis\u001b[0m\u001b[1;33m=\u001b[0m\u001b[0maxis\u001b[0m\u001b[1;33m)\u001b[0m\u001b[1;33m\u001b[0m\u001b[1;33m\u001b[0m\u001b[0m\n\u001b[0m\u001b[0;32m   1145\u001b[0m         \u001b[1;32melif\u001b[0m \u001b[0mis_list_like_indexer\u001b[0m\u001b[1;33m(\u001b[0m\u001b[0mkey\u001b[0m\u001b[1;33m)\u001b[0m\u001b[1;33m:\u001b[0m\u001b[1;33m\u001b[0m\u001b[1;33m\u001b[0m\u001b[0m\n\u001b[0;32m   1146\u001b[0m \u001b[1;33m\u001b[0m\u001b[0m\n",
      "\u001b[1;32mc:\\Coding\\Anaconda\\envs\\binance\\lib\\site-packages\\pandas\\core\\indexing.py\u001b[0m in \u001b[0;36m_getbool_axis\u001b[1;34m(self, key, axis)\u001b[0m\n\u001b[0;32m    948\u001b[0m         \u001b[0mkey\u001b[0m \u001b[1;33m=\u001b[0m \u001b[0mcheck_bool_indexer\u001b[0m\u001b[1;33m(\u001b[0m\u001b[0mlabels\u001b[0m\u001b[1;33m,\u001b[0m \u001b[0mkey\u001b[0m\u001b[1;33m)\u001b[0m\u001b[1;33m\u001b[0m\u001b[1;33m\u001b[0m\u001b[0m\n\u001b[0;32m    949\u001b[0m         \u001b[0minds\u001b[0m \u001b[1;33m=\u001b[0m \u001b[0mkey\u001b[0m\u001b[1;33m.\u001b[0m\u001b[0mnonzero\u001b[0m\u001b[1;33m(\u001b[0m\u001b[1;33m)\u001b[0m\u001b[1;33m[\u001b[0m\u001b[1;36m0\u001b[0m\u001b[1;33m]\u001b[0m\u001b[1;33m\u001b[0m\u001b[1;33m\u001b[0m\u001b[0m\n\u001b[1;32m--> 950\u001b[1;33m         \u001b[1;32mreturn\u001b[0m \u001b[0mself\u001b[0m\u001b[1;33m.\u001b[0m\u001b[0mobj\u001b[0m\u001b[1;33m.\u001b[0m\u001b[0m_take_with_is_copy\u001b[0m\u001b[1;33m(\u001b[0m\u001b[0minds\u001b[0m\u001b[1;33m,\u001b[0m \u001b[0maxis\u001b[0m\u001b[1;33m=\u001b[0m\u001b[0maxis\u001b[0m\u001b[1;33m)\u001b[0m\u001b[1;33m\u001b[0m\u001b[1;33m\u001b[0m\u001b[0m\n\u001b[0m\u001b[0;32m    951\u001b[0m \u001b[1;33m\u001b[0m\u001b[0m\n\u001b[0;32m    952\u001b[0m \u001b[1;33m\u001b[0m\u001b[0m\n",
      "\u001b[1;32mc:\\Coding\\Anaconda\\envs\\binance\\lib\\site-packages\\pandas\\core\\generic.py\u001b[0m in \u001b[0;36m_take_with_is_copy\u001b[1;34m(self, indices, axis)\u001b[0m\n\u001b[0;32m   3626\u001b[0m         \u001b[0mSee\u001b[0m \u001b[0mthe\u001b[0m \u001b[0mdocstring\u001b[0m \u001b[0mof\u001b[0m\u001b[0;31m \u001b[0m\u001b[0;31m`\u001b[0m\u001b[0mtake\u001b[0m\u001b[0;31m`\u001b[0m \u001b[1;32mfor\u001b[0m \u001b[0mfull\u001b[0m \u001b[0mexplanation\u001b[0m \u001b[0mof\u001b[0m \u001b[0mthe\u001b[0m \u001b[0mparameters\u001b[0m\u001b[1;33m.\u001b[0m\u001b[1;33m\u001b[0m\u001b[1;33m\u001b[0m\u001b[0m\n\u001b[0;32m   3627\u001b[0m         \"\"\"\n\u001b[1;32m-> 3628\u001b[1;33m         \u001b[0mresult\u001b[0m \u001b[1;33m=\u001b[0m \u001b[0mself\u001b[0m\u001b[1;33m.\u001b[0m\u001b[0mtake\u001b[0m\u001b[1;33m(\u001b[0m\u001b[0mindices\u001b[0m\u001b[1;33m=\u001b[0m\u001b[0mindices\u001b[0m\u001b[1;33m,\u001b[0m \u001b[0maxis\u001b[0m\u001b[1;33m=\u001b[0m\u001b[0maxis\u001b[0m\u001b[1;33m)\u001b[0m\u001b[1;33m\u001b[0m\u001b[1;33m\u001b[0m\u001b[0m\n\u001b[0m\u001b[0;32m   3629\u001b[0m         \u001b[1;31m# Maybe set copy if we didn't actually change the index.\u001b[0m\u001b[1;33m\u001b[0m\u001b[1;33m\u001b[0m\u001b[1;33m\u001b[0m\u001b[0m\n\u001b[0;32m   3630\u001b[0m         \u001b[1;32mif\u001b[0m \u001b[1;32mnot\u001b[0m \u001b[0mresult\u001b[0m\u001b[1;33m.\u001b[0m\u001b[0m_get_axis\u001b[0m\u001b[1;33m(\u001b[0m\u001b[0maxis\u001b[0m\u001b[1;33m)\u001b[0m\u001b[1;33m.\u001b[0m\u001b[0mequals\u001b[0m\u001b[1;33m(\u001b[0m\u001b[0mself\u001b[0m\u001b[1;33m.\u001b[0m\u001b[0m_get_axis\u001b[0m\u001b[1;33m(\u001b[0m\u001b[0maxis\u001b[0m\u001b[1;33m)\u001b[0m\u001b[1;33m)\u001b[0m\u001b[1;33m:\u001b[0m\u001b[1;33m\u001b[0m\u001b[1;33m\u001b[0m\u001b[0m\n",
      "\u001b[1;32mc:\\Coding\\Anaconda\\envs\\binance\\lib\\site-packages\\pandas\\core\\generic.py\u001b[0m in \u001b[0;36mtake\u001b[1;34m(self, indices, axis, is_copy, **kwargs)\u001b[0m\n\u001b[0;32m   3611\u001b[0m         \u001b[0mnv\u001b[0m\u001b[1;33m.\u001b[0m\u001b[0mvalidate_take\u001b[0m\u001b[1;33m(\u001b[0m\u001b[1;33m(\u001b[0m\u001b[1;33m)\u001b[0m\u001b[1;33m,\u001b[0m \u001b[0mkwargs\u001b[0m\u001b[1;33m)\u001b[0m\u001b[1;33m\u001b[0m\u001b[1;33m\u001b[0m\u001b[0m\n\u001b[0;32m   3612\u001b[0m \u001b[1;33m\u001b[0m\u001b[0m\n\u001b[1;32m-> 3613\u001b[1;33m         \u001b[0mself\u001b[0m\u001b[1;33m.\u001b[0m\u001b[0m_consolidate_inplace\u001b[0m\u001b[1;33m(\u001b[0m\u001b[1;33m)\u001b[0m\u001b[1;33m\u001b[0m\u001b[1;33m\u001b[0m\u001b[0m\n\u001b[0m\u001b[0;32m   3614\u001b[0m \u001b[1;33m\u001b[0m\u001b[0m\n\u001b[0;32m   3615\u001b[0m         new_data = self._mgr.take(\n",
      "\u001b[1;32mc:\\Coding\\Anaconda\\envs\\binance\\lib\\site-packages\\pandas\\core\\generic.py\u001b[0m in \u001b[0;36m_consolidate_inplace\u001b[1;34m(self)\u001b[0m\n\u001b[0;32m   5563\u001b[0m             \u001b[0mself\u001b[0m\u001b[1;33m.\u001b[0m\u001b[0m_mgr\u001b[0m \u001b[1;33m=\u001b[0m \u001b[0mself\u001b[0m\u001b[1;33m.\u001b[0m\u001b[0m_mgr\u001b[0m\u001b[1;33m.\u001b[0m\u001b[0mconsolidate\u001b[0m\u001b[1;33m(\u001b[0m\u001b[1;33m)\u001b[0m\u001b[1;33m\u001b[0m\u001b[1;33m\u001b[0m\u001b[0m\n\u001b[0;32m   5564\u001b[0m \u001b[1;33m\u001b[0m\u001b[0m\n\u001b[1;32m-> 5565\u001b[1;33m         \u001b[0mself\u001b[0m\u001b[1;33m.\u001b[0m\u001b[0m_protect_consolidate\u001b[0m\u001b[1;33m(\u001b[0m\u001b[0mf\u001b[0m\u001b[1;33m)\u001b[0m\u001b[1;33m\u001b[0m\u001b[1;33m\u001b[0m\u001b[0m\n\u001b[0m\u001b[0;32m   5566\u001b[0m \u001b[1;33m\u001b[0m\u001b[0m\n\u001b[0;32m   5567\u001b[0m     \u001b[1;33m@\u001b[0m\u001b[0mfinal\u001b[0m\u001b[1;33m\u001b[0m\u001b[1;33m\u001b[0m\u001b[0m\n",
      "\u001b[1;32mc:\\Coding\\Anaconda\\envs\\binance\\lib\\site-packages\\pandas\\core\\generic.py\u001b[0m in \u001b[0;36m_protect_consolidate\u001b[1;34m(self, f)\u001b[0m\n\u001b[0;32m   5551\u001b[0m             \u001b[1;32mreturn\u001b[0m \u001b[0mf\u001b[0m\u001b[1;33m(\u001b[0m\u001b[1;33m)\u001b[0m\u001b[1;33m\u001b[0m\u001b[1;33m\u001b[0m\u001b[0m\n\u001b[0;32m   5552\u001b[0m         \u001b[0mblocks_before\u001b[0m \u001b[1;33m=\u001b[0m \u001b[0mlen\u001b[0m\u001b[1;33m(\u001b[0m\u001b[0mself\u001b[0m\u001b[1;33m.\u001b[0m\u001b[0m_mgr\u001b[0m\u001b[1;33m.\u001b[0m\u001b[0mblocks\u001b[0m\u001b[1;33m)\u001b[0m\u001b[1;33m\u001b[0m\u001b[1;33m\u001b[0m\u001b[0m\n\u001b[1;32m-> 5553\u001b[1;33m         \u001b[0mresult\u001b[0m \u001b[1;33m=\u001b[0m \u001b[0mf\u001b[0m\u001b[1;33m(\u001b[0m\u001b[1;33m)\u001b[0m\u001b[1;33m\u001b[0m\u001b[1;33m\u001b[0m\u001b[0m\n\u001b[0m\u001b[0;32m   5554\u001b[0m         \u001b[1;32mif\u001b[0m \u001b[0mlen\u001b[0m\u001b[1;33m(\u001b[0m\u001b[0mself\u001b[0m\u001b[1;33m.\u001b[0m\u001b[0m_mgr\u001b[0m\u001b[1;33m.\u001b[0m\u001b[0mblocks\u001b[0m\u001b[1;33m)\u001b[0m \u001b[1;33m!=\u001b[0m \u001b[0mblocks_before\u001b[0m\u001b[1;33m:\u001b[0m\u001b[1;33m\u001b[0m\u001b[1;33m\u001b[0m\u001b[0m\n\u001b[0;32m   5555\u001b[0m             \u001b[0mself\u001b[0m\u001b[1;33m.\u001b[0m\u001b[0m_clear_item_cache\u001b[0m\u001b[1;33m(\u001b[0m\u001b[1;33m)\u001b[0m\u001b[1;33m\u001b[0m\u001b[1;33m\u001b[0m\u001b[0m\n",
      "\u001b[1;32mc:\\Coding\\Anaconda\\envs\\binance\\lib\\site-packages\\pandas\\core\\generic.py\u001b[0m in \u001b[0;36mf\u001b[1;34m()\u001b[0m\n\u001b[0;32m   5561\u001b[0m \u001b[1;33m\u001b[0m\u001b[0m\n\u001b[0;32m   5562\u001b[0m         \u001b[1;32mdef\u001b[0m \u001b[0mf\u001b[0m\u001b[1;33m(\u001b[0m\u001b[1;33m)\u001b[0m\u001b[1;33m:\u001b[0m\u001b[1;33m\u001b[0m\u001b[1;33m\u001b[0m\u001b[0m\n\u001b[1;32m-> 5563\u001b[1;33m             \u001b[0mself\u001b[0m\u001b[1;33m.\u001b[0m\u001b[0m_mgr\u001b[0m \u001b[1;33m=\u001b[0m \u001b[0mself\u001b[0m\u001b[1;33m.\u001b[0m\u001b[0m_mgr\u001b[0m\u001b[1;33m.\u001b[0m\u001b[0mconsolidate\u001b[0m\u001b[1;33m(\u001b[0m\u001b[1;33m)\u001b[0m\u001b[1;33m\u001b[0m\u001b[1;33m\u001b[0m\u001b[0m\n\u001b[0m\u001b[0;32m   5564\u001b[0m \u001b[1;33m\u001b[0m\u001b[0m\n\u001b[0;32m   5565\u001b[0m         \u001b[0mself\u001b[0m\u001b[1;33m.\u001b[0m\u001b[0m_protect_consolidate\u001b[0m\u001b[1;33m(\u001b[0m\u001b[0mf\u001b[0m\u001b[1;33m)\u001b[0m\u001b[1;33m\u001b[0m\u001b[1;33m\u001b[0m\u001b[0m\n",
      "\u001b[1;32mc:\\Coding\\Anaconda\\envs\\binance\\lib\\site-packages\\pandas\\core\\internals\\managers.py\u001b[0m in \u001b[0;36mconsolidate\u001b[1;34m(self)\u001b[0m\n\u001b[0;32m    617\u001b[0m         \u001b[0mbm\u001b[0m \u001b[1;33m=\u001b[0m \u001b[0mtype\u001b[0m\u001b[1;33m(\u001b[0m\u001b[0mself\u001b[0m\u001b[1;33m)\u001b[0m\u001b[1;33m(\u001b[0m\u001b[0mself\u001b[0m\u001b[1;33m.\u001b[0m\u001b[0mblocks\u001b[0m\u001b[1;33m,\u001b[0m \u001b[0mself\u001b[0m\u001b[1;33m.\u001b[0m\u001b[0maxes\u001b[0m\u001b[1;33m,\u001b[0m \u001b[0mverify_integrity\u001b[0m\u001b[1;33m=\u001b[0m\u001b[1;32mFalse\u001b[0m\u001b[1;33m)\u001b[0m\u001b[1;33m\u001b[0m\u001b[1;33m\u001b[0m\u001b[0m\n\u001b[0;32m    618\u001b[0m         \u001b[0mbm\u001b[0m\u001b[1;33m.\u001b[0m\u001b[0m_is_consolidated\u001b[0m \u001b[1;33m=\u001b[0m \u001b[1;32mFalse\u001b[0m\u001b[1;33m\u001b[0m\u001b[1;33m\u001b[0m\u001b[0m\n\u001b[1;32m--> 619\u001b[1;33m         \u001b[0mbm\u001b[0m\u001b[1;33m.\u001b[0m\u001b[0m_consolidate_inplace\u001b[0m\u001b[1;33m(\u001b[0m\u001b[1;33m)\u001b[0m\u001b[1;33m\u001b[0m\u001b[1;33m\u001b[0m\u001b[0m\n\u001b[0m\u001b[0;32m    620\u001b[0m         \u001b[1;32mreturn\u001b[0m \u001b[0mbm\u001b[0m\u001b[1;33m\u001b[0m\u001b[1;33m\u001b[0m\u001b[0m\n\u001b[0;32m    621\u001b[0m \u001b[1;33m\u001b[0m\u001b[0m\n",
      "\u001b[1;32mc:\\Coding\\Anaconda\\envs\\binance\\lib\\site-packages\\pandas\\core\\internals\\managers.py\u001b[0m in \u001b[0;36m_consolidate_inplace\u001b[1;34m(self)\u001b[0m\n\u001b[0;32m    622\u001b[0m     \u001b[1;32mdef\u001b[0m \u001b[0m_consolidate_inplace\u001b[0m\u001b[1;33m(\u001b[0m\u001b[0mself\u001b[0m\u001b[1;33m)\u001b[0m \u001b[1;33m->\u001b[0m \u001b[1;32mNone\u001b[0m\u001b[1;33m:\u001b[0m\u001b[1;33m\u001b[0m\u001b[1;33m\u001b[0m\u001b[0m\n\u001b[0;32m    623\u001b[0m         \u001b[1;32mif\u001b[0m \u001b[1;32mnot\u001b[0m \u001b[0mself\u001b[0m\u001b[1;33m.\u001b[0m\u001b[0mis_consolidated\u001b[0m\u001b[1;33m(\u001b[0m\u001b[1;33m)\u001b[0m\u001b[1;33m:\u001b[0m\u001b[1;33m\u001b[0m\u001b[1;33m\u001b[0m\u001b[0m\n\u001b[1;32m--> 624\u001b[1;33m             \u001b[0mself\u001b[0m\u001b[1;33m.\u001b[0m\u001b[0mblocks\u001b[0m \u001b[1;33m=\u001b[0m \u001b[0mtuple\u001b[0m\u001b[1;33m(\u001b[0m\u001b[0m_consolidate\u001b[0m\u001b[1;33m(\u001b[0m\u001b[0mself\u001b[0m\u001b[1;33m.\u001b[0m\u001b[0mblocks\u001b[0m\u001b[1;33m)\u001b[0m\u001b[1;33m)\u001b[0m\u001b[1;33m\u001b[0m\u001b[1;33m\u001b[0m\u001b[0m\n\u001b[0m\u001b[0;32m    625\u001b[0m             \u001b[0mself\u001b[0m\u001b[1;33m.\u001b[0m\u001b[0m_is_consolidated\u001b[0m \u001b[1;33m=\u001b[0m \u001b[1;32mTrue\u001b[0m\u001b[1;33m\u001b[0m\u001b[1;33m\u001b[0m\u001b[0m\n\u001b[0;32m    626\u001b[0m             \u001b[0mself\u001b[0m\u001b[1;33m.\u001b[0m\u001b[0m_known_consolidated\u001b[0m \u001b[1;33m=\u001b[0m \u001b[1;32mTrue\u001b[0m\u001b[1;33m\u001b[0m\u001b[1;33m\u001b[0m\u001b[0m\n",
      "\u001b[1;32mc:\\Coding\\Anaconda\\envs\\binance\\lib\\site-packages\\pandas\\core\\internals\\managers.py\u001b[0m in \u001b[0;36m_consolidate\u001b[1;34m(blocks)\u001b[0m\n\u001b[0;32m   1973\u001b[0m     \u001b[1;32mfor\u001b[0m \u001b[1;33m(\u001b[0m\u001b[0m_can_consolidate\u001b[0m\u001b[1;33m,\u001b[0m \u001b[0mdtype\u001b[0m\u001b[1;33m)\u001b[0m\u001b[1;33m,\u001b[0m \u001b[0mgroup_blocks\u001b[0m \u001b[1;32min\u001b[0m \u001b[0mgrouper\u001b[0m\u001b[1;33m:\u001b[0m\u001b[1;33m\u001b[0m\u001b[1;33m\u001b[0m\u001b[0m\n\u001b[0;32m   1974\u001b[0m         merged_blocks = _merge_blocks(\n\u001b[1;32m-> 1975\u001b[1;33m             \u001b[0mlist\u001b[0m\u001b[1;33m(\u001b[0m\u001b[0mgroup_blocks\u001b[0m\u001b[1;33m)\u001b[0m\u001b[1;33m,\u001b[0m \u001b[0mdtype\u001b[0m\u001b[1;33m=\u001b[0m\u001b[0mdtype\u001b[0m\u001b[1;33m,\u001b[0m \u001b[0mcan_consolidate\u001b[0m\u001b[1;33m=\u001b[0m\u001b[0m_can_consolidate\u001b[0m\u001b[1;33m\u001b[0m\u001b[1;33m\u001b[0m\u001b[0m\n\u001b[0m\u001b[0;32m   1976\u001b[0m         )\n\u001b[0;32m   1977\u001b[0m         \u001b[0mnew_blocks\u001b[0m \u001b[1;33m=\u001b[0m \u001b[0mextend_blocks\u001b[0m\u001b[1;33m(\u001b[0m\u001b[0mmerged_blocks\u001b[0m\u001b[1;33m,\u001b[0m \u001b[0mnew_blocks\u001b[0m\u001b[1;33m)\u001b[0m\u001b[1;33m\u001b[0m\u001b[1;33m\u001b[0m\u001b[0m\n",
      "\u001b[1;32mc:\\Coding\\Anaconda\\envs\\binance\\lib\\site-packages\\pandas\\core\\internals\\managers.py\u001b[0m in \u001b[0;36m_merge_blocks\u001b[1;34m(blocks, dtype, can_consolidate)\u001b[0m\n\u001b[0;32m   2006\u001b[0m \u001b[1;33m\u001b[0m\u001b[0m\n\u001b[0;32m   2007\u001b[0m         \u001b[0margsort\u001b[0m \u001b[1;33m=\u001b[0m \u001b[0mnp\u001b[0m\u001b[1;33m.\u001b[0m\u001b[0margsort\u001b[0m\u001b[1;33m(\u001b[0m\u001b[0mnew_mgr_locs\u001b[0m\u001b[1;33m)\u001b[0m\u001b[1;33m\u001b[0m\u001b[1;33m\u001b[0m\u001b[0m\n\u001b[1;32m-> 2008\u001b[1;33m         \u001b[0mnew_values\u001b[0m \u001b[1;33m=\u001b[0m \u001b[0mnew_values\u001b[0m\u001b[1;33m[\u001b[0m\u001b[0margsort\u001b[0m\u001b[1;33m]\u001b[0m\u001b[1;33m\u001b[0m\u001b[1;33m\u001b[0m\u001b[0m\n\u001b[0m\u001b[0;32m   2009\u001b[0m         \u001b[0mnew_mgr_locs\u001b[0m \u001b[1;33m=\u001b[0m \u001b[0mnew_mgr_locs\u001b[0m\u001b[1;33m[\u001b[0m\u001b[0margsort\u001b[0m\u001b[1;33m]\u001b[0m\u001b[1;33m\u001b[0m\u001b[1;33m\u001b[0m\u001b[0m\n\u001b[0;32m   2010\u001b[0m \u001b[1;33m\u001b[0m\u001b[0m\n",
      "\u001b[1;31mKeyboardInterrupt\u001b[0m: "
     ]
    }
   ],
   "source": [
    "df_razmetka = step4(df_razmetka, 'extr3', 'extr4')"
   ]
  },
  {
   "cell_type": "code",
   "execution_count": null,
   "metadata": {},
   "outputs": [],
   "source": [
    "print(f\"total extremas: {df_razmetka['is_extrema'].sum():>12,}\")\n",
    "print(f\"extremas after step1: {df_razmetka['extr1'].sum():,}\")\n",
    "print(f\"extremas after step2: {df_razmetka['extr2'].sum():,}\")\n",
    "print(f\"extremas after step3: {df_razmetka['extr3'].sum():,}\")\n",
    "print(f\"extremas after step4: {df_razmetka['extr4'].sum():,}\")"
   ]
  },
  {
   "cell_type": "code",
   "execution_count": null,
   "metadata": {},
   "outputs": [],
   "source": [
    "plot_selected_extremas(df_razmetka, 'extr3', window=(400,800), figsize=(10,4))\n",
    "plot_selected_extremas(df_razmetka, 'extr4', window=(400,800), figsize=(10,4))\n",
    "\n",
    "df_razmetka['temp'] = ~df_razmetka['extr3'] & df_razmetka['extr4']\n",
    "plot_selected_extremas(df_razmetka, 'temp', window=(400,800), figsize=(10,4))\n",
    "df_razmetka.drop(columns='temp', inplace=True)"
   ]
  },
  {
   "attachments": {},
   "cell_type": "markdown",
   "metadata": {},
   "source": [
    "### repeat steps 3, 4 until number of extremas don't change"
   ]
  },
  {
   "cell_type": "code",
   "execution_count": null,
   "metadata": {},
   "outputs": [],
   "source": [
    "df_razmetka = step3(df_razmetka, 'extr4', 'extr5')\n",
    "df_razmetka = step4(df_razmetka, 'extr5', 'extr6')\n",
    "df_razmetka = step3(df_razmetka, 'extr6', 'extr7')"
   ]
  },
  {
   "cell_type": "code",
   "execution_count": null,
   "metadata": {},
   "outputs": [],
   "source": [
    "print(f\"total extremas: {df_razmetka['is_extrema'].sum():>12,}\")\n",
    "print(f\"extremas after step1: {df_razmetka['extr1'].sum():,}\")\n",
    "print(f\"extremas after step2: {df_razmetka['extr2'].sum():,}\")\n",
    "print(f\"extremas after step3: {df_razmetka['extr3'].sum():,}\")\n",
    "print(f\"extremas after step4: {df_razmetka['extr4'].sum():,}\")\n",
    "print(f\"extremas after step5: {df_razmetka['extr5'].sum():,}\")\n",
    "print(f\"extremas after step6: {df_razmetka['extr6'].sum():,}\")\n",
    "print(f\"extremas after step7: {df_razmetka['extr7'].sum():,}\")"
   ]
  },
  {
   "cell_type": "code",
   "execution_count": null,
   "metadata": {},
   "outputs": [],
   "source": [
    "# df_razmetka.to_csv('razmetkas/after_step7.csv')"
   ]
  },
  {
   "cell_type": "code",
   "execution_count": null,
   "metadata": {},
   "outputs": [],
   "source": [
    "plot_selected_extremas(temp1, 'extr6', 3000, figsize=(20,4))"
   ]
  },
  {
   "attachments": {},
   "cell_type": "markdown",
   "metadata": {},
   "source": [
    "## Initial model"
   ]
  },
  {
   "attachments": {},
   "cell_type": "markdown",
   "metadata": {},
   "source": [
    "### final df prep"
   ]
  },
  {
   "cell_type": "code",
   "execution_count": null,
   "metadata": {},
   "outputs": [],
   "source": [
    "df_total.to_csv('data/df_total.csv')\n",
    "df_razmetka.to_csv('data/df_razmetka.csv')\n",
    "\n",
    "df_total = pd.read_csv('data/df_total.csv', index_col=[0])\n",
    "df_razmetka = pd.read_csv('data/df_razmetka.csv', index_col=[0])"
   ]
  },
  {
   "cell_type": "code",
   "execution_count": null,
   "metadata": {},
   "outputs": [],
   "source": [
    "df_fin = df_total.copy()\n",
    "df_fin['extr2'] = df_razmetka['extr2']\n",
    "df_fin.drop(columns=['symbol_perp', 'diff', 'diff_shift1', 'is_extrema'], inplace=True)"
   ]
  },
  {
   "cell_type": "code",
   "execution_count": null,
   "metadata": {},
   "outputs": [],
   "source": [
    "df_fin.head()"
   ]
  },
  {
   "attachments": {},
   "cell_type": "markdown",
   "metadata": {},
   "source": [
    "Lets imagine our range of opening contract lays between \n",
    "\n",
    "(high + max(open, close))/2\n",
    "\n",
    "and\n",
    "\n",
    "(low + min(open, close))/2"
   ]
  },
  {
   "cell_type": "code",
   "execution_count": null,
   "metadata": {},
   "outputs": [],
   "source": [
    "df_fin['low_border'] = (df_fin['low_perp'] + df_fin[['open_perp', 'close_perp']].min(axis=1)) / 2\n",
    "df_fin['up_border'] = (df_fin['high_perp'] + df_fin[['open_perp', 'close_perp']].max(axis=1)) / 2"
   ]
  },
  {
   "cell_type": "code",
   "execution_count": null,
   "metadata": {},
   "outputs": [],
   "source": [
    "df_fin.head()"
   ]
  },
  {
   "cell_type": "code",
   "execution_count": null,
   "metadata": {},
   "outputs": [],
   "source": [
    "df_fin.loc[df_fin['extr2'] & df_fin['ismaxima'], 'target'] = df_fin.loc[df_fin['extr2'] & df_fin['ismaxima'], 'up_border']\n",
    "df_fin.loc[df_fin['extr2'] & df_fin['isminima'], 'target'] = df_fin.loc[df_fin['extr2'] & df_fin['isminima'], 'low_border']"
   ]
  },
  {
   "cell_type": "code",
   "execution_count": null,
   "metadata": {},
   "outputs": [],
   "source": [
    "df_fin = df_fin.fillna(method='bfill').dropna()"
   ]
  },
  {
   "cell_type": "code",
   "execution_count": null,
   "metadata": {},
   "outputs": [],
   "source": [
    "df_fin.head()"
   ]
  },
  {
   "cell_type": "code",
   "execution_count": null,
   "metadata": {},
   "outputs": [],
   "source": [
    "X = df_fin.drop(columns= ['timestamp', 'symbol_cq', 'ismaxima', 'isminima', 'extr2', 'low_border', 'up_border', 'target'])\n",
    "y = df_fin['target']"
   ]
  },
  {
   "cell_type": "code",
   "execution_count": null,
   "metadata": {},
   "outputs": [],
   "source": [
    "from sklearn.preprocessing import StandardScaler\n",
    "\n",
    "X_scaled = StandardScaler().fit_transform(X)\n",
    "y_scaled = StandardScaler().fit_transform(y.values.reshape(-1,1))"
   ]
  },
  {
   "cell_type": "code",
   "execution_count": null,
   "metadata": {},
   "outputs": [],
   "source": [
    "X_scaled\n",
    "y_scaled"
   ]
  },
  {
   "attachments": {},
   "cell_type": "markdown",
   "metadata": {},
   "source": [
    "## Simple Keras LSTM model"
   ]
  },
  {
   "cell_type": "code",
   "execution_count": null,
   "metadata": {},
   "outputs": [],
   "source": []
  },
  {
   "cell_type": "code",
   "execution_count": null,
   "metadata": {},
   "outputs": [],
   "source": []
  },
  {
   "attachments": {},
   "cell_type": "markdown",
   "metadata": {},
   "source": [
    "## Archive"
   ]
  },
  {
   "cell_type": "code",
   "execution_count": null,
   "metadata": {},
   "outputs": [],
   "source": [
    "# # for left, mid, right in zip(new_extremas[:-2], new_extremas[1:-1], new_extremas[2:]):\n",
    "# non_extremas = pd.Series(list(set(df_total.index[df_total['is_extrema']]) - set(extremas) - set([2])))\n",
    "# non_extremas.head()\n",
    "\n",
    "# new_extremas = extremas.copy()\n",
    "# start = 0\n",
    "# while True:\n",
    "#     new_extremas.reset_index(inplace=True, drop=True)\n",
    "#     # print(new_extremas.head())\n",
    "#     left, mid, right = new_extremas.index[start], new_extremas.index[start+1], new_extremas.index[start+2]\n",
    "#     print(f\"{start} - {new_extremas[left]:>3} ({df_total.loc[left, 'open_perp']}) {new_extremas[mid]} ({df_total.loc[mid, 'open_perp']}) {new_extremas[right]} ({df_total.loc[right, 'open_perp']})\", end = '   ')\n",
    "#     points_inbetween = non_extremas[(non_extremas > left) & (non_extremas < right)]\n",
    "#     all_points = pd.concat([points_inbetween, pd.Series([left, mid, right])])\n",
    "#     if (df_total.loc[new_extremas[left], 'open_perp'] > df_total.loc[new_extremas[mid], 'open_perp']):\n",
    "#         print('min')\n",
    "#         new_minima = df_total.loc[all_points, 'open_perp'].idxmin()\n",
    "#         if new_minima == new_extremas[mid]:\n",
    "#             start += 1\n",
    "#             continue\n",
    "#         elif new_minima == new_extremas[right]:\n",
    "#             new_extremas.pop(new_extremas[start+1])\n",
    "#             continue\n",
    "#         else:\n",
    "#             new_extremas[start+1] = new_minima\n",
    "#             start += 1\n",
    "#             continue\n",
    "#     elif (df_total.loc[new_extremas[left], 'open_perp'] < df_total.loc[new_extremas[mid], 'open_perp']):\n",
    "#         print('max')\n",
    "#         new_maxima = df_total.loc[all_points, 'open_perp'].idxmax()\n",
    "#         if new_maxima == new_extremas[mid]:\n",
    "#             start += 1\n",
    "#             continue\n",
    "#         elif new_maxima == new_extremas[right]:\n",
    "#             new_extremas.pop(new_extremas[start+1])\n",
    "#             continue\n",
    "#         else:\n",
    "#             new_extremas[start+1] = new_maxima\n",
    "#             start += 1\n",
    "#             continue\n",
    "#     else:\n",
    "#         print('drop')\n",
    "#         new_extremas.pop(new_extremas.index[mid])\n",
    "#         continue\n",
    "    \n",
    "        "
   ]
  }
 ],
 "metadata": {
  "kernelspec": {
   "display_name": "binance",
   "language": "python",
   "name": "python3"
  },
  "language_info": {
   "codemirror_mode": {
    "name": "ipython",
    "version": 3
   },
   "file_extension": ".py",
   "mimetype": "text/x-python",
   "name": "python",
   "nbconvert_exporter": "python",
   "pygments_lexer": "ipython3",
   "version": "3.7.13"
  },
  "orig_nbformat": 4
 },
 "nbformat": 4,
 "nbformat_minor": 2
}
