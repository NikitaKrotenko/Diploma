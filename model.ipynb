{
 "cells": [
  {
   "attachments": {},
   "cell_type": "markdown",
   "metadata": {},
   "source": [
    "## Imports"
   ]
  },
  {
   "cell_type": "code",
   "execution_count": 29,
   "metadata": {},
   "outputs": [],
   "source": [
    "# from src.config.config import Config\n",
    "# from src.db_writer.db import DB\n",
    "import pandas as pd\n",
    "import numpy as np\n",
    "pd.set_option('display.max_columns', None)"
   ]
  },
  {
   "cell_type": "code",
   "execution_count": 30,
   "metadata": {},
   "outputs": [],
   "source": [
    "import matplotlib.pyplot as plt\n",
    "import seaborn as sns\n",
    "plt.rcParams[\"figure.figsize\"] = (12.8, 7.2)"
   ]
  },
  {
   "attachments": {},
   "cell_type": "markdown",
   "metadata": {},
   "source": [
    "## Preparation"
   ]
  },
  {
   "cell_type": "code",
   "execution_count": 31,
   "metadata": {},
   "outputs": [],
   "source": [
    "df_total = pd.read_csv('data/df_total.csv', index_col=[0])\n",
    "df_razmetka = pd.read_csv('data/df_razmetka.csv', index_col=[0])"
   ]
  },
  {
   "cell_type": "code",
   "execution_count": 32,
   "metadata": {},
   "outputs": [],
   "source": [
    "df_fin = df_total.copy()\n",
    "df_fin['extr2'] = df_razmetka['extr2']\n",
    "df_fin.drop(columns=['symbol_perp','time_diff', 'diff', 'diff_shift1', 'is_extremum'], inplace=True)"
   ]
  },
  {
   "attachments": {},
   "cell_type": "markdown",
   "metadata": {},
   "source": [
    "Lets imagine our range of opening contract lays between \n",
    "\n",
    "(high + max(open, close))/2\n",
    "\n",
    "and\n",
    "\n",
    "(low + min(open, close))/2"
   ]
  },
  {
   "cell_type": "code",
   "execution_count": 33,
   "metadata": {},
   "outputs": [],
   "source": [
    "df_fin.loc[~df_fin['extr2'], ['ismaxima', 'isminima']] = False"
   ]
  },
  {
   "cell_type": "code",
   "execution_count": 38,
   "metadata": {},
   "outputs": [],
   "source": [
    "df_fin['low_border'] = (df_fin['low_perp'] + df_fin[['open_perp', 'close_perp']].min(axis=1)) / 2\n",
    "df_fin['up_border'] = (df_fin['high_perp'] + df_fin[['open_perp', 'close_perp']].max(axis=1)) / 2\n",
    "\n",
    "df_fin.loc[df_fin['ismaxima'], 'target1'] = df_fin.loc[df_fin['ismaxima'], 'up_border']\n",
    "df_fin.loc[df_fin['isminima'], 'target1'] = df_fin.loc[df_fin['isminima'], 'low_border']\n",
    "\n",
    "df_fin.loc[df_fin['extr2'], 'target2'] = df_fin.loc[df_fin['extr2'], 'target1'].shift(-1)\n",
    "\n",
    "df_fin[['target1', 'target2']] = df_fin[['target1', 'target2']].shift(-1).fillna(method='bfill')\n",
    "df_fin.dropna(inplace=True)"
   ]
  },
  {
   "cell_type": "code",
   "execution_count": 39,
   "metadata": {},
   "outputs": [
    {
     "data": {
      "text/html": [
       "<div>\n",
       "<style scoped>\n",
       "    .dataframe tbody tr th:only-of-type {\n",
       "        vertical-align: middle;\n",
       "    }\n",
       "\n",
       "    .dataframe tbody tr th {\n",
       "        vertical-align: top;\n",
       "    }\n",
       "\n",
       "    .dataframe thead th {\n",
       "        text-align: right;\n",
       "    }\n",
       "</style>\n",
       "<table border=\"1\" class=\"dataframe\">\n",
       "  <thead>\n",
       "    <tr style=\"text-align: right;\">\n",
       "      <th></th>\n",
       "      <th>extr2</th>\n",
       "      <th>low_border</th>\n",
       "      <th>up_border</th>\n",
       "      <th>target1</th>\n",
       "      <th>target2</th>\n",
       "    </tr>\n",
       "  </thead>\n",
       "  <tbody>\n",
       "    <tr>\n",
       "      <th>0</th>\n",
       "      <td>False</td>\n",
       "      <td>21455.30</td>\n",
       "      <td>21478.05</td>\n",
       "      <td>21445.90</td>\n",
       "      <td>21344.80</td>\n",
       "    </tr>\n",
       "    <tr>\n",
       "      <th>1</th>\n",
       "      <td>False</td>\n",
       "      <td>21430.20</td>\n",
       "      <td>21459.70</td>\n",
       "      <td>21445.90</td>\n",
       "      <td>21344.80</td>\n",
       "    </tr>\n",
       "    <tr>\n",
       "      <th>2</th>\n",
       "      <td>False</td>\n",
       "      <td>21422.20</td>\n",
       "      <td>21445.00</td>\n",
       "      <td>21445.90</td>\n",
       "      <td>21344.80</td>\n",
       "    </tr>\n",
       "    <tr>\n",
       "      <th>3</th>\n",
       "      <td>True</td>\n",
       "      <td>21437.50</td>\n",
       "      <td>21445.90</td>\n",
       "      <td>21344.80</td>\n",
       "      <td>21392.75</td>\n",
       "    </tr>\n",
       "    <tr>\n",
       "      <th>4</th>\n",
       "      <td>False</td>\n",
       "      <td>21430.60</td>\n",
       "      <td>21446.80</td>\n",
       "      <td>21344.80</td>\n",
       "      <td>21392.75</td>\n",
       "    </tr>\n",
       "    <tr>\n",
       "      <th>5</th>\n",
       "      <td>False</td>\n",
       "      <td>21423.50</td>\n",
       "      <td>21431.95</td>\n",
       "      <td>21344.80</td>\n",
       "      <td>21392.75</td>\n",
       "    </tr>\n",
       "    <tr>\n",
       "      <th>6</th>\n",
       "      <td>False</td>\n",
       "      <td>21404.00</td>\n",
       "      <td>21438.35</td>\n",
       "      <td>21344.80</td>\n",
       "      <td>21392.75</td>\n",
       "    </tr>\n",
       "    <tr>\n",
       "      <th>7</th>\n",
       "      <td>False</td>\n",
       "      <td>21359.00</td>\n",
       "      <td>21406.95</td>\n",
       "      <td>21344.80</td>\n",
       "      <td>21392.75</td>\n",
       "    </tr>\n",
       "    <tr>\n",
       "      <th>8</th>\n",
       "      <td>False</td>\n",
       "      <td>21345.95</td>\n",
       "      <td>21369.75</td>\n",
       "      <td>21344.80</td>\n",
       "      <td>21392.75</td>\n",
       "    </tr>\n",
       "    <tr>\n",
       "      <th>9</th>\n",
       "      <td>False</td>\n",
       "      <td>21323.50</td>\n",
       "      <td>21355.75</td>\n",
       "      <td>21344.80</td>\n",
       "      <td>21392.75</td>\n",
       "    </tr>\n",
       "    <tr>\n",
       "      <th>10</th>\n",
       "      <td>True</td>\n",
       "      <td>21344.80</td>\n",
       "      <td>21364.70</td>\n",
       "      <td>21392.75</td>\n",
       "      <td>21324.00</td>\n",
       "    </tr>\n",
       "    <tr>\n",
       "      <th>11</th>\n",
       "      <td>False</td>\n",
       "      <td>21364.35</td>\n",
       "      <td>21385.50</td>\n",
       "      <td>21392.75</td>\n",
       "      <td>21324.00</td>\n",
       "    </tr>\n",
       "    <tr>\n",
       "      <th>12</th>\n",
       "      <td>False</td>\n",
       "      <td>21370.00</td>\n",
       "      <td>21397.70</td>\n",
       "      <td>21392.75</td>\n",
       "      <td>21324.00</td>\n",
       "    </tr>\n",
       "    <tr>\n",
       "      <th>13</th>\n",
       "      <td>True</td>\n",
       "      <td>21383.95</td>\n",
       "      <td>21392.75</td>\n",
       "      <td>21324.00</td>\n",
       "      <td>21441.15</td>\n",
       "    </tr>\n",
       "    <tr>\n",
       "      <th>14</th>\n",
       "      <td>False</td>\n",
       "      <td>21353.45</td>\n",
       "      <td>21387.30</td>\n",
       "      <td>21324.00</td>\n",
       "      <td>21441.15</td>\n",
       "    </tr>\n",
       "    <tr>\n",
       "      <th>15</th>\n",
       "      <td>False</td>\n",
       "      <td>21356.30</td>\n",
       "      <td>21375.20</td>\n",
       "      <td>21324.00</td>\n",
       "      <td>21441.15</td>\n",
       "    </tr>\n",
       "    <tr>\n",
       "      <th>16</th>\n",
       "      <td>False</td>\n",
       "      <td>21360.80</td>\n",
       "      <td>21375.20</td>\n",
       "      <td>21324.00</td>\n",
       "      <td>21441.15</td>\n",
       "    </tr>\n",
       "    <tr>\n",
       "      <th>17</th>\n",
       "      <td>False</td>\n",
       "      <td>21354.05</td>\n",
       "      <td>21372.55</td>\n",
       "      <td>21324.00</td>\n",
       "      <td>21441.15</td>\n",
       "    </tr>\n",
       "    <tr>\n",
       "      <th>18</th>\n",
       "      <td>False</td>\n",
       "      <td>21349.95</td>\n",
       "      <td>21364.50</td>\n",
       "      <td>21324.00</td>\n",
       "      <td>21441.15</td>\n",
       "    </tr>\n",
       "    <tr>\n",
       "      <th>19</th>\n",
       "      <td>False</td>\n",
       "      <td>21359.90</td>\n",
       "      <td>21368.70</td>\n",
       "      <td>21324.00</td>\n",
       "      <td>21441.15</td>\n",
       "    </tr>\n",
       "  </tbody>\n",
       "</table>\n",
       "</div>"
      ],
      "text/plain": [
       "    extr2  low_border  up_border   target1   target2\n",
       "0   False    21455.30   21478.05  21445.90  21344.80\n",
       "1   False    21430.20   21459.70  21445.90  21344.80\n",
       "2   False    21422.20   21445.00  21445.90  21344.80\n",
       "3    True    21437.50   21445.90  21344.80  21392.75\n",
       "4   False    21430.60   21446.80  21344.80  21392.75\n",
       "5   False    21423.50   21431.95  21344.80  21392.75\n",
       "6   False    21404.00   21438.35  21344.80  21392.75\n",
       "7   False    21359.00   21406.95  21344.80  21392.75\n",
       "8   False    21345.95   21369.75  21344.80  21392.75\n",
       "9   False    21323.50   21355.75  21344.80  21392.75\n",
       "10   True    21344.80   21364.70  21392.75  21324.00\n",
       "11  False    21364.35   21385.50  21392.75  21324.00\n",
       "12  False    21370.00   21397.70  21392.75  21324.00\n",
       "13   True    21383.95   21392.75  21324.00  21441.15\n",
       "14  False    21353.45   21387.30  21324.00  21441.15\n",
       "15  False    21356.30   21375.20  21324.00  21441.15\n",
       "16  False    21360.80   21375.20  21324.00  21441.15\n",
       "17  False    21354.05   21372.55  21324.00  21441.15\n",
       "18  False    21349.95   21364.50  21324.00  21441.15\n",
       "19  False    21359.90   21368.70  21324.00  21441.15"
      ]
     },
     "execution_count": 39,
     "metadata": {},
     "output_type": "execute_result"
    }
   ],
   "source": [
    "df_fin.iloc[:, -5:].head(20)"
   ]
  },
  {
   "attachments": {},
   "cell_type": "markdown",
   "metadata": {},
   "source": [
    "## Train test"
   ]
  },
  {
   "cell_type": "code",
   "execution_count": 24,
   "metadata": {},
   "outputs": [],
   "source": [
    "X = df_fin.drop(columns= ['timestamp', 'symbol_cq', 'ismaxima', 'isminima', 'extr2', 'low_border', 'up_border', 'target'])\n",
    "y = df_fin['target']"
   ]
  },
  {
   "cell_type": "code",
   "execution_count": 25,
   "metadata": {},
   "outputs": [],
   "source": [
    "from sklearn.preprocessing import StandardScaler\n",
    "\n",
    "X_scaled = StandardScaler().fit_transform(X)\n",
    "y_scaled = StandardScaler().fit_transform(y.values.reshape(-1,1))"
   ]
  },
  {
   "cell_type": "code",
   "execution_count": 26,
   "metadata": {},
   "outputs": [],
   "source": [
    "def create_lstm_data(X, y, look_back=60):\n",
    "    arrays = [np.array(X[i : i+look_back]) for i in range(len(X) - look_back + 1)]\n",
    "    lstm_data = np.stack(arrays)\n",
    "    lstm_target = y_scaled[look_back - 1:].reshape(len(y) - look_back + 1)\n",
    "    print('initial X shape: ', np.array(X).shape, 'y shape: ', y.shape, 'look_back: ', look_back)\n",
    "    print('output X shape: ', lstm_data.shape, 'y shape:', lstm_target.shape)\n",
    "    return lstm_data, lstm_target\n"
   ]
  },
  {
   "cell_type": "code",
   "execution_count": 27,
   "metadata": {},
   "outputs": [
    {
     "name": "stdout",
     "output_type": "stream",
     "text": [
      "initial X shape:  (381405, 22) y shape:  (381405, 1) look_back:  60\n",
      "output X shape:  (381346, 60, 22) y shape: (381346,)\n"
     ]
    }
   ],
   "source": [
    "X_lstm, y_lstm = create_lstm_data(X_scaled, y_scaled)"
   ]
  },
  {
   "cell_type": "code",
   "execution_count": 17,
   "metadata": {},
   "outputs": [
    {
     "name": "stdout",
     "output_type": "stream",
     "text": [
      "(350000, 60, 22) (350000,) (15000, 60, 22) (15000,) (16346, 60, 22) (16346,)\n"
     ]
    }
   ],
   "source": [
    "X_train, X_val, X_test = X_lstm[:350000], X_lstm[350000:365000], X_lstm[365000:]\n",
    "y_train, y_val, y_test = y_lstm[:350000], y_lstm[350000:365000], y_lstm[365000:]\n",
    "\n",
    "print(X_train.shape, y_train.shape, X_val.shape, y_val.shape, X_test.shape, y_test.shape)"
   ]
  },
  {
   "attachments": {},
   "cell_type": "markdown",
   "metadata": {},
   "source": [
    "## Simple Keras LSTM model"
   ]
  },
  {
   "cell_type": "code",
   "execution_count": 18,
   "metadata": {},
   "outputs": [],
   "source": [
    "# import os\n",
    "# os.environ[\"CUDA_VISIBLE_DEVICES\"] = \"-1\""
   ]
  },
  {
   "cell_type": "code",
   "execution_count": 29,
   "metadata": {},
   "outputs": [
    {
     "ename": "ModuleNotFoundError",
     "evalue": "No module named 'tensorflow'",
     "output_type": "error",
     "traceback": [
      "\u001b[1;31m---------------------------------------------------------------------------\u001b[0m",
      "\u001b[1;31mModuleNotFoundError\u001b[0m                       Traceback (most recent call last)",
      "\u001b[1;32mc:\\Users\\krotenko.n\\Documents\\GitHub\\my_diploma\\model.ipynb Cell 31\u001b[0m in \u001b[0;36m<cell line: 2>\u001b[1;34m()\u001b[0m\n\u001b[0;32m      <a href='vscode-notebook-cell:/c%3A/Users/krotenko.n/Documents/GitHub/my_diploma/model.ipynb#X42sZmlsZQ%3D%3D?line=0'>1</a>\u001b[0m \u001b[39mimport\u001b[39;00m \u001b[39mnumpy\u001b[39;00m \u001b[39mas\u001b[39;00m \u001b[39mnp\u001b[39;00m\n\u001b[1;32m----> <a href='vscode-notebook-cell:/c%3A/Users/krotenko.n/Documents/GitHub/my_diploma/model.ipynb#X42sZmlsZQ%3D%3D?line=1'>2</a>\u001b[0m \u001b[39mimport\u001b[39;00m \u001b[39mtensorflow\u001b[39;00m \u001b[39mas\u001b[39;00m \u001b[39mtf\u001b[39;00m\n\u001b[0;32m      <a href='vscode-notebook-cell:/c%3A/Users/krotenko.n/Documents/GitHub/my_diploma/model.ipynb#X42sZmlsZQ%3D%3D?line=2'>3</a>\u001b[0m \u001b[39mfrom\u001b[39;00m \u001b[39mtensorflow\u001b[39;00m \u001b[39mimport\u001b[39;00m keras\n\u001b[0;32m      <a href='vscode-notebook-cell:/c%3A/Users/krotenko.n/Documents/GitHub/my_diploma/model.ipynb#X42sZmlsZQ%3D%3D?line=3'>4</a>\u001b[0m \u001b[39mfrom\u001b[39;00m \u001b[39mtensorflow\u001b[39;00m\u001b[39m.\u001b[39;00m\u001b[39mkeras\u001b[39;00m \u001b[39mimport\u001b[39;00m layers\n",
      "\u001b[1;31mModuleNotFoundError\u001b[0m: No module named 'tensorflow'"
     ]
    }
   ],
   "source": [
    "import numpy as np\n",
    "import tensorflow as tf\n",
    "from tensorflow import keras\n",
    "from tensorflow.keras import layers\n",
    "from tensorflow.keras.activations import relu\n",
    "from tensorflow.keras.layers import LSTM, Dense, Activation"
   ]
  },
  {
   "cell_type": "code",
   "execution_count": 20,
   "metadata": {},
   "outputs": [
    {
     "data": {
      "text/plain": [
       "[PhysicalDevice(name='/physical_device:GPU:0', device_type='GPU')]"
      ]
     },
     "execution_count": 20,
     "metadata": {},
     "output_type": "execute_result"
    }
   ],
   "source": [
    "tf.config.list_physical_devices('GPU')"
   ]
  },
  {
   "cell_type": "code",
   "execution_count": 21,
   "metadata": {},
   "outputs": [],
   "source": [
    "# create and fit the LSTM network\n",
    "model = keras.models.Sequential()\n",
    "model.add(LSTM(128, input_shape=(60, 22)))\n",
    "model.add(Dense(128, activation='relu'))\n",
    "model.add(Dense(64, activation='relu'))\n",
    "model.add(Dense(32, activation='relu'))\n",
    "model.add(Dense(1, activation='linear'))"
   ]
  },
  {
   "cell_type": "code",
   "execution_count": 22,
   "metadata": {},
   "outputs": [
    {
     "name": "stdout",
     "output_type": "stream",
     "text": [
      "Epoch 1/20\n",
      "342/342 [==============================] - 4s 7ms/step - loss: 0.0105 - val_loss: 0.0018\n",
      "Epoch 2/20\n",
      "342/342 [==============================] - 2s 6ms/step - loss: 7.3004e-04 - val_loss: 0.0016\n",
      "Epoch 3/20\n",
      "342/342 [==============================] - 2s 7ms/step - loss: 6.8778e-04 - val_loss: 0.0016\n",
      "Epoch 4/20\n",
      "342/342 [==============================] - 2s 6ms/step - loss: 6.7084e-04 - val_loss: 0.0014\n",
      "Epoch 5/20\n",
      "342/342 [==============================] - 2s 6ms/step - loss: 6.5852e-04 - val_loss: 0.0016\n",
      "Epoch 6/20\n",
      "342/342 [==============================] - 2s 6ms/step - loss: 6.5523e-04 - val_loss: 0.0015\n",
      "Epoch 7/20\n",
      "342/342 [==============================] - 2s 7ms/step - loss: 6.5147e-04 - val_loss: 0.0015\n",
      "Epoch 8/20\n",
      "342/342 [==============================] - 2s 6ms/step - loss: 6.5625e-04 - val_loss: 0.0014\n",
      "Epoch 9/20\n",
      "342/342 [==============================] - 2s 6ms/step - loss: 6.5141e-04 - val_loss: 0.0015\n",
      "Epoch 10/20\n",
      "342/342 [==============================] - 2s 6ms/step - loss: 6.3770e-04 - val_loss: 0.0016\n",
      "Epoch 11/20\n",
      "342/342 [==============================] - 2s 6ms/step - loss: 6.2862e-04 - val_loss: 0.0014\n",
      "Epoch 12/20\n",
      "342/342 [==============================] - 2s 6ms/step - loss: 6.2995e-04 - val_loss: 0.0014\n",
      "Epoch 13/20\n",
      "342/342 [==============================] - 2s 6ms/step - loss: 6.1798e-04 - val_loss: 0.0014\n",
      "Epoch 14/20\n",
      "342/342 [==============================] - 2s 7ms/step - loss: 6.1531e-04 - val_loss: 0.0014\n",
      "Epoch 15/20\n",
      "342/342 [==============================] - 2s 7ms/step - loss: 6.0415e-04 - val_loss: 0.0015\n",
      "Epoch 16/20\n",
      "342/342 [==============================] - 2s 6ms/step - loss: 6.0704e-04 - val_loss: 0.0016\n",
      "Epoch 17/20\n",
      "342/342 [==============================] - 2s 6ms/step - loss: 6.0609e-04 - val_loss: 0.0015\n",
      "Epoch 18/20\n",
      "342/342 [==============================] - 2s 6ms/step - loss: 5.8428e-04 - val_loss: 0.0016\n",
      "Epoch 19/20\n",
      "342/342 [==============================] - 2s 6ms/step - loss: 5.9048e-04 - val_loss: 0.0019\n",
      "Epoch 20/20\n",
      "342/342 [==============================] - 2s 6ms/step - loss: 5.6841e-04 - val_loss: 0.0016\n"
     ]
    },
    {
     "data": {
      "text/plain": [
       "<keras.callbacks.History at 0x20c0af4b7c0>"
      ]
     },
     "execution_count": 22,
     "metadata": {},
     "output_type": "execute_result"
    }
   ],
   "source": [
    "model.compile(loss='mean_squared_error', optimizer='adam')\n",
    "model.fit(X_train, y_train, validation_data=(X_val, y_val), epochs=20, batch_size=1024)\n"
   ]
  },
  {
   "cell_type": "code",
   "execution_count": null,
   "metadata": {},
   "outputs": [],
   "source": []
  }
 ],
 "metadata": {
  "kernelspec": {
   "display_name": "ml",
   "language": "python",
   "name": "python3"
  },
  "language_info": {
   "codemirror_mode": {
    "name": "ipython",
    "version": 3
   },
   "file_extension": ".py",
   "mimetype": "text/x-python",
   "name": "python",
   "nbconvert_exporter": "python",
   "pygments_lexer": "ipython3",
   "version": "3.8.16"
  },
  "orig_nbformat": 4
 },
 "nbformat": 4,
 "nbformat_minor": 2
}
