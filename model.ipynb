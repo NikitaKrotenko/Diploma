{
 "cells": [
  {
   "attachments": {},
   "cell_type": "markdown",
   "metadata": {},
   "source": [
    "## Imports"
   ]
  },
  {
   "cell_type": "code",
   "execution_count": 1,
   "metadata": {},
   "outputs": [],
   "source": [
    "# from src.config.config import Config\n",
    "# from src.db_writer.db import DB\n",
    "import pandas as pd\n",
    "import numpy as np\n",
    "pd.set_option('display.max_columns', None)"
   ]
  },
  {
   "cell_type": "code",
   "execution_count": 2,
   "metadata": {},
   "outputs": [],
   "source": [
    "import matplotlib.pyplot as plt\n",
    "import seaborn as sns\n",
    "plt.rcParams[\"figure.figsize\"] = (12.8, 7.2)"
   ]
  },
  {
   "attachments": {},
   "cell_type": "markdown",
   "metadata": {},
   "source": [
    "## Preparation"
   ]
  },
  {
   "cell_type": "code",
   "execution_count": 3,
   "metadata": {},
   "outputs": [],
   "source": [
    "# df_total = pd.read_csv('data/df_total.csv', index_col=[0])\n",
    "# df_razmetka = pd.read_csv('data/df_razmetka.csv', index_col=[0])\n",
    "\n",
    "# df_fin = df_total.copy()\n",
    "# df_fin['extr2'] = df_razmetka['extr2']\n",
    "# df_fin.drop(columns=['symbol_perp','time_diff', 'diff', 'diff_shift1', 'is_extremum'], inplace=True)"
   ]
  },
  {
   "cell_type": "code",
   "execution_count": 4,
   "metadata": {},
   "outputs": [],
   "source": [
    "df_fin = pd.read_csv('data/all_features.csv', index_col=[0])"
   ]
  },
  {
   "attachments": {},
   "cell_type": "markdown",
   "metadata": {},
   "source": [
    "Lets imagine our range of opening contract lays between \n",
    "\n",
    "(high + max(open, close))/2\n",
    "\n",
    "and\n",
    "\n",
    "(low + min(open, close))/2"
   ]
  },
  {
   "cell_type": "code",
   "execution_count": 5,
   "metadata": {},
   "outputs": [],
   "source": [
    "# df_fin.loc[~df_fin['extr7'], ['ismaxima', 'isminima']] = False"
   ]
  },
  {
   "cell_type": "code",
   "execution_count": 6,
   "metadata": {},
   "outputs": [],
   "source": [
    "df_fin['low_border'] = (df_fin['low_perp'] + df_fin[['open_perp', 'close_perp']].min(axis=1)) / 2\n",
    "df_fin['up_border'] = (df_fin['high_perp'] + df_fin[['open_perp', 'close_perp']].max(axis=1)) / 2\n",
    "\n",
    "df_fin.loc[df_fin['ismaxima'] & df_fin['extr7'], 'target1'] = df_fin.loc[df_fin['ismaxima'] & df_fin['extr7'], 'up_border']\n",
    "df_fin.loc[df_fin['isminima'] & df_fin['extr7'], 'target1'] = df_fin.loc[df_fin['isminima'] & df_fin['extr7'], 'low_border']\n",
    "\n",
    "df_fin.loc[df_fin['extr7'], 'target2'] = df_fin.loc[df_fin['extr7'], 'target1'].shift(-1)\n",
    "\n",
    "df_fin[['target1', 'target2']] = df_fin[['target1', 'target2']].shift(-1).fillna(method='bfill')\n",
    "df_fin.dropna(inplace=True)"
   ]
  },
  {
   "cell_type": "code",
   "execution_count": 7,
   "metadata": {},
   "outputs": [
    {
     "data": {
      "text/html": [
       "<div>\n",
       "<style scoped>\n",
       "    .dataframe tbody tr th:only-of-type {\n",
       "        vertical-align: middle;\n",
       "    }\n",
       "\n",
       "    .dataframe tbody tr th {\n",
       "        vertical-align: top;\n",
       "    }\n",
       "\n",
       "    .dataframe thead th {\n",
       "        text-align: right;\n",
       "    }\n",
       "</style>\n",
       "<table border=\"1\" class=\"dataframe\">\n",
       "  <thead>\n",
       "    <tr style=\"text-align: right;\">\n",
       "      <th></th>\n",
       "      <th>low_border</th>\n",
       "      <th>up_border</th>\n",
       "      <th>target1</th>\n",
       "      <th>target2</th>\n",
       "    </tr>\n",
       "  </thead>\n",
       "  <tbody>\n",
       "    <tr>\n",
       "      <th>0</th>\n",
       "      <td>21422.20</td>\n",
       "      <td>21445.00</td>\n",
       "      <td>21445.90</td>\n",
       "      <td>21344.80</td>\n",
       "    </tr>\n",
       "    <tr>\n",
       "      <th>1</th>\n",
       "      <td>21437.50</td>\n",
       "      <td>21445.90</td>\n",
       "      <td>21344.80</td>\n",
       "      <td>21392.75</td>\n",
       "    </tr>\n",
       "    <tr>\n",
       "      <th>2</th>\n",
       "      <td>21430.60</td>\n",
       "      <td>21446.80</td>\n",
       "      <td>21344.80</td>\n",
       "      <td>21392.75</td>\n",
       "    </tr>\n",
       "    <tr>\n",
       "      <th>3</th>\n",
       "      <td>21423.50</td>\n",
       "      <td>21431.95</td>\n",
       "      <td>21344.80</td>\n",
       "      <td>21392.75</td>\n",
       "    </tr>\n",
       "    <tr>\n",
       "      <th>4</th>\n",
       "      <td>21404.00</td>\n",
       "      <td>21438.35</td>\n",
       "      <td>21344.80</td>\n",
       "      <td>21392.75</td>\n",
       "    </tr>\n",
       "    <tr>\n",
       "      <th>5</th>\n",
       "      <td>21359.00</td>\n",
       "      <td>21406.95</td>\n",
       "      <td>21344.80</td>\n",
       "      <td>21392.75</td>\n",
       "    </tr>\n",
       "    <tr>\n",
       "      <th>6</th>\n",
       "      <td>21345.95</td>\n",
       "      <td>21369.75</td>\n",
       "      <td>21344.80</td>\n",
       "      <td>21392.75</td>\n",
       "    </tr>\n",
       "    <tr>\n",
       "      <th>7</th>\n",
       "      <td>21323.50</td>\n",
       "      <td>21355.75</td>\n",
       "      <td>21344.80</td>\n",
       "      <td>21392.75</td>\n",
       "    </tr>\n",
       "    <tr>\n",
       "      <th>8</th>\n",
       "      <td>21344.80</td>\n",
       "      <td>21364.70</td>\n",
       "      <td>21392.75</td>\n",
       "      <td>21324.00</td>\n",
       "    </tr>\n",
       "    <tr>\n",
       "      <th>9</th>\n",
       "      <td>21364.35</td>\n",
       "      <td>21385.50</td>\n",
       "      <td>21392.75</td>\n",
       "      <td>21324.00</td>\n",
       "    </tr>\n",
       "    <tr>\n",
       "      <th>10</th>\n",
       "      <td>21370.00</td>\n",
       "      <td>21397.70</td>\n",
       "      <td>21392.75</td>\n",
       "      <td>21324.00</td>\n",
       "    </tr>\n",
       "    <tr>\n",
       "      <th>11</th>\n",
       "      <td>21383.95</td>\n",
       "      <td>21392.75</td>\n",
       "      <td>21324.00</td>\n",
       "      <td>21441.15</td>\n",
       "    </tr>\n",
       "    <tr>\n",
       "      <th>12</th>\n",
       "      <td>21353.45</td>\n",
       "      <td>21387.30</td>\n",
       "      <td>21324.00</td>\n",
       "      <td>21441.15</td>\n",
       "    </tr>\n",
       "    <tr>\n",
       "      <th>13</th>\n",
       "      <td>21356.30</td>\n",
       "      <td>21375.20</td>\n",
       "      <td>21324.00</td>\n",
       "      <td>21441.15</td>\n",
       "    </tr>\n",
       "    <tr>\n",
       "      <th>14</th>\n",
       "      <td>21360.80</td>\n",
       "      <td>21375.20</td>\n",
       "      <td>21324.00</td>\n",
       "      <td>21441.15</td>\n",
       "    </tr>\n",
       "    <tr>\n",
       "      <th>15</th>\n",
       "      <td>21354.05</td>\n",
       "      <td>21372.55</td>\n",
       "      <td>21324.00</td>\n",
       "      <td>21441.15</td>\n",
       "    </tr>\n",
       "    <tr>\n",
       "      <th>16</th>\n",
       "      <td>21349.95</td>\n",
       "      <td>21364.50</td>\n",
       "      <td>21324.00</td>\n",
       "      <td>21441.15</td>\n",
       "    </tr>\n",
       "    <tr>\n",
       "      <th>17</th>\n",
       "      <td>21359.90</td>\n",
       "      <td>21368.70</td>\n",
       "      <td>21324.00</td>\n",
       "      <td>21441.15</td>\n",
       "    </tr>\n",
       "    <tr>\n",
       "      <th>18</th>\n",
       "      <td>21343.25</td>\n",
       "      <td>21368.65</td>\n",
       "      <td>21324.00</td>\n",
       "      <td>21441.15</td>\n",
       "    </tr>\n",
       "    <tr>\n",
       "      <th>19</th>\n",
       "      <td>21332.60</td>\n",
       "      <td>21347.30</td>\n",
       "      <td>21324.00</td>\n",
       "      <td>21441.15</td>\n",
       "    </tr>\n",
       "  </tbody>\n",
       "</table>\n",
       "</div>"
      ],
      "text/plain": [
       "    low_border  up_border   target1   target2\n",
       "0     21422.20   21445.00  21445.90  21344.80\n",
       "1     21437.50   21445.90  21344.80  21392.75\n",
       "2     21430.60   21446.80  21344.80  21392.75\n",
       "3     21423.50   21431.95  21344.80  21392.75\n",
       "4     21404.00   21438.35  21344.80  21392.75\n",
       "5     21359.00   21406.95  21344.80  21392.75\n",
       "6     21345.95   21369.75  21344.80  21392.75\n",
       "7     21323.50   21355.75  21344.80  21392.75\n",
       "8     21344.80   21364.70  21392.75  21324.00\n",
       "9     21364.35   21385.50  21392.75  21324.00\n",
       "10    21370.00   21397.70  21392.75  21324.00\n",
       "11    21383.95   21392.75  21324.00  21441.15\n",
       "12    21353.45   21387.30  21324.00  21441.15\n",
       "13    21356.30   21375.20  21324.00  21441.15\n",
       "14    21360.80   21375.20  21324.00  21441.15\n",
       "15    21354.05   21372.55  21324.00  21441.15\n",
       "16    21349.95   21364.50  21324.00  21441.15\n",
       "17    21359.90   21368.70  21324.00  21441.15\n",
       "18    21343.25   21368.65  21324.00  21441.15\n",
       "19    21332.60   21347.30  21324.00  21441.15"
      ]
     },
     "execution_count": 7,
     "metadata": {},
     "output_type": "execute_result"
    }
   ],
   "source": [
    "df_fin.iloc[:, -4:].head(20)"
   ]
  },
  {
   "attachments": {},
   "cell_type": "markdown",
   "metadata": {},
   "source": [
    "## Train test"
   ]
  },
  {
   "cell_type": "code",
   "execution_count": 8,
   "metadata": {},
   "outputs": [],
   "source": [
    "X = df_fin.drop(columns= ['ismaxima', 'isminima', 'extr7', 'low_border', 'up_border', 'target1', 'target2'])\n",
    "y = df_fin[['target1', 'target2']]"
   ]
  },
  {
   "cell_type": "code",
   "execution_count": 9,
   "metadata": {},
   "outputs": [],
   "source": [
    "from sklearn.preprocessing import StandardScaler\n",
    "\n",
    "X_scaled = StandardScaler().fit_transform(X)\n",
    "y_scaled = StandardScaler().fit_transform(y)"
   ]
  },
  {
   "cell_type": "code",
   "execution_count": 10,
   "metadata": {},
   "outputs": [
    {
     "data": {
      "text/plain": [
       "array([[-0.08593977, -0.06863393],\n",
       "       [-0.08593977, -0.06863393],\n",
       "       [-0.08593977, -0.06863393],\n",
       "       ...,\n",
       "       [ 1.37833471,  1.3602327 ],\n",
       "       [ 1.37833471,  1.3602327 ],\n",
       "       [ 1.37833471,  1.3602327 ]])"
      ]
     },
     "execution_count": 10,
     "metadata": {},
     "output_type": "execute_result"
    }
   ],
   "source": [
    "y_scaled[61:]"
   ]
  },
  {
   "cell_type": "code",
   "execution_count": 11,
   "metadata": {},
   "outputs": [],
   "source": [
    "def create_lstm_data(X, y, look_back=60):\n",
    "    arrays = [np.array(X[i : i+look_back]) for i in range(len(X) - look_back + 1)]\n",
    "    lstm_data = np.stack(arrays)\n",
    "    lstm_target = y_scaled[look_back - 1:]\n",
    "    print('initial X shape: ', np.array(X).shape, 'y shape: ', y.shape, 'look_back: ', look_back)\n",
    "    print('output X shape: ', lstm_data.shape, 'y shape:', lstm_target.shape)\n",
    "    return lstm_data, lstm_target\n"
   ]
  },
  {
   "cell_type": "code",
   "execution_count": 12,
   "metadata": {},
   "outputs": [],
   "source": [
    "# X_lstm, y_lstm = create_lstm_data(X_scaled, y_scaled)\n",
    "# np.save('X_lstm_60.npy', X_lstm)\n",
    "# np.save('y_lstm_60.npy', y_lstm)"
   ]
  },
  {
   "cell_type": "code",
   "execution_count": 13,
   "metadata": {},
   "outputs": [],
   "source": [
    "X_lstm = np.load('LSTM_data/X_lstm_60.npy')\n",
    "y_lstm = np.load('LSTM_data/y_lstm_60.npy')"
   ]
  },
  {
   "cell_type": "code",
   "execution_count": 14,
   "metadata": {},
   "outputs": [
    {
     "name": "stdout",
     "output_type": "stream",
     "text": [
      "(351329, 60, 101) (351329, 2) (15000, 60, 101) (15000, 2) (15000, 60, 101) (15000, 2)\n"
     ]
    }
   ],
   "source": [
    "X_train, X_val, X_test = X_lstm[:-30000], X_lstm[-30000:-15000], X_lstm[-15000:]\n",
    "y_train, y_val, y_test = y_lstm[:-30000], y_lstm[-30000:-15000], y_lstm[-15000:]\n",
    "\n",
    "print(X_train.shape, y_train.shape, X_val.shape, y_val.shape, X_test.shape, y_test.shape)"
   ]
  },
  {
   "attachments": {},
   "cell_type": "markdown",
   "metadata": {},
   "source": [
    "## Simple Keras LSTM model"
   ]
  },
  {
   "cell_type": "code",
   "execution_count": 15,
   "metadata": {},
   "outputs": [],
   "source": [
    "# import os\n",
    "# os.environ[\"CUDA_VISIBLE_DEVICES\"] = \"-1\""
   ]
  },
  {
   "cell_type": "code",
   "execution_count": 16,
   "metadata": {},
   "outputs": [],
   "source": [
    "import numpy as np\n",
    "import tensorflow as tf\n",
    "from tensorflow import keras\n",
    "from tensorflow.keras import layers\n",
    "from tensorflow.keras.activations import relu\n",
    "from tensorflow.keras.layers import LSTM, Dense, Activation"
   ]
  },
  {
   "cell_type": "code",
   "execution_count": 17,
   "metadata": {},
   "outputs": [
    {
     "data": {
      "text/plain": [
       "[PhysicalDevice(name='/physical_device:GPU:0', device_type='GPU')]"
      ]
     },
     "execution_count": 17,
     "metadata": {},
     "output_type": "execute_result"
    }
   ],
   "source": [
    "tf.config.list_physical_devices('GPU')"
   ]
  },
  {
   "cell_type": "code",
   "execution_count": 18,
   "metadata": {},
   "outputs": [],
   "source": [
    "# create and fit the LSTM network\n",
    "model = keras.models.Sequential()\n",
    "model.add(LSTM(32, input_shape=(X_train.shape[1], X_train.shape[2])))\n",
    "# model.add(Dense(256, activation='relu'))\n",
    "# model.add(Dense(512, activation='relu'))\n",
    "# model.add(Dense(512, activation='relu'))\n",
    "# model.add(Dense(512, activation='relu'))\n",
    "# model.add(Dense(64, activation='relu'))\n",
    "model.add(Dense(64, activation='relu'))\n",
    "model.add(Dense(32, activation='relu'))\n",
    "model.add(Dense(2, activation='linear'))"
   ]
  },
  {
   "cell_type": "code",
   "execution_count": 19,
   "metadata": {},
   "outputs": [
    {
     "name": "stdout",
     "output_type": "stream",
     "text": [
      "Epoch 1/100\n",
      "172/172 [==============================] - 5s 17ms/step - loss: 0.0828 - val_loss: 0.0282\n",
      "Epoch 2/100\n",
      "172/172 [==============================] - 2s 14ms/step - loss: 0.0028 - val_loss: 0.0141\n",
      "Epoch 3/100\n",
      "172/172 [==============================] - 2s 14ms/step - loss: 0.0015 - val_loss: 0.0094\n",
      "Epoch 4/100\n",
      "172/172 [==============================] - 2s 14ms/step - loss: 0.0010 - val_loss: 0.0070\n",
      "Epoch 5/100\n",
      "172/172 [==============================] - 2s 14ms/step - loss: 7.8177e-04 - val_loss: 0.0058\n",
      "Epoch 6/100\n",
      "172/172 [==============================] - 2s 14ms/step - loss: 6.4680e-04 - val_loss: 0.0055\n",
      "Epoch 7/100\n",
      "172/172 [==============================] - 2s 15ms/step - loss: 5.6214e-04 - val_loss: 0.0049\n",
      "Epoch 8/100\n",
      "172/172 [==============================] - 2s 14ms/step - loss: 5.0486e-04 - val_loss: 0.0048\n",
      "Epoch 9/100\n",
      "172/172 [==============================] - 3s 15ms/step - loss: 4.6449e-04 - val_loss: 0.0044\n",
      "Epoch 10/100\n",
      "172/172 [==============================] - 2s 14ms/step - loss: 4.3527e-04 - val_loss: 0.0041\n",
      "Epoch 11/100\n",
      "172/172 [==============================] - 2s 14ms/step - loss: 4.1323e-04 - val_loss: 0.0034\n",
      "Epoch 12/100\n",
      "172/172 [==============================] - 2s 14ms/step - loss: 3.9531e-04 - val_loss: 0.0039\n",
      "Epoch 13/100\n",
      "172/172 [==============================] - 2s 14ms/step - loss: 3.8085e-04 - val_loss: 0.0036\n",
      "Epoch 14/100\n",
      "172/172 [==============================] - 2s 14ms/step - loss: 3.6859e-04 - val_loss: 0.0035\n",
      "Epoch 15/100\n",
      "172/172 [==============================] - 2s 15ms/step - loss: 3.5868e-04 - val_loss: 0.0038\n",
      "Epoch 16/100\n",
      "172/172 [==============================] - 2s 14ms/step - loss: 3.4977e-04 - val_loss: 0.0028\n",
      "Epoch 17/100\n",
      "172/172 [==============================] - 2s 14ms/step - loss: 3.3806e-04 - val_loss: 0.0029\n",
      "Epoch 18/100\n",
      "172/172 [==============================] - 3s 15ms/step - loss: 3.3301e-04 - val_loss: 0.0025\n",
      "Epoch 19/100\n",
      "172/172 [==============================] - 2s 14ms/step - loss: 3.2734e-04 - val_loss: 0.0029\n",
      "Epoch 20/100\n",
      "172/172 [==============================] - 2s 15ms/step - loss: 3.2133e-04 - val_loss: 0.0025\n",
      "Epoch 21/100\n",
      "172/172 [==============================] - 2s 14ms/step - loss: 3.1344e-04 - val_loss: 0.0020\n",
      "Epoch 22/100\n",
      "172/172 [==============================] - 2s 14ms/step - loss: 3.0845e-04 - val_loss: 0.0026\n",
      "Epoch 23/100\n",
      "172/172 [==============================] - 2s 14ms/step - loss: 3.0607e-04 - val_loss: 0.0022\n",
      "Epoch 24/100\n",
      "172/172 [==============================] - 2s 15ms/step - loss: 3.0071e-04 - val_loss: 0.0026\n",
      "Epoch 25/100\n",
      "172/172 [==============================] - 2s 14ms/step - loss: 2.9803e-04 - val_loss: 0.0024\n",
      "Epoch 26/100\n",
      "172/172 [==============================] - 3s 15ms/step - loss: 2.9189e-04 - val_loss: 0.0020\n",
      "Epoch 27/100\n",
      "172/172 [==============================] - 2s 15ms/step - loss: 2.8835e-04 - val_loss: 0.0021\n",
      "Epoch 28/100\n",
      "172/172 [==============================] - 3s 15ms/step - loss: 2.8498e-04 - val_loss: 0.0030\n",
      "Epoch 29/100\n",
      "172/172 [==============================] - 2s 15ms/step - loss: 2.8334e-04 - val_loss: 0.0026\n",
      "Epoch 30/100\n",
      "172/172 [==============================] - 3s 15ms/step - loss: 2.8266e-04 - val_loss: 0.0022\n",
      "Epoch 31/100\n",
      "172/172 [==============================] - 2s 14ms/step - loss: 2.7540e-04 - val_loss: 0.0018\n",
      "Epoch 32/100\n",
      "172/172 [==============================] - 3s 15ms/step - loss: 2.7270e-04 - val_loss: 0.0022\n",
      "Epoch 33/100\n",
      "172/172 [==============================] - 2s 14ms/step - loss: 2.6980e-04 - val_loss: 0.0021\n",
      "Epoch 34/100\n",
      "172/172 [==============================] - 3s 15ms/step - loss: 2.6945e-04 - val_loss: 0.0018\n",
      "Epoch 35/100\n",
      "172/172 [==============================] - 2s 14ms/step - loss: 2.6936e-04 - val_loss: 0.0020\n",
      "Epoch 36/100\n",
      "172/172 [==============================] - 2s 14ms/step - loss: 2.6167e-04 - val_loss: 0.0025\n",
      "Epoch 37/100\n",
      "172/172 [==============================] - 2s 15ms/step - loss: 2.6189e-04 - val_loss: 0.0022\n",
      "Epoch 38/100\n",
      "172/172 [==============================] - 3s 15ms/step - loss: 2.5994e-04 - val_loss: 0.0024\n",
      "Epoch 39/100\n",
      "172/172 [==============================] - 2s 14ms/step - loss: 2.6042e-04 - val_loss: 0.0020\n",
      "Epoch 40/100\n",
      "172/172 [==============================] - 2s 14ms/step - loss: 2.5504e-04 - val_loss: 0.0023\n",
      "Epoch 41/100\n",
      "172/172 [==============================] - 2s 14ms/step - loss: 2.5259e-04 - val_loss: 0.0021\n",
      "Epoch 42/100\n",
      "172/172 [==============================] - 2s 14ms/step - loss: 2.4915e-04 - val_loss: 0.0024\n",
      "Epoch 43/100\n",
      "172/172 [==============================] - 2s 14ms/step - loss: 2.4629e-04 - val_loss: 0.0021\n",
      "Epoch 44/100\n",
      "172/172 [==============================] - 2s 14ms/step - loss: 2.4626e-04 - val_loss: 0.0032\n",
      "Epoch 45/100\n",
      "172/172 [==============================] - 2s 14ms/step - loss: 2.4625e-04 - val_loss: 0.0031\n",
      "Epoch 46/100\n",
      "172/172 [==============================] - 2s 15ms/step - loss: 2.4044e-04 - val_loss: 0.0019\n",
      "Epoch 47/100\n",
      "172/172 [==============================] - 2s 14ms/step - loss: 2.4113e-04 - val_loss: 0.0020\n",
      "Epoch 48/100\n",
      "172/172 [==============================] - 2s 14ms/step - loss: 2.4335e-04 - val_loss: 0.0022\n",
      "Epoch 49/100\n",
      "172/172 [==============================] - 2s 14ms/step - loss: 2.3441e-04 - val_loss: 0.0023\n",
      "Epoch 50/100\n",
      "172/172 [==============================] - 2s 14ms/step - loss: 2.3377e-04 - val_loss: 0.0030\n",
      "Epoch 51/100\n",
      "172/172 [==============================] - 2s 15ms/step - loss: 2.2896e-04 - val_loss: 0.0016\n",
      "Epoch 52/100\n",
      "172/172 [==============================] - 3s 15ms/step - loss: 2.2654e-04 - val_loss: 0.0021\n",
      "Epoch 53/100\n",
      "172/172 [==============================] - 3s 15ms/step - loss: 2.2654e-04 - val_loss: 0.0014\n",
      "Epoch 54/100\n",
      "172/172 [==============================] - 2s 14ms/step - loss: 2.3039e-04 - val_loss: 0.0025\n",
      "Epoch 55/100\n",
      "172/172 [==============================] - 2s 14ms/step - loss: 2.2310e-04 - val_loss: 0.0014\n",
      "Epoch 56/100\n",
      "172/172 [==============================] - 2s 14ms/step - loss: 2.2001e-04 - val_loss: 0.0020\n",
      "Epoch 57/100\n",
      "172/172 [==============================] - 3s 15ms/step - loss: 2.1853e-04 - val_loss: 0.0016\n",
      "Epoch 58/100\n",
      "150/172 [=========================>....] - ETA: 0s - loss: 2.1919e-04"
     ]
    },
    {
     "ename": "KeyboardInterrupt",
     "evalue": "",
     "output_type": "error",
     "traceback": [
      "\u001b[1;31m---------------------------------------------------------------------------\u001b[0m",
      "\u001b[1;31mKeyboardInterrupt\u001b[0m                         Traceback (most recent call last)",
      "Cell \u001b[1;32mIn[19], line 2\u001b[0m\n\u001b[0;32m      1\u001b[0m model\u001b[39m.\u001b[39mcompile(loss\u001b[39m=\u001b[39m\u001b[39m'\u001b[39m\u001b[39mmean_squared_error\u001b[39m\u001b[39m'\u001b[39m, optimizer\u001b[39m=\u001b[39m\u001b[39m'\u001b[39m\u001b[39madam\u001b[39m\u001b[39m'\u001b[39m)\n\u001b[1;32m----> 2\u001b[0m model\u001b[39m.\u001b[39;49mfit(X_train, y_train, validation_data\u001b[39m=\u001b[39;49m(X_val, y_val), epochs\u001b[39m=\u001b[39;49m\u001b[39m100\u001b[39;49m, batch_size\u001b[39m=\u001b[39;49m\u001b[39m2048\u001b[39;49m)\n",
      "File \u001b[1;32mc:\\Coding\\miniconda3\\envs\\diploma_ml\\lib\\site-packages\\keras\\utils\\traceback_utils.py:65\u001b[0m, in \u001b[0;36mfilter_traceback.<locals>.error_handler\u001b[1;34m(*args, **kwargs)\u001b[0m\n\u001b[0;32m     63\u001b[0m filtered_tb \u001b[39m=\u001b[39m \u001b[39mNone\u001b[39;00m\n\u001b[0;32m     64\u001b[0m \u001b[39mtry\u001b[39;00m:\n\u001b[1;32m---> 65\u001b[0m     \u001b[39mreturn\u001b[39;00m fn(\u001b[39m*\u001b[39margs, \u001b[39m*\u001b[39m\u001b[39m*\u001b[39mkwargs)\n\u001b[0;32m     66\u001b[0m \u001b[39mexcept\u001b[39;00m \u001b[39mException\u001b[39;00m \u001b[39mas\u001b[39;00m e:\n\u001b[0;32m     67\u001b[0m     filtered_tb \u001b[39m=\u001b[39m _process_traceback_frames(e\u001b[39m.\u001b[39m__traceback__)\n",
      "File \u001b[1;32mc:\\Coding\\miniconda3\\envs\\diploma_ml\\lib\\site-packages\\keras\\engine\\training.py:1564\u001b[0m, in \u001b[0;36mModel.fit\u001b[1;34m(self, x, y, batch_size, epochs, verbose, callbacks, validation_split, validation_data, shuffle, class_weight, sample_weight, initial_epoch, steps_per_epoch, validation_steps, validation_batch_size, validation_freq, max_queue_size, workers, use_multiprocessing)\u001b[0m\n\u001b[0;32m   1556\u001b[0m \u001b[39mwith\u001b[39;00m tf\u001b[39m.\u001b[39mprofiler\u001b[39m.\u001b[39mexperimental\u001b[39m.\u001b[39mTrace(\n\u001b[0;32m   1557\u001b[0m     \u001b[39m\"\u001b[39m\u001b[39mtrain\u001b[39m\u001b[39m\"\u001b[39m,\n\u001b[0;32m   1558\u001b[0m     epoch_num\u001b[39m=\u001b[39mepoch,\n\u001b[1;32m   (...)\u001b[0m\n\u001b[0;32m   1561\u001b[0m     _r\u001b[39m=\u001b[39m\u001b[39m1\u001b[39m,\n\u001b[0;32m   1562\u001b[0m ):\n\u001b[0;32m   1563\u001b[0m     callbacks\u001b[39m.\u001b[39mon_train_batch_begin(step)\n\u001b[1;32m-> 1564\u001b[0m     tmp_logs \u001b[39m=\u001b[39m \u001b[39mself\u001b[39;49m\u001b[39m.\u001b[39;49mtrain_function(iterator)\n\u001b[0;32m   1565\u001b[0m     \u001b[39mif\u001b[39;00m data_handler\u001b[39m.\u001b[39mshould_sync:\n\u001b[0;32m   1566\u001b[0m         context\u001b[39m.\u001b[39masync_wait()\n",
      "File \u001b[1;32mc:\\Coding\\miniconda3\\envs\\diploma_ml\\lib\\site-packages\\tensorflow\\python\\util\\traceback_utils.py:150\u001b[0m, in \u001b[0;36mfilter_traceback.<locals>.error_handler\u001b[1;34m(*args, **kwargs)\u001b[0m\n\u001b[0;32m    148\u001b[0m filtered_tb \u001b[39m=\u001b[39m \u001b[39mNone\u001b[39;00m\n\u001b[0;32m    149\u001b[0m \u001b[39mtry\u001b[39;00m:\n\u001b[1;32m--> 150\u001b[0m   \u001b[39mreturn\u001b[39;00m fn(\u001b[39m*\u001b[39margs, \u001b[39m*\u001b[39m\u001b[39m*\u001b[39mkwargs)\n\u001b[0;32m    151\u001b[0m \u001b[39mexcept\u001b[39;00m \u001b[39mException\u001b[39;00m \u001b[39mas\u001b[39;00m e:\n\u001b[0;32m    152\u001b[0m   filtered_tb \u001b[39m=\u001b[39m _process_traceback_frames(e\u001b[39m.\u001b[39m__traceback__)\n",
      "File \u001b[1;32mc:\\Coding\\miniconda3\\envs\\diploma_ml\\lib\\site-packages\\tensorflow\\python\\eager\\def_function.py:915\u001b[0m, in \u001b[0;36mFunction.__call__\u001b[1;34m(self, *args, **kwds)\u001b[0m\n\u001b[0;32m    912\u001b[0m compiler \u001b[39m=\u001b[39m \u001b[39m\"\u001b[39m\u001b[39mxla\u001b[39m\u001b[39m\"\u001b[39m \u001b[39mif\u001b[39;00m \u001b[39mself\u001b[39m\u001b[39m.\u001b[39m_jit_compile \u001b[39melse\u001b[39;00m \u001b[39m\"\u001b[39m\u001b[39mnonXla\u001b[39m\u001b[39m\"\u001b[39m\n\u001b[0;32m    914\u001b[0m \u001b[39mwith\u001b[39;00m OptionalXlaContext(\u001b[39mself\u001b[39m\u001b[39m.\u001b[39m_jit_compile):\n\u001b[1;32m--> 915\u001b[0m   result \u001b[39m=\u001b[39m \u001b[39mself\u001b[39m\u001b[39m.\u001b[39m_call(\u001b[39m*\u001b[39margs, \u001b[39m*\u001b[39m\u001b[39m*\u001b[39mkwds)\n\u001b[0;32m    917\u001b[0m new_tracing_count \u001b[39m=\u001b[39m \u001b[39mself\u001b[39m\u001b[39m.\u001b[39mexperimental_get_tracing_count()\n\u001b[0;32m    918\u001b[0m without_tracing \u001b[39m=\u001b[39m (tracing_count \u001b[39m==\u001b[39m new_tracing_count)\n",
      "File \u001b[1;32mc:\\Coding\\miniconda3\\envs\\diploma_ml\\lib\\site-packages\\tensorflow\\python\\eager\\def_function.py:947\u001b[0m, in \u001b[0;36mFunction._call\u001b[1;34m(self, *args, **kwds)\u001b[0m\n\u001b[0;32m    944\u001b[0m   \u001b[39mself\u001b[39m\u001b[39m.\u001b[39m_lock\u001b[39m.\u001b[39mrelease()\n\u001b[0;32m    945\u001b[0m   \u001b[39m# In this case we have created variables on the first call, so we run the\u001b[39;00m\n\u001b[0;32m    946\u001b[0m   \u001b[39m# defunned version which is guaranteed to never create variables.\u001b[39;00m\n\u001b[1;32m--> 947\u001b[0m   \u001b[39mreturn\u001b[39;00m \u001b[39mself\u001b[39m\u001b[39m.\u001b[39m_stateless_fn(\u001b[39m*\u001b[39margs, \u001b[39m*\u001b[39m\u001b[39m*\u001b[39mkwds)  \u001b[39m# pylint: disable=not-callable\u001b[39;00m\n\u001b[0;32m    948\u001b[0m \u001b[39melif\u001b[39;00m \u001b[39mself\u001b[39m\u001b[39m.\u001b[39m_stateful_fn \u001b[39mis\u001b[39;00m \u001b[39mnot\u001b[39;00m \u001b[39mNone\u001b[39;00m:\n\u001b[0;32m    949\u001b[0m   \u001b[39m# Release the lock early so that multiple threads can perform the call\u001b[39;00m\n\u001b[0;32m    950\u001b[0m   \u001b[39m# in parallel.\u001b[39;00m\n\u001b[0;32m    951\u001b[0m   \u001b[39mself\u001b[39m\u001b[39m.\u001b[39m_lock\u001b[39m.\u001b[39mrelease()\n",
      "File \u001b[1;32mc:\\Coding\\miniconda3\\envs\\diploma_ml\\lib\\site-packages\\tensorflow\\python\\eager\\function.py:2496\u001b[0m, in \u001b[0;36mFunction.__call__\u001b[1;34m(self, *args, **kwargs)\u001b[0m\n\u001b[0;32m   2493\u001b[0m \u001b[39mwith\u001b[39;00m \u001b[39mself\u001b[39m\u001b[39m.\u001b[39m_lock:\n\u001b[0;32m   2494\u001b[0m   (graph_function,\n\u001b[0;32m   2495\u001b[0m    filtered_flat_args) \u001b[39m=\u001b[39m \u001b[39mself\u001b[39m\u001b[39m.\u001b[39m_maybe_define_function(args, kwargs)\n\u001b[1;32m-> 2496\u001b[0m \u001b[39mreturn\u001b[39;00m graph_function\u001b[39m.\u001b[39;49m_call_flat(\n\u001b[0;32m   2497\u001b[0m     filtered_flat_args, captured_inputs\u001b[39m=\u001b[39;49mgraph_function\u001b[39m.\u001b[39;49mcaptured_inputs)\n",
      "File \u001b[1;32mc:\\Coding\\miniconda3\\envs\\diploma_ml\\lib\\site-packages\\tensorflow\\python\\eager\\function.py:1862\u001b[0m, in \u001b[0;36mConcreteFunction._call_flat\u001b[1;34m(self, args, captured_inputs, cancellation_manager)\u001b[0m\n\u001b[0;32m   1858\u001b[0m possible_gradient_type \u001b[39m=\u001b[39m gradients_util\u001b[39m.\u001b[39mPossibleTapeGradientTypes(args)\n\u001b[0;32m   1859\u001b[0m \u001b[39mif\u001b[39;00m (possible_gradient_type \u001b[39m==\u001b[39m gradients_util\u001b[39m.\u001b[39mPOSSIBLE_GRADIENT_TYPES_NONE\n\u001b[0;32m   1860\u001b[0m     \u001b[39mand\u001b[39;00m executing_eagerly):\n\u001b[0;32m   1861\u001b[0m   \u001b[39m# No tape is watching; skip to running the function.\u001b[39;00m\n\u001b[1;32m-> 1862\u001b[0m   \u001b[39mreturn\u001b[39;00m \u001b[39mself\u001b[39m\u001b[39m.\u001b[39m_build_call_outputs(\u001b[39mself\u001b[39;49m\u001b[39m.\u001b[39;49m_inference_function\u001b[39m.\u001b[39;49mcall(\n\u001b[0;32m   1863\u001b[0m       ctx, args, cancellation_manager\u001b[39m=\u001b[39;49mcancellation_manager))\n\u001b[0;32m   1864\u001b[0m forward_backward \u001b[39m=\u001b[39m \u001b[39mself\u001b[39m\u001b[39m.\u001b[39m_select_forward_and_backward_functions(\n\u001b[0;32m   1865\u001b[0m     args,\n\u001b[0;32m   1866\u001b[0m     possible_gradient_type,\n\u001b[0;32m   1867\u001b[0m     executing_eagerly)\n\u001b[0;32m   1868\u001b[0m forward_function, args_with_tangents \u001b[39m=\u001b[39m forward_backward\u001b[39m.\u001b[39mforward()\n",
      "File \u001b[1;32mc:\\Coding\\miniconda3\\envs\\diploma_ml\\lib\\site-packages\\tensorflow\\python\\eager\\function.py:499\u001b[0m, in \u001b[0;36m_EagerDefinedFunction.call\u001b[1;34m(self, ctx, args, cancellation_manager)\u001b[0m\n\u001b[0;32m    497\u001b[0m \u001b[39mwith\u001b[39;00m _InterpolateFunctionError(\u001b[39mself\u001b[39m):\n\u001b[0;32m    498\u001b[0m   \u001b[39mif\u001b[39;00m cancellation_manager \u001b[39mis\u001b[39;00m \u001b[39mNone\u001b[39;00m:\n\u001b[1;32m--> 499\u001b[0m     outputs \u001b[39m=\u001b[39m execute\u001b[39m.\u001b[39;49mexecute(\n\u001b[0;32m    500\u001b[0m         \u001b[39mstr\u001b[39;49m(\u001b[39mself\u001b[39;49m\u001b[39m.\u001b[39;49msignature\u001b[39m.\u001b[39;49mname),\n\u001b[0;32m    501\u001b[0m         num_outputs\u001b[39m=\u001b[39;49m\u001b[39mself\u001b[39;49m\u001b[39m.\u001b[39;49m_num_outputs,\n\u001b[0;32m    502\u001b[0m         inputs\u001b[39m=\u001b[39;49margs,\n\u001b[0;32m    503\u001b[0m         attrs\u001b[39m=\u001b[39;49mattrs,\n\u001b[0;32m    504\u001b[0m         ctx\u001b[39m=\u001b[39;49mctx)\n\u001b[0;32m    505\u001b[0m   \u001b[39melse\u001b[39;00m:\n\u001b[0;32m    506\u001b[0m     outputs \u001b[39m=\u001b[39m execute\u001b[39m.\u001b[39mexecute_with_cancellation(\n\u001b[0;32m    507\u001b[0m         \u001b[39mstr\u001b[39m(\u001b[39mself\u001b[39m\u001b[39m.\u001b[39msignature\u001b[39m.\u001b[39mname),\n\u001b[0;32m    508\u001b[0m         num_outputs\u001b[39m=\u001b[39m\u001b[39mself\u001b[39m\u001b[39m.\u001b[39m_num_outputs,\n\u001b[1;32m   (...)\u001b[0m\n\u001b[0;32m    511\u001b[0m         ctx\u001b[39m=\u001b[39mctx,\n\u001b[0;32m    512\u001b[0m         cancellation_manager\u001b[39m=\u001b[39mcancellation_manager)\n",
      "File \u001b[1;32mc:\\Coding\\miniconda3\\envs\\diploma_ml\\lib\\site-packages\\tensorflow\\python\\eager\\execute.py:54\u001b[0m, in \u001b[0;36mquick_execute\u001b[1;34m(op_name, num_outputs, inputs, attrs, ctx, name)\u001b[0m\n\u001b[0;32m     52\u001b[0m \u001b[39mtry\u001b[39;00m:\n\u001b[0;32m     53\u001b[0m   ctx\u001b[39m.\u001b[39mensure_initialized()\n\u001b[1;32m---> 54\u001b[0m   tensors \u001b[39m=\u001b[39m pywrap_tfe\u001b[39m.\u001b[39;49mTFE_Py_Execute(ctx\u001b[39m.\u001b[39;49m_handle, device_name, op_name,\n\u001b[0;32m     55\u001b[0m                                       inputs, attrs, num_outputs)\n\u001b[0;32m     56\u001b[0m \u001b[39mexcept\u001b[39;00m core\u001b[39m.\u001b[39m_NotOkStatusException \u001b[39mas\u001b[39;00m e:\n\u001b[0;32m     57\u001b[0m   \u001b[39mif\u001b[39;00m name \u001b[39mis\u001b[39;00m \u001b[39mnot\u001b[39;00m \u001b[39mNone\u001b[39;00m:\n",
      "\u001b[1;31mKeyboardInterrupt\u001b[0m: "
     ]
    }
   ],
   "source": [
    "model.compile(loss='mean_squared_error', optimizer='adam')\n",
    "model.fit(X_train, y_train, validation_data=(X_val, y_val), epochs=100, batch_size=2048)"
   ]
  },
  {
   "cell_type": "code",
   "execution_count": null,
   "metadata": {},
   "outputs": [],
   "source": []
  }
 ],
 "metadata": {
  "kernelspec": {
   "display_name": "ml",
   "language": "python",
   "name": "python3"
  },
  "language_info": {
   "codemirror_mode": {
    "name": "ipython",
    "version": 3
   },
   "file_extension": ".py",
   "mimetype": "text/x-python",
   "name": "python",
   "nbconvert_exporter": "python",
   "pygments_lexer": "ipython3",
   "version": "3.9.16"
  },
  "orig_nbformat": 4
 },
 "nbformat": 4,
 "nbformat_minor": 2
}
