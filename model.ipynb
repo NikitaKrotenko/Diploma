{
 "cells": [
  {
   "attachments": {},
   "cell_type": "markdown",
   "metadata": {},
   "source": [
    "## Imports"
   ]
  },
  {
   "cell_type": "code",
   "execution_count": 1,
   "metadata": {},
   "outputs": [],
   "source": [
    "# from src.config.config import Config\n",
    "# from src.db_writer.db import DB\n",
    "import pandas as pd\n",
    "import numpy as np\n",
    "pd.set_option('display.max_columns', None)"
   ]
  },
  {
   "cell_type": "code",
   "execution_count": 2,
   "metadata": {},
   "outputs": [],
   "source": [
    "import matplotlib.pyplot as plt\n",
    "import seaborn as sns\n",
    "plt.rcParams[\"figure.figsize\"] = (12.8, 7.2)"
   ]
  },
  {
   "attachments": {},
   "cell_type": "markdown",
   "metadata": {},
   "source": [
    "## Preparation"
   ]
  },
  {
   "cell_type": "code",
   "execution_count": 3,
   "metadata": {},
   "outputs": [],
   "source": [
    "df_total = pd.read_csv('data/df_total.csv', index_col=[0])\n",
    "df_razmetka = pd.read_csv('data/df_razmetka.csv', index_col=[0])"
   ]
  },
  {
   "cell_type": "code",
   "execution_count": 4,
   "metadata": {},
   "outputs": [],
   "source": [
    "df_fin = df_total.copy()"
   ]
  },
  {
   "cell_type": "code",
   "execution_count": 5,
   "metadata": {},
   "outputs": [],
   "source": [
    "df_fin['extr2'] = df_razmetka['extr2']"
   ]
  },
  {
   "cell_type": "code",
   "execution_count": 6,
   "metadata": {},
   "outputs": [],
   "source": [
    "df_fin.drop(columns=['symbol_perp','time_diff', 'diff', 'diff_shift1', 'is_extremum'], inplace=True)"
   ]
  },
  {
   "cell_type": "code",
   "execution_count": 7,
   "metadata": {},
   "outputs": [
    {
     "data": {
      "text/html": [
       "<div>\n",
       "<style scoped>\n",
       "    .dataframe tbody tr th:only-of-type {\n",
       "        vertical-align: middle;\n",
       "    }\n",
       "\n",
       "    .dataframe tbody tr th {\n",
       "        vertical-align: top;\n",
       "    }\n",
       "\n",
       "    .dataframe thead tr th {\n",
       "        text-align: left;\n",
       "    }\n",
       "\n",
       "    .dataframe thead tr:last-of-type th {\n",
       "        text-align: right;\n",
       "    }\n",
       "</style>\n",
       "<table border=\"1\" class=\"dataframe\">\n",
       "  <thead>\n",
       "    <tr>\n",
       "      <th></th>\n",
       "      <th colspan=\"2\" halign=\"left\">timestamp</th>\n",
       "    </tr>\n",
       "    <tr>\n",
       "      <th></th>\n",
       "      <th>min</th>\n",
       "      <th>max</th>\n",
       "    </tr>\n",
       "    <tr>\n",
       "      <th>symbol_cq</th>\n",
       "      <th></th>\n",
       "      <th></th>\n",
       "    </tr>\n",
       "  </thead>\n",
       "  <tbody>\n",
       "    <tr>\n",
       "      <th>BTCUSDT_220930</th>\n",
       "      <td>2022-08-23 09:58:00</td>\n",
       "      <td>2022-09-30 08:00:00</td>\n",
       "    </tr>\n",
       "    <tr>\n",
       "      <th>BTCUSDT_221230</th>\n",
       "      <td>2022-09-30 08:01:00</td>\n",
       "      <td>2022-12-30 08:00:00</td>\n",
       "    </tr>\n",
       "    <tr>\n",
       "      <th>BTCUSDT_230331</th>\n",
       "      <td>2022-12-30 08:01:00</td>\n",
       "      <td>2023-03-31 08:00:00</td>\n",
       "    </tr>\n",
       "    <tr>\n",
       "      <th>BTCUSDT_230630</th>\n",
       "      <td>2023-03-31 08:01:00</td>\n",
       "      <td>2023-05-15 08:16:00</td>\n",
       "    </tr>\n",
       "  </tbody>\n",
       "</table>\n",
       "</div>"
      ],
      "text/plain": [
       "                         timestamp                    \n",
       "                               min                 max\n",
       "symbol_cq                                             \n",
       "BTCUSDT_220930 2022-08-23 09:58:00 2022-09-30 08:00:00\n",
       "BTCUSDT_221230 2022-09-30 08:01:00 2022-12-30 08:00:00\n",
       "BTCUSDT_230331 2022-12-30 08:01:00 2023-03-31 08:00:00\n",
       "BTCUSDT_230630 2023-03-31 08:01:00 2023-05-15 08:16:00"
      ]
     },
     "execution_count": 7,
     "metadata": {},
     "output_type": "execute_result"
    }
   ],
   "source": [
    "df_fin.groupby('symbol_cq').agg({'timestamp':['min', 'max']}).apply(lambda x: pd.to_datetime(x, unit='s'))"
   ]
  },
  {
   "attachments": {},
   "cell_type": "markdown",
   "metadata": {},
   "source": [
    "Lets imagine our range of opening contract lays between \n",
    "\n",
    "(high + max(open, close))/2\n",
    "\n",
    "and\n",
    "\n",
    "(low + min(open, close))/2"
   ]
  },
  {
   "cell_type": "code",
   "execution_count": 8,
   "metadata": {},
   "outputs": [],
   "source": [
    "df_fin['low_border'] = (df_fin['low_perp'] + df_fin[['open_perp', 'close_perp']].min(axis=1)) / 2\n",
    "df_fin['up_border'] = (df_fin['high_perp'] + df_fin[['open_perp', 'close_perp']].max(axis=1)) / 2"
   ]
  },
  {
   "cell_type": "code",
   "execution_count": 9,
   "metadata": {},
   "outputs": [
    {
     "data": {
      "text/html": [
       "<div>\n",
       "<style scoped>\n",
       "    .dataframe tbody tr th:only-of-type {\n",
       "        vertical-align: middle;\n",
       "    }\n",
       "\n",
       "    .dataframe tbody tr th {\n",
       "        vertical-align: top;\n",
       "    }\n",
       "\n",
       "    .dataframe thead th {\n",
       "        text-align: right;\n",
       "    }\n",
       "</style>\n",
       "<table border=\"1\" class=\"dataframe\">\n",
       "  <thead>\n",
       "    <tr style=\"text-align: right;\">\n",
       "      <th></th>\n",
       "      <th>timestamp</th>\n",
       "      <th>open_perp</th>\n",
       "      <th>close_perp</th>\n",
       "      <th>low_perp</th>\n",
       "      <th>high_perp</th>\n",
       "      <th>volume_perp</th>\n",
       "      <th>trades_perp</th>\n",
       "      <th>symbol_cq</th>\n",
       "      <th>open_cq</th>\n",
       "      <th>close_cq</th>\n",
       "      <th>low_cq</th>\n",
       "      <th>high_cq</th>\n",
       "      <th>volume_cq</th>\n",
       "      <th>trades_cq</th>\n",
       "      <th>bidPrice_perp</th>\n",
       "      <th>bidQty_perp</th>\n",
       "      <th>askPrice_perp</th>\n",
       "      <th>askQty_perp</th>\n",
       "      <th>funding_rate</th>\n",
       "      <th>bidPrice_cq</th>\n",
       "      <th>bidQty_cq</th>\n",
       "      <th>askPrice_cq</th>\n",
       "      <th>askQty_cq</th>\n",
       "      <th>time_left</th>\n",
       "      <th>ismaxima</th>\n",
       "      <th>isminima</th>\n",
       "      <th>extr2</th>\n",
       "      <th>low_border</th>\n",
       "      <th>up_border</th>\n",
       "    </tr>\n",
       "  </thead>\n",
       "  <tbody>\n",
       "    <tr>\n",
       "      <th>0</th>\n",
       "      <td>1661248680</td>\n",
       "      <td>21476.3</td>\n",
       "      <td>21459.6</td>\n",
       "      <td>21451.0</td>\n",
       "      <td>21479.8</td>\n",
       "      <td>413.330</td>\n",
       "      <td>3596</td>\n",
       "      <td>BTCUSDT_220930</td>\n",
       "      <td>21511.1</td>\n",
       "      <td>21483.9</td>\n",
       "      <td>21483.9</td>\n",
       "      <td>21511.1</td>\n",
       "      <td>1.659</td>\n",
       "      <td>22</td>\n",
       "      <td>21476.2</td>\n",
       "      <td>8.013</td>\n",
       "      <td>21476.3</td>\n",
       "      <td>6.975</td>\n",
       "      <td>0.000011</td>\n",
       "      <td>21502.4</td>\n",
       "      <td>0.019</td>\n",
       "      <td>21508.0</td>\n",
       "      <td>0.071</td>\n",
       "      <td>3276120</td>\n",
       "      <td>False</td>\n",
       "      <td>False</td>\n",
       "      <td>False</td>\n",
       "      <td>21455.3</td>\n",
       "      <td>21478.05</td>\n",
       "    </tr>\n",
       "    <tr>\n",
       "      <th>1</th>\n",
       "      <td>1661248740</td>\n",
       "      <td>21459.7</td>\n",
       "      <td>21430.2</td>\n",
       "      <td>21430.2</td>\n",
       "      <td>21459.7</td>\n",
       "      <td>378.801</td>\n",
       "      <td>3206</td>\n",
       "      <td>BTCUSDT_220930</td>\n",
       "      <td>21493.2</td>\n",
       "      <td>21453.5</td>\n",
       "      <td>21453.5</td>\n",
       "      <td>21493.2</td>\n",
       "      <td>0.579</td>\n",
       "      <td>40</td>\n",
       "      <td>21459.1</td>\n",
       "      <td>3.420</td>\n",
       "      <td>21459.2</td>\n",
       "      <td>14.399</td>\n",
       "      <td>0.000012</td>\n",
       "      <td>21487.4</td>\n",
       "      <td>0.019</td>\n",
       "      <td>21493.3</td>\n",
       "      <td>0.050</td>\n",
       "      <td>3276060</td>\n",
       "      <td>False</td>\n",
       "      <td>False</td>\n",
       "      <td>False</td>\n",
       "      <td>21430.2</td>\n",
       "      <td>21459.70</td>\n",
       "    </tr>\n",
       "    <tr>\n",
       "      <th>2</th>\n",
       "      <td>1661248800</td>\n",
       "      <td>21430.3</td>\n",
       "      <td>21445.0</td>\n",
       "      <td>21414.1</td>\n",
       "      <td>21445.0</td>\n",
       "      <td>619.156</td>\n",
       "      <td>5519</td>\n",
       "      <td>BTCUSDT_220930</td>\n",
       "      <td>21459.9</td>\n",
       "      <td>21478.3</td>\n",
       "      <td>21440.6</td>\n",
       "      <td>21478.4</td>\n",
       "      <td>1.392</td>\n",
       "      <td>46</td>\n",
       "      <td>21432.6</td>\n",
       "      <td>0.820</td>\n",
       "      <td>21434.3</td>\n",
       "      <td>0.004</td>\n",
       "      <td>0.000012</td>\n",
       "      <td>21456.4</td>\n",
       "      <td>0.169</td>\n",
       "      <td>21462.8</td>\n",
       "      <td>0.071</td>\n",
       "      <td>3276000</td>\n",
       "      <td>False</td>\n",
       "      <td>True</td>\n",
       "      <td>False</td>\n",
       "      <td>21422.2</td>\n",
       "      <td>21445.00</td>\n",
       "    </tr>\n",
       "    <tr>\n",
       "      <th>3</th>\n",
       "      <td>1661248860</td>\n",
       "      <td>21445.0</td>\n",
       "      <td>21445.0</td>\n",
       "      <td>21430.0</td>\n",
       "      <td>21446.8</td>\n",
       "      <td>311.295</td>\n",
       "      <td>3116</td>\n",
       "      <td>BTCUSDT_220930</td>\n",
       "      <td>21476.7</td>\n",
       "      <td>21470.2</td>\n",
       "      <td>21460.0</td>\n",
       "      <td>21476.7</td>\n",
       "      <td>1.419</td>\n",
       "      <td>41</td>\n",
       "      <td>21444.9</td>\n",
       "      <td>25.023</td>\n",
       "      <td>21445.0</td>\n",
       "      <td>1.005</td>\n",
       "      <td>0.000011</td>\n",
       "      <td>21476.7</td>\n",
       "      <td>0.100</td>\n",
       "      <td>21478.3</td>\n",
       "      <td>0.054</td>\n",
       "      <td>3275940</td>\n",
       "      <td>True</td>\n",
       "      <td>False</td>\n",
       "      <td>True</td>\n",
       "      <td>21437.5</td>\n",
       "      <td>21445.90</td>\n",
       "    </tr>\n",
       "    <tr>\n",
       "      <th>4</th>\n",
       "      <td>1661248920</td>\n",
       "      <td>21445.0</td>\n",
       "      <td>21431.2</td>\n",
       "      <td>21430.0</td>\n",
       "      <td>21448.6</td>\n",
       "      <td>250.049</td>\n",
       "      <td>2848</td>\n",
       "      <td>BTCUSDT_220930</td>\n",
       "      <td>21479.4</td>\n",
       "      <td>21463.8</td>\n",
       "      <td>21460.4</td>\n",
       "      <td>21479.5</td>\n",
       "      <td>0.400</td>\n",
       "      <td>24</td>\n",
       "      <td>21444.9</td>\n",
       "      <td>17.361</td>\n",
       "      <td>21445.0</td>\n",
       "      <td>1.806</td>\n",
       "      <td>0.000010</td>\n",
       "      <td>21471.6</td>\n",
       "      <td>0.019</td>\n",
       "      <td>21476.5</td>\n",
       "      <td>0.121</td>\n",
       "      <td>3275880</td>\n",
       "      <td>False</td>\n",
       "      <td>False</td>\n",
       "      <td>False</td>\n",
       "      <td>21430.6</td>\n",
       "      <td>21446.80</td>\n",
       "    </tr>\n",
       "  </tbody>\n",
       "</table>\n",
       "</div>"
      ],
      "text/plain": [
       "    timestamp  open_perp  close_perp  low_perp  high_perp  volume_perp   \n",
       "0  1661248680    21476.3     21459.6   21451.0    21479.8      413.330  \\\n",
       "1  1661248740    21459.7     21430.2   21430.2    21459.7      378.801   \n",
       "2  1661248800    21430.3     21445.0   21414.1    21445.0      619.156   \n",
       "3  1661248860    21445.0     21445.0   21430.0    21446.8      311.295   \n",
       "4  1661248920    21445.0     21431.2   21430.0    21448.6      250.049   \n",
       "\n",
       "   trades_perp       symbol_cq  open_cq  close_cq   low_cq  high_cq   \n",
       "0         3596  BTCUSDT_220930  21511.1   21483.9  21483.9  21511.1  \\\n",
       "1         3206  BTCUSDT_220930  21493.2   21453.5  21453.5  21493.2   \n",
       "2         5519  BTCUSDT_220930  21459.9   21478.3  21440.6  21478.4   \n",
       "3         3116  BTCUSDT_220930  21476.7   21470.2  21460.0  21476.7   \n",
       "4         2848  BTCUSDT_220930  21479.4   21463.8  21460.4  21479.5   \n",
       "\n",
       "   volume_cq  trades_cq  bidPrice_perp  bidQty_perp  askPrice_perp   \n",
       "0      1.659         22        21476.2        8.013        21476.3  \\\n",
       "1      0.579         40        21459.1        3.420        21459.2   \n",
       "2      1.392         46        21432.6        0.820        21434.3   \n",
       "3      1.419         41        21444.9       25.023        21445.0   \n",
       "4      0.400         24        21444.9       17.361        21445.0   \n",
       "\n",
       "   askQty_perp  funding_rate  bidPrice_cq  bidQty_cq  askPrice_cq  askQty_cq   \n",
       "0        6.975      0.000011      21502.4      0.019      21508.0      0.071  \\\n",
       "1       14.399      0.000012      21487.4      0.019      21493.3      0.050   \n",
       "2        0.004      0.000012      21456.4      0.169      21462.8      0.071   \n",
       "3        1.005      0.000011      21476.7      0.100      21478.3      0.054   \n",
       "4        1.806      0.000010      21471.6      0.019      21476.5      0.121   \n",
       "\n",
       "   time_left  ismaxima  isminima  extr2  low_border  up_border  \n",
       "0    3276120     False     False  False     21455.3   21478.05  \n",
       "1    3276060     False     False  False     21430.2   21459.70  \n",
       "2    3276000     False      True  False     21422.2   21445.00  \n",
       "3    3275940      True     False   True     21437.5   21445.90  \n",
       "4    3275880     False     False  False     21430.6   21446.80  "
      ]
     },
     "execution_count": 9,
     "metadata": {},
     "output_type": "execute_result"
    }
   ],
   "source": [
    "df_fin.head()"
   ]
  },
  {
   "cell_type": "code",
   "execution_count": 10,
   "metadata": {},
   "outputs": [],
   "source": [
    "df_fin.loc[df_fin['extr2'] & df_fin['ismaxima'], 'target'] = df_fin.loc[df_fin['extr2'] & df_fin['ismaxima'], 'up_border']\n",
    "df_fin.loc[df_fin['extr2'] & df_fin['isminima'], 'target'] = df_fin.loc[df_fin['extr2'] & df_fin['isminima'], 'low_border']"
   ]
  },
  {
   "cell_type": "code",
   "execution_count": 11,
   "metadata": {},
   "outputs": [],
   "source": [
    "df_fin['target'] = df_fin['target'].shift(-1).fillna(method='bfill')\n",
    "df_fin.dropna(inplace=True)"
   ]
  },
  {
   "cell_type": "code",
   "execution_count": 12,
   "metadata": {},
   "outputs": [
    {
     "data": {
      "text/html": [
       "<div>\n",
       "<style scoped>\n",
       "    .dataframe tbody tr th:only-of-type {\n",
       "        vertical-align: middle;\n",
       "    }\n",
       "\n",
       "    .dataframe tbody tr th {\n",
       "        vertical-align: top;\n",
       "    }\n",
       "\n",
       "    .dataframe thead th {\n",
       "        text-align: right;\n",
       "    }\n",
       "</style>\n",
       "<table border=\"1\" class=\"dataframe\">\n",
       "  <thead>\n",
       "    <tr style=\"text-align: right;\">\n",
       "      <th></th>\n",
       "      <th>timestamp</th>\n",
       "      <th>open_perp</th>\n",
       "      <th>close_perp</th>\n",
       "      <th>low_perp</th>\n",
       "      <th>high_perp</th>\n",
       "      <th>volume_perp</th>\n",
       "      <th>trades_perp</th>\n",
       "      <th>symbol_cq</th>\n",
       "      <th>open_cq</th>\n",
       "      <th>close_cq</th>\n",
       "      <th>low_cq</th>\n",
       "      <th>high_cq</th>\n",
       "      <th>volume_cq</th>\n",
       "      <th>trades_cq</th>\n",
       "      <th>bidPrice_perp</th>\n",
       "      <th>bidQty_perp</th>\n",
       "      <th>askPrice_perp</th>\n",
       "      <th>askQty_perp</th>\n",
       "      <th>funding_rate</th>\n",
       "      <th>bidPrice_cq</th>\n",
       "      <th>bidQty_cq</th>\n",
       "      <th>askPrice_cq</th>\n",
       "      <th>askQty_cq</th>\n",
       "      <th>time_left</th>\n",
       "      <th>ismaxima</th>\n",
       "      <th>isminima</th>\n",
       "      <th>extr2</th>\n",
       "      <th>low_border</th>\n",
       "      <th>up_border</th>\n",
       "      <th>target</th>\n",
       "    </tr>\n",
       "  </thead>\n",
       "  <tbody>\n",
       "    <tr>\n",
       "      <th>0</th>\n",
       "      <td>1661248680</td>\n",
       "      <td>21476.3</td>\n",
       "      <td>21459.6</td>\n",
       "      <td>21451.0</td>\n",
       "      <td>21479.8</td>\n",
       "      <td>413.330</td>\n",
       "      <td>3596</td>\n",
       "      <td>BTCUSDT_220930</td>\n",
       "      <td>21511.1</td>\n",
       "      <td>21483.9</td>\n",
       "      <td>21483.9</td>\n",
       "      <td>21511.1</td>\n",
       "      <td>1.659</td>\n",
       "      <td>22</td>\n",
       "      <td>21476.2</td>\n",
       "      <td>8.013</td>\n",
       "      <td>21476.3</td>\n",
       "      <td>6.975</td>\n",
       "      <td>0.000011</td>\n",
       "      <td>21502.4</td>\n",
       "      <td>0.019</td>\n",
       "      <td>21508.0</td>\n",
       "      <td>0.071</td>\n",
       "      <td>3276120</td>\n",
       "      <td>False</td>\n",
       "      <td>False</td>\n",
       "      <td>False</td>\n",
       "      <td>21455.3</td>\n",
       "      <td>21478.05</td>\n",
       "      <td>21445.9</td>\n",
       "    </tr>\n",
       "    <tr>\n",
       "      <th>1</th>\n",
       "      <td>1661248740</td>\n",
       "      <td>21459.7</td>\n",
       "      <td>21430.2</td>\n",
       "      <td>21430.2</td>\n",
       "      <td>21459.7</td>\n",
       "      <td>378.801</td>\n",
       "      <td>3206</td>\n",
       "      <td>BTCUSDT_220930</td>\n",
       "      <td>21493.2</td>\n",
       "      <td>21453.5</td>\n",
       "      <td>21453.5</td>\n",
       "      <td>21493.2</td>\n",
       "      <td>0.579</td>\n",
       "      <td>40</td>\n",
       "      <td>21459.1</td>\n",
       "      <td>3.420</td>\n",
       "      <td>21459.2</td>\n",
       "      <td>14.399</td>\n",
       "      <td>0.000012</td>\n",
       "      <td>21487.4</td>\n",
       "      <td>0.019</td>\n",
       "      <td>21493.3</td>\n",
       "      <td>0.050</td>\n",
       "      <td>3276060</td>\n",
       "      <td>False</td>\n",
       "      <td>False</td>\n",
       "      <td>False</td>\n",
       "      <td>21430.2</td>\n",
       "      <td>21459.70</td>\n",
       "      <td>21445.9</td>\n",
       "    </tr>\n",
       "    <tr>\n",
       "      <th>2</th>\n",
       "      <td>1661248800</td>\n",
       "      <td>21430.3</td>\n",
       "      <td>21445.0</td>\n",
       "      <td>21414.1</td>\n",
       "      <td>21445.0</td>\n",
       "      <td>619.156</td>\n",
       "      <td>5519</td>\n",
       "      <td>BTCUSDT_220930</td>\n",
       "      <td>21459.9</td>\n",
       "      <td>21478.3</td>\n",
       "      <td>21440.6</td>\n",
       "      <td>21478.4</td>\n",
       "      <td>1.392</td>\n",
       "      <td>46</td>\n",
       "      <td>21432.6</td>\n",
       "      <td>0.820</td>\n",
       "      <td>21434.3</td>\n",
       "      <td>0.004</td>\n",
       "      <td>0.000012</td>\n",
       "      <td>21456.4</td>\n",
       "      <td>0.169</td>\n",
       "      <td>21462.8</td>\n",
       "      <td>0.071</td>\n",
       "      <td>3276000</td>\n",
       "      <td>False</td>\n",
       "      <td>True</td>\n",
       "      <td>False</td>\n",
       "      <td>21422.2</td>\n",
       "      <td>21445.00</td>\n",
       "      <td>21445.9</td>\n",
       "    </tr>\n",
       "    <tr>\n",
       "      <th>3</th>\n",
       "      <td>1661248860</td>\n",
       "      <td>21445.0</td>\n",
       "      <td>21445.0</td>\n",
       "      <td>21430.0</td>\n",
       "      <td>21446.8</td>\n",
       "      <td>311.295</td>\n",
       "      <td>3116</td>\n",
       "      <td>BTCUSDT_220930</td>\n",
       "      <td>21476.7</td>\n",
       "      <td>21470.2</td>\n",
       "      <td>21460.0</td>\n",
       "      <td>21476.7</td>\n",
       "      <td>1.419</td>\n",
       "      <td>41</td>\n",
       "      <td>21444.9</td>\n",
       "      <td>25.023</td>\n",
       "      <td>21445.0</td>\n",
       "      <td>1.005</td>\n",
       "      <td>0.000011</td>\n",
       "      <td>21476.7</td>\n",
       "      <td>0.100</td>\n",
       "      <td>21478.3</td>\n",
       "      <td>0.054</td>\n",
       "      <td>3275940</td>\n",
       "      <td>True</td>\n",
       "      <td>False</td>\n",
       "      <td>True</td>\n",
       "      <td>21437.5</td>\n",
       "      <td>21445.90</td>\n",
       "      <td>21344.8</td>\n",
       "    </tr>\n",
       "    <tr>\n",
       "      <th>4</th>\n",
       "      <td>1661248920</td>\n",
       "      <td>21445.0</td>\n",
       "      <td>21431.2</td>\n",
       "      <td>21430.0</td>\n",
       "      <td>21448.6</td>\n",
       "      <td>250.049</td>\n",
       "      <td>2848</td>\n",
       "      <td>BTCUSDT_220930</td>\n",
       "      <td>21479.4</td>\n",
       "      <td>21463.8</td>\n",
       "      <td>21460.4</td>\n",
       "      <td>21479.5</td>\n",
       "      <td>0.400</td>\n",
       "      <td>24</td>\n",
       "      <td>21444.9</td>\n",
       "      <td>17.361</td>\n",
       "      <td>21445.0</td>\n",
       "      <td>1.806</td>\n",
       "      <td>0.000010</td>\n",
       "      <td>21471.6</td>\n",
       "      <td>0.019</td>\n",
       "      <td>21476.5</td>\n",
       "      <td>0.121</td>\n",
       "      <td>3275880</td>\n",
       "      <td>False</td>\n",
       "      <td>False</td>\n",
       "      <td>False</td>\n",
       "      <td>21430.6</td>\n",
       "      <td>21446.80</td>\n",
       "      <td>21344.8</td>\n",
       "    </tr>\n",
       "  </tbody>\n",
       "</table>\n",
       "</div>"
      ],
      "text/plain": [
       "    timestamp  open_perp  close_perp  low_perp  high_perp  volume_perp   \n",
       "0  1661248680    21476.3     21459.6   21451.0    21479.8      413.330  \\\n",
       "1  1661248740    21459.7     21430.2   21430.2    21459.7      378.801   \n",
       "2  1661248800    21430.3     21445.0   21414.1    21445.0      619.156   \n",
       "3  1661248860    21445.0     21445.0   21430.0    21446.8      311.295   \n",
       "4  1661248920    21445.0     21431.2   21430.0    21448.6      250.049   \n",
       "\n",
       "   trades_perp       symbol_cq  open_cq  close_cq   low_cq  high_cq   \n",
       "0         3596  BTCUSDT_220930  21511.1   21483.9  21483.9  21511.1  \\\n",
       "1         3206  BTCUSDT_220930  21493.2   21453.5  21453.5  21493.2   \n",
       "2         5519  BTCUSDT_220930  21459.9   21478.3  21440.6  21478.4   \n",
       "3         3116  BTCUSDT_220930  21476.7   21470.2  21460.0  21476.7   \n",
       "4         2848  BTCUSDT_220930  21479.4   21463.8  21460.4  21479.5   \n",
       "\n",
       "   volume_cq  trades_cq  bidPrice_perp  bidQty_perp  askPrice_perp   \n",
       "0      1.659         22        21476.2        8.013        21476.3  \\\n",
       "1      0.579         40        21459.1        3.420        21459.2   \n",
       "2      1.392         46        21432.6        0.820        21434.3   \n",
       "3      1.419         41        21444.9       25.023        21445.0   \n",
       "4      0.400         24        21444.9       17.361        21445.0   \n",
       "\n",
       "   askQty_perp  funding_rate  bidPrice_cq  bidQty_cq  askPrice_cq  askQty_cq   \n",
       "0        6.975      0.000011      21502.4      0.019      21508.0      0.071  \\\n",
       "1       14.399      0.000012      21487.4      0.019      21493.3      0.050   \n",
       "2        0.004      0.000012      21456.4      0.169      21462.8      0.071   \n",
       "3        1.005      0.000011      21476.7      0.100      21478.3      0.054   \n",
       "4        1.806      0.000010      21471.6      0.019      21476.5      0.121   \n",
       "\n",
       "   time_left  ismaxima  isminima  extr2  low_border  up_border   target  \n",
       "0    3276120     False     False  False     21455.3   21478.05  21445.9  \n",
       "1    3276060     False     False  False     21430.2   21459.70  21445.9  \n",
       "2    3276000     False      True  False     21422.2   21445.00  21445.9  \n",
       "3    3275940      True     False   True     21437.5   21445.90  21344.8  \n",
       "4    3275880     False     False  False     21430.6   21446.80  21344.8  "
      ]
     },
     "execution_count": 12,
     "metadata": {},
     "output_type": "execute_result"
    }
   ],
   "source": [
    "df_fin.head()"
   ]
  },
  {
   "attachments": {},
   "cell_type": "markdown",
   "metadata": {},
   "source": [
    "## Train test"
   ]
  },
  {
   "cell_type": "code",
   "execution_count": 13,
   "metadata": {},
   "outputs": [],
   "source": [
    "X = df_fin.drop(columns= ['timestamp', 'symbol_cq', 'ismaxima', 'isminima', 'extr2', 'low_border', 'up_border', 'target'])\n",
    "y = df_fin['target']"
   ]
  },
  {
   "cell_type": "code",
   "execution_count": 14,
   "metadata": {},
   "outputs": [],
   "source": [
    "from sklearn.preprocessing import StandardScaler\n",
    "\n",
    "X_scaled = StandardScaler().fit_transform(X)\n",
    "y_scaled = StandardScaler().fit_transform(y.values.reshape(-1,1))"
   ]
  },
  {
   "cell_type": "code",
   "execution_count": 15,
   "metadata": {},
   "outputs": [],
   "source": [
    "def create_lstm_data(X, y, look_back=60):\n",
    "    arrays = [np.array(X[i : i+look_back]) for i in range(len(X) - look_back + 1)]\n",
    "    lstm_data = np.stack(arrays)\n",
    "    lstm_target = y_scaled[look_back - 1:].reshape(len(y) - look_back + 1)\n",
    "    print('initial X shape: ', np.array(X).shape, 'y shape: ', y.shape, 'look_back: ', look_back)\n",
    "    print('output X shape: ', lstm_data.shape, 'y shape:', lstm_target.shape)\n",
    "    return lstm_data, lstm_target\n"
   ]
  },
  {
   "cell_type": "code",
   "execution_count": 16,
   "metadata": {},
   "outputs": [
    {
     "name": "stdout",
     "output_type": "stream",
     "text": [
      "initial X shape:  (381405, 22) y shape:  (381405, 1) look_back:  60\n",
      "output X shape:  (381346, 60, 22) y shape: (381346,)\n"
     ]
    }
   ],
   "source": [
    "X_lstm, y_lstm = create_lstm_data(X_scaled, y_scaled)"
   ]
  },
  {
   "cell_type": "code",
   "execution_count": 17,
   "metadata": {},
   "outputs": [
    {
     "name": "stdout",
     "output_type": "stream",
     "text": [
      "(350000, 60, 22) (350000,) (15000, 60, 22) (15000,) (16346, 60, 22) (16346,)\n"
     ]
    }
   ],
   "source": [
    "X_train, X_val, X_test = X_lstm[:350000], X_lstm[350000:365000], X_lstm[365000:]\n",
    "y_train, y_val, y_test = y_lstm[:350000], y_lstm[350000:365000], y_lstm[365000:]\n",
    "\n",
    "print(X_train.shape, y_train.shape, X_val.shape, y_val.shape, X_test.shape, y_test.shape)"
   ]
  },
  {
   "attachments": {},
   "cell_type": "markdown",
   "metadata": {},
   "source": [
    "## Features"
   ]
  },
  {
   "cell_type": "code",
   "execution_count": 18,
   "metadata": {},
   "outputs": [],
   "source": [
    "import tsfel\n",
    "cfg = tsfel.get_features_by_domain()"
   ]
  },
  {
   "cell_type": "code",
   "execution_count": 19,
   "metadata": {},
   "outputs": [],
   "source": [
    "from IPython.display import clear_output"
   ]
  },
  {
   "cell_type": "code",
   "execution_count": 26,
   "metadata": {},
   "outputs": [],
   "source": [
    "def extract_features(window, progress=0):\n",
    "    clear_output()\n",
    "    print(f\"{progress}/381346 ({round(progress/3813.46,2)}%)\")\n",
    "    return tsfel.time_series_features_extractor(cfg, window, n_jobs = 30, fs=100)\n",
    "\n",
    "extract_all_features = np.vectorize(extract_features)"
   ]
  },
  {
   "cell_type": "code",
   "execution_count": 26,
   "metadata": {},
   "outputs": [
    {
     "name": "stdout",
     "output_type": "stream",
     "text": [
      "9/16040 (0.06%)\n",
      "*** Feature extraction started ***\n"
     ]
    },
    {
     "data": {
      "text/html": [
       "\n",
       "              <p>\n",
       "                  Progress: 3% Complete\n",
       "              <p/>            \n",
       "              <progress\n",
       "                  value='2'\n",
       "                  max='60',\n",
       "                  style='width: 25%',\n",
       "              >\n",
       "                  2\n",
       "              </progress>\n",
       "\n",
       "    "
      ],
      "text/plain": [
       "<IPython.core.display.HTML object>"
      ]
     },
     "metadata": {},
     "output_type": "display_data"
    },
    {
     "name": "stdout",
     "output_type": "stream",
     "text": [
      "\n",
      "*** Feature extraction finished ***\n"
     ]
    }
   ],
   "source": [
    "temp = np.stack([extract_features(X_lstm[i], i) for i in range(381344:381344)])"
   ]
  },
  {
   "cell_type": "code",
   "execution_count": 49,
   "metadata": {},
   "outputs": [
    {
     "data": {
      "text/plain": [
       "(10, 60, 145)"
      ]
     },
     "execution_count": 49,
     "metadata": {},
     "output_type": "execute_result"
    }
   ],
   "source": [
    "temp.shape"
   ]
  },
  {
   "cell_type": "code",
   "execution_count": 23,
   "metadata": {},
   "outputs": [
    {
     "data": {
      "text/plain": [
       "(60, 22)"
      ]
     },
     "execution_count": 23,
     "metadata": {},
     "output_type": "execute_result"
    }
   ],
   "source": [
    "X_train[0].shape"
   ]
  },
  {
   "attachments": {},
   "cell_type": "markdown",
   "metadata": {},
   "source": [
    "## Simple Keras LSTM model"
   ]
  },
  {
   "cell_type": "code",
   "execution_count": 18,
   "metadata": {},
   "outputs": [],
   "source": [
    "# import os\n",
    "# os.environ[\"CUDA_VISIBLE_DEVICES\"] = \"-1\""
   ]
  },
  {
   "cell_type": "code",
   "execution_count": 29,
   "metadata": {},
   "outputs": [
    {
     "ename": "ModuleNotFoundError",
     "evalue": "No module named 'tensorflow'",
     "output_type": "error",
     "traceback": [
      "\u001b[1;31m---------------------------------------------------------------------------\u001b[0m",
      "\u001b[1;31mModuleNotFoundError\u001b[0m                       Traceback (most recent call last)",
      "\u001b[1;32mc:\\Users\\krotenko.n\\Documents\\GitHub\\my_diploma\\model.ipynb Cell 31\u001b[0m in \u001b[0;36m<cell line: 2>\u001b[1;34m()\u001b[0m\n\u001b[0;32m      <a href='vscode-notebook-cell:/c%3A/Users/krotenko.n/Documents/GitHub/my_diploma/model.ipynb#X42sZmlsZQ%3D%3D?line=0'>1</a>\u001b[0m \u001b[39mimport\u001b[39;00m \u001b[39mnumpy\u001b[39;00m \u001b[39mas\u001b[39;00m \u001b[39mnp\u001b[39;00m\n\u001b[1;32m----> <a href='vscode-notebook-cell:/c%3A/Users/krotenko.n/Documents/GitHub/my_diploma/model.ipynb#X42sZmlsZQ%3D%3D?line=1'>2</a>\u001b[0m \u001b[39mimport\u001b[39;00m \u001b[39mtensorflow\u001b[39;00m \u001b[39mas\u001b[39;00m \u001b[39mtf\u001b[39;00m\n\u001b[0;32m      <a href='vscode-notebook-cell:/c%3A/Users/krotenko.n/Documents/GitHub/my_diploma/model.ipynb#X42sZmlsZQ%3D%3D?line=2'>3</a>\u001b[0m \u001b[39mfrom\u001b[39;00m \u001b[39mtensorflow\u001b[39;00m \u001b[39mimport\u001b[39;00m keras\n\u001b[0;32m      <a href='vscode-notebook-cell:/c%3A/Users/krotenko.n/Documents/GitHub/my_diploma/model.ipynb#X42sZmlsZQ%3D%3D?line=3'>4</a>\u001b[0m \u001b[39mfrom\u001b[39;00m \u001b[39mtensorflow\u001b[39;00m\u001b[39m.\u001b[39;00m\u001b[39mkeras\u001b[39;00m \u001b[39mimport\u001b[39;00m layers\n",
      "\u001b[1;31mModuleNotFoundError\u001b[0m: No module named 'tensorflow'"
     ]
    }
   ],
   "source": [
    "import numpy as np\n",
    "import tensorflow as tf\n",
    "from tensorflow import keras\n",
    "from tensorflow.keras import layers\n",
    "from tensorflow.keras.activations import relu\n",
    "from tensorflow.keras.layers import LSTM, Dense, Activation"
   ]
  },
  {
   "cell_type": "code",
   "execution_count": 20,
   "metadata": {},
   "outputs": [
    {
     "data": {
      "text/plain": [
       "[PhysicalDevice(name='/physical_device:GPU:0', device_type='GPU')]"
      ]
     },
     "execution_count": 20,
     "metadata": {},
     "output_type": "execute_result"
    }
   ],
   "source": [
    "tf.config.list_physical_devices('GPU')"
   ]
  },
  {
   "cell_type": "code",
   "execution_count": 21,
   "metadata": {},
   "outputs": [],
   "source": [
    "# create and fit the LSTM network\n",
    "model = keras.models.Sequential()\n",
    "model.add(LSTM(128, input_shape=(60, 22)))\n",
    "model.add(Dense(128, activation='relu'))\n",
    "model.add(Dense(64, activation='relu'))\n",
    "model.add(Dense(32, activation='relu'))\n",
    "model.add(Dense(1, activation='linear'))"
   ]
  },
  {
   "cell_type": "code",
   "execution_count": 22,
   "metadata": {},
   "outputs": [
    {
     "name": "stdout",
     "output_type": "stream",
     "text": [
      "Epoch 1/20\n",
      "342/342 [==============================] - 4s 7ms/step - loss: 0.0105 - val_loss: 0.0018\n",
      "Epoch 2/20\n",
      "342/342 [==============================] - 2s 6ms/step - loss: 7.3004e-04 - val_loss: 0.0016\n",
      "Epoch 3/20\n",
      "342/342 [==============================] - 2s 7ms/step - loss: 6.8778e-04 - val_loss: 0.0016\n",
      "Epoch 4/20\n",
      "342/342 [==============================] - 2s 6ms/step - loss: 6.7084e-04 - val_loss: 0.0014\n",
      "Epoch 5/20\n",
      "342/342 [==============================] - 2s 6ms/step - loss: 6.5852e-04 - val_loss: 0.0016\n",
      "Epoch 6/20\n",
      "342/342 [==============================] - 2s 6ms/step - loss: 6.5523e-04 - val_loss: 0.0015\n",
      "Epoch 7/20\n",
      "342/342 [==============================] - 2s 7ms/step - loss: 6.5147e-04 - val_loss: 0.0015\n",
      "Epoch 8/20\n",
      "342/342 [==============================] - 2s 6ms/step - loss: 6.5625e-04 - val_loss: 0.0014\n",
      "Epoch 9/20\n",
      "342/342 [==============================] - 2s 6ms/step - loss: 6.5141e-04 - val_loss: 0.0015\n",
      "Epoch 10/20\n",
      "342/342 [==============================] - 2s 6ms/step - loss: 6.3770e-04 - val_loss: 0.0016\n",
      "Epoch 11/20\n",
      "342/342 [==============================] - 2s 6ms/step - loss: 6.2862e-04 - val_loss: 0.0014\n",
      "Epoch 12/20\n",
      "342/342 [==============================] - 2s 6ms/step - loss: 6.2995e-04 - val_loss: 0.0014\n",
      "Epoch 13/20\n",
      "342/342 [==============================] - 2s 6ms/step - loss: 6.1798e-04 - val_loss: 0.0014\n",
      "Epoch 14/20\n",
      "342/342 [==============================] - 2s 7ms/step - loss: 6.1531e-04 - val_loss: 0.0014\n",
      "Epoch 15/20\n",
      "342/342 [==============================] - 2s 7ms/step - loss: 6.0415e-04 - val_loss: 0.0015\n",
      "Epoch 16/20\n",
      "342/342 [==============================] - 2s 6ms/step - loss: 6.0704e-04 - val_loss: 0.0016\n",
      "Epoch 17/20\n",
      "342/342 [==============================] - 2s 6ms/step - loss: 6.0609e-04 - val_loss: 0.0015\n",
      "Epoch 18/20\n",
      "342/342 [==============================] - 2s 6ms/step - loss: 5.8428e-04 - val_loss: 0.0016\n",
      "Epoch 19/20\n",
      "342/342 [==============================] - 2s 6ms/step - loss: 5.9048e-04 - val_loss: 0.0019\n",
      "Epoch 20/20\n",
      "342/342 [==============================] - 2s 6ms/step - loss: 5.6841e-04 - val_loss: 0.0016\n"
     ]
    },
    {
     "data": {
      "text/plain": [
       "<keras.callbacks.History at 0x20c0af4b7c0>"
      ]
     },
     "execution_count": 22,
     "metadata": {},
     "output_type": "execute_result"
    }
   ],
   "source": [
    "model.compile(loss='mean_squared_error', optimizer='adam')\n",
    "model.fit(X_train, y_train, validation_data=(X_val, y_val), epochs=20, batch_size=1024)\n"
   ]
  },
  {
   "cell_type": "code",
   "execution_count": null,
   "metadata": {},
   "outputs": [],
   "source": []
  }
 ],
 "metadata": {
  "kernelspec": {
   "display_name": "ml",
   "language": "python",
   "name": "python3"
  },
  "language_info": {
   "codemirror_mode": {
    "name": "ipython",
    "version": 3
   },
   "file_extension": ".py",
   "mimetype": "text/x-python",
   "name": "python",
   "nbconvert_exporter": "python",
   "pygments_lexer": "ipython3",
   "version": "3.8.16"
  },
  "orig_nbformat": 4
 },
 "nbformat": 4,
 "nbformat_minor": 2
}
