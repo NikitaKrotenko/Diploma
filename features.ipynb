{
 "cells": [
  {
   "cell_type": "code",
   "execution_count": 1,
   "metadata": {},
   "outputs": [],
   "source": [
    "import pandas as pd\n",
    "import numpy as np\n",
    "pd.set_option('display.max_columns', None)"
   ]
  },
  {
   "cell_type": "code",
   "execution_count": 2,
   "metadata": {},
   "outputs": [],
   "source": [
    "df_total = pd.read_csv('data/df_total.csv', index_col=[0])\n",
    "df_razmetka = pd.read_csv('data/df_razmetka.csv', index_col=[0])"
   ]
  },
  {
   "cell_type": "code",
   "execution_count": 3,
   "metadata": {},
   "outputs": [],
   "source": [
    "df_fin = df_total.copy()\n",
    "df_fin['extr2'] = df_razmetka['extr2']"
   ]
  },
  {
   "cell_type": "code",
   "execution_count": 4,
   "metadata": {},
   "outputs": [
    {
     "data": {
      "text/html": [
       "<div>\n",
       "<style scoped>\n",
       "    .dataframe tbody tr th:only-of-type {\n",
       "        vertical-align: middle;\n",
       "    }\n",
       "\n",
       "    .dataframe tbody tr th {\n",
       "        vertical-align: top;\n",
       "    }\n",
       "\n",
       "    .dataframe thead tr th {\n",
       "        text-align: left;\n",
       "    }\n",
       "\n",
       "    .dataframe thead tr:last-of-type th {\n",
       "        text-align: right;\n",
       "    }\n",
       "</style>\n",
       "<table border=\"1\" class=\"dataframe\">\n",
       "  <thead>\n",
       "    <tr>\n",
       "      <th></th>\n",
       "      <th colspan=\"2\" halign=\"left\">timestamp</th>\n",
       "    </tr>\n",
       "    <tr>\n",
       "      <th></th>\n",
       "      <th>min</th>\n",
       "      <th>max</th>\n",
       "    </tr>\n",
       "    <tr>\n",
       "      <th>symbol_cq</th>\n",
       "      <th></th>\n",
       "      <th></th>\n",
       "    </tr>\n",
       "  </thead>\n",
       "  <tbody>\n",
       "    <tr>\n",
       "      <th>BTCUSDT_220930</th>\n",
       "      <td>2022-08-23 09:58:00</td>\n",
       "      <td>2022-09-30 08:00:00</td>\n",
       "    </tr>\n",
       "    <tr>\n",
       "      <th>BTCUSDT_221230</th>\n",
       "      <td>2022-09-30 08:01:00</td>\n",
       "      <td>2022-12-30 08:00:00</td>\n",
       "    </tr>\n",
       "    <tr>\n",
       "      <th>BTCUSDT_230331</th>\n",
       "      <td>2022-12-30 08:01:00</td>\n",
       "      <td>2023-03-31 08:00:00</td>\n",
       "    </tr>\n",
       "    <tr>\n",
       "      <th>BTCUSDT_230630</th>\n",
       "      <td>2023-03-31 08:01:00</td>\n",
       "      <td>2023-05-15 08:16:00</td>\n",
       "    </tr>\n",
       "  </tbody>\n",
       "</table>\n",
       "</div>"
      ],
      "text/plain": [
       "                         timestamp                    \n",
       "                               min                 max\n",
       "symbol_cq                                             \n",
       "BTCUSDT_220930 2022-08-23 09:58:00 2022-09-30 08:00:00\n",
       "BTCUSDT_221230 2022-09-30 08:01:00 2022-12-30 08:00:00\n",
       "BTCUSDT_230331 2022-12-30 08:01:00 2023-03-31 08:00:00\n",
       "BTCUSDT_230630 2023-03-31 08:01:00 2023-05-15 08:16:00"
      ]
     },
     "execution_count": 4,
     "metadata": {},
     "output_type": "execute_result"
    }
   ],
   "source": [
    "df_fin.groupby('symbol_cq').agg({'timestamp':['min', 'max']}).apply(lambda x: pd.to_datetime(x, unit='s'))"
   ]
  },
  {
   "attachments": {},
   "cell_type": "markdown",
   "metadata": {},
   "source": [
    "Lets imagine our range of opening contract lays between \n",
    "\n",
    "(high + max(open, close))/2\n",
    "\n",
    "and\n",
    "\n",
    "(low + min(open, close))/2"
   ]
  },
  {
   "cell_type": "code",
   "execution_count": 5,
   "metadata": {},
   "outputs": [],
   "source": [
    "# df_fin['low_border'] = (df_fin['low_perp'] + df_fin[['open_perp', 'close_perp']].min(axis=1)) / 2\n",
    "# df_fin['up_border'] = (df_fin['high_perp'] + df_fin[['open_perp', 'close_perp']].max(axis=1)) / 2"
   ]
  },
  {
   "cell_type": "code",
   "execution_count": 6,
   "metadata": {},
   "outputs": [],
   "source": [
    "# df_fin.loc[df_fin['extr2'] & df_fin['ismaxima'], 'target'] = df_fin.loc[df_fin['extr2'] & df_fin['ismaxima'], 'up_border']\n",
    "# df_fin.loc[df_fin['extr2'] & df_fin['isminima'], 'target'] = df_fin.loc[df_fin['extr2'] & df_fin['isminima'], 'low_border']\n",
    "\n",
    "# df_fin['target'] = df_fin['target'].shift(-1).fillna(method='bfill')\n",
    "# df_fin.dropna(inplace=True)"
   ]
  },
  {
   "cell_type": "code",
   "execution_count": 7,
   "metadata": {},
   "outputs": [],
   "source": [
    "df_fin.loc[df_fin['extr2'], 'id_contract'] = range(16040)\n",
    "df_fin.fillna(method='backfill', inplace=True)\n",
    "df_fin.dropna(inplace=True)"
   ]
  },
  {
   "cell_type": "code",
   "execution_count": 8,
   "metadata": {},
   "outputs": [],
   "source": [
    "df_fin.drop(columns=['symbol_perp', 'symbol_cq', 'time_diff', 'diff', 'diff_shift1', 'is_extremum'], inplace=True)\n",
    "df_fin.drop(columns=['ismaxima', 'isminima', 'extr2'], inplace=True)\n"
   ]
  },
  {
   "cell_type": "code",
   "execution_count": 9,
   "metadata": {},
   "outputs": [],
   "source": [
    "# from tsfresh import extract_features, extract_relevant_features\n",
    "# extracted_features = extract_features(df_fin, \n",
    "#                                       column_id='id_contract', \n",
    "#                                       column_sort=\"timestamp\",\n",
    "#                                       n_jobs = 10)"
   ]
  },
  {
   "cell_type": "code",
   "execution_count": 10,
   "metadata": {},
   "outputs": [],
   "source": [
    "import tsfel"
   ]
  },
  {
   "cell_type": "code",
   "execution_count": 11,
   "metadata": {},
   "outputs": [
    {
     "name": "stdout",
     "output_type": "stream",
     "text": [
      "\n",
      "*** Feature extraction finished ***\n"
     ]
    }
   ],
   "source": [
    "# Retrieves a pre-defined feature configuration file to extract all available features\n",
    "cfg = tsfel.get_features_by_domain()\n",
    "\n",
    "# Extract features\n",
    "X = tsfel.time_series_features_extractor(cfg, df_fin, n_jobs = 11)\n"
   ]
  },
  {
   "cell_type": "code",
   "execution_count": 13,
   "metadata": {},
   "outputs": [
    {
     "data": {
      "text/plain": [
       "(1, 9336)"
      ]
     },
     "execution_count": 13,
     "metadata": {},
     "output_type": "execute_result"
    }
   ],
   "source": [
    "X.shape"
   ]
  }
 ],
 "metadata": {
  "kernelspec": {
   "display_name": "diploma_ml",
   "language": "python",
   "name": "python3"
  },
  "language_info": {
   "codemirror_mode": {
    "name": "ipython",
    "version": 3
   },
   "file_extension": ".py",
   "mimetype": "text/x-python",
   "name": "python",
   "nbconvert_exporter": "python",
   "pygments_lexer": "ipython3",
   "version": "3.8.16"
  },
  "orig_nbformat": 4
 },
 "nbformat": 4,
 "nbformat_minor": 2
}
